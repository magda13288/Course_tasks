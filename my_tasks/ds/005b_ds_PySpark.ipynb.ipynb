{
 "cells": [
  {
   "cell_type": "markdown",
   "metadata": {
    "application/vnd.databricks.v1+cell": {
     "cellMetadata": {},
     "inputWidgets": {},
     "nuid": "a76a467c-f664-4713-8635-655a3386410e",
     "showTitle": false,
     "tableResultSettingsMap": {},
     "title": ""
    }
   },
   "source": [
    "# Zadania – NYC Taxi, Flights oraz Airports\n"
   ]
  },
  {
   "cell_type": "code",
   "execution_count": 0,
   "metadata": {
    "application/vnd.databricks.v1+cell": {
     "cellMetadata": {
      "byteLimit": 2048000,
      "rowLimit": 10000
     },
     "inputWidgets": {},
     "nuid": "56470649-e78e-4e41-ac71-99bd7cd90b37",
     "showTitle": false,
     "tableResultSettingsMap": {},
     "title": ""
    }
   },
   "outputs": [],
   "source": [
    "#  Załadowanie danych NYC Taxi do DataFrame\n",
    "trips_df = spark.table(\"samples.nyctaxi.trips\")\n",
    "\n",
    "#  Załadowanie danych o opóźnieniach lotów z pliku CSV\n",
    "flights_df = spark.read.option(\"header\", \"true\") \\\n",
    "                       .option(\"inferSchema\", \"true\") \\\n",
    "                       .csv(\"dbfs:/databricks-datasets/flights/departuredelays.csv\")\n",
    "#  Załadowanie danych o lotniskach z pliku airport-codes-na.txt\n",
    "airports_df = spark.read.option(\"header\", \"true\") \\\n",
    "                        .option(\"inferSchema\", \"true\") \\\n",
    "                        .option(\"sep\", \"\\t\") \\\n",
    "                        .csv(\"dbfs:/databricks-datasets/flights/airport-codes-na.txt\")\n"
   ]
  },
  {
   "cell_type": "markdown",
   "metadata": {
    "application/vnd.databricks.v1+cell": {
     "cellMetadata": {},
     "inputWidgets": {},
     "nuid": "b2686099-55e7-4358-b015-b1d73d141487",
     "showTitle": false,
     "tableResultSettingsMap": {},
     "title": ""
    }
   },
   "source": [
    "\n",
    "---\n",
    "\n",
    "### Zadanie 1: Obliczanie czasu trwania przejazdu (NYC Taxi)\n",
    "**Opis:**  \n",
    "Dodaj do DataFrame `trips_df` nową kolumnę `trip_duration` wyrażoną w minutach, która obliczy różnicę między `tpep_dropoff_datetime` a `tpep_pickup_datetime`. Następnie oblicz średni czas trwania przejazdu dla wszystkich kursów.  \n",
    "**Podpowiedź:**  \n",
    "Użyj funkcji takich jak `unix_timestamp()` lub `F.col(...).cast(\"long\")` oraz operacji arytmetycznych.\n"
   ]
  },
  {
   "cell_type": "code",
   "execution_count": 0,
   "metadata": {
    "application/vnd.databricks.v1+cell": {
     "cellMetadata": {
      "byteLimit": 2048000,
      "rowLimit": 10000
     },
     "inputWidgets": {},
     "nuid": "64813a9e-bd11-4119-9cdb-fd2c659ee963",
     "showTitle": false,
     "tableResultSettingsMap": {},
     "title": ""
    }
   },
   "outputs": [],
   "source": [
    "from pyspark.sql import functions as F\n",
    "# trips_df\n",
    "df = trips_df.withColumn(\n",
    "    'trip_duration',\n",
    "    (F.unix_timestamp('tpep_dropoff_datetime') - F.unix_timestamp('tpep_pickup_datetime'))).show()"
   ]
  },
  {
   "cell_type": "markdown",
   "metadata": {
    "application/vnd.databricks.v1+cell": {
     "cellMetadata": {},
     "inputWidgets": {},
     "nuid": "e267fb09-7059-4062-9a9d-1f2a1bf76d6f",
     "showTitle": false,
     "tableResultSettingsMap": {},
     "title": ""
    }
   },
   "source": [
    "\n",
    "---\n",
    "\n",
    "### Zadanie 2: Filtrowanie przejazdów weekendowych (NYC Taxi)\n",
    "**Opis:**  \n",
    "Wyodrębnij wszystkie przejazdy, które odbyły się w weekendy.  \n",
    "**Podpowiedź:**  \n",
    "Skorzystaj z funkcji `dayofweek()` – pamiętaj, że w Spark niedziela może mieć wartość 1 lub 7 (sprawdź dokumentację).\n",
    "\n"
   ]
  },
  {
   "cell_type": "code",
   "execution_count": 0,
   "metadata": {
    "application/vnd.databricks.v1+cell": {
     "cellMetadata": {
      "byteLimit": 2048000,
      "rowLimit": 10000
     },
     "inputWidgets": {},
     "nuid": "44e9568f-b1fa-4c24-a024-9a9de2f7842f",
     "showTitle": false,
     "tableResultSettingsMap": {},
     "title": ""
    }
   },
   "outputs": [],
   "source": [
    "trips_df.filter((F.dayofweek(trips_df.tpep_pickup_datetime) == 1) | (F.dayofweek(trips_df.tpep_pickup_datetime) == 7)).select('tpep_pickup_datetime').show()"
   ]
  },
  {
   "cell_type": "markdown",
   "metadata": {
    "application/vnd.databricks.v1+cell": {
     "cellMetadata": {
      "byteLimit": 2048000,
      "rowLimit": 10000
     },
     "inputWidgets": {},
     "nuid": "041ae792-cb4e-4ca4-a649-faebc4a9baca",
     "showTitle": false,
     "tableResultSettingsMap": {},
     "title": ""
    }
   },
   "source": [
    "---\n",
    "### Zadanie 3: Obliczanie opłaty za mile (NYC Taxi)\n",
    "**Opis:**  \n",
    "Dodaj nową kolumnę `fare_per_mile`, która obliczy koszt przejazdu za jedną milę, poprzez podzielenie opłaty za przejazd (`fare_amount`) przez dystans przejazdu (`trip_distance`). Następnie oblicz średnią wartość tej kolumny dla przejazdów, których `trip_distance` przekracza 2 mile.\n",
    "\n",
    "**Podpowiedź:**  \n",
    "Użyj `withColumn()` do stworzenia nowej kolumny oraz `filter()` do ograniczenia danych przed agregacją.\n"
   ]
  },
  {
   "cell_type": "code",
   "execution_count": 0,
   "metadata": {
    "application/vnd.databricks.v1+cell": {
     "cellMetadata": {
      "byteLimit": 2048000,
      "rowLimit": 10000
     },
     "inputWidgets": {},
     "nuid": "b07f5a1a-7642-44b3-b51a-1dfe3d9d35f4",
     "showTitle": false,
     "tableResultSettingsMap": {},
     "title": ""
    }
   },
   "outputs": [],
   "source": [
    "new_df = trips_df.withColumn('fare_per_mile',F.round(F.col('fare_amount')/F.col('trip_distance'),2))\n",
    "filtered = new_df.filter(F.col('trip_distance')>2).select(F.round(F.avg(F.col('fare_per_mile')),2).alias('AVG')).show()"
   ]
  },
  {
   "cell_type": "markdown",
   "metadata": {
    "application/vnd.databricks.v1+cell": {
     "cellMetadata": {},
     "inputWidgets": {},
     "nuid": "622a5f67-1547-455c-a3e8-f1cabd25f2ae",
     "showTitle": false,
     "tableResultSettingsMap": {},
     "title": ""
    }
   },
   "source": [
    "---\n",
    "\n",
    "### Zadanie 4: Agregacja według godziny odbioru (NYC Taxi)\n",
    "**Opis:**  \n",
    "Wyodrębnij godzinę z `tpep_pickup_datetime` i oblicz średnią opłatę oraz średni dystans przejazdu dla każdej godziny.  \n",
    "**Podpowiedź:**  \n",
    "Użyj funkcji `hour()` oraz `groupBy()`.\n",
    "\n",
    "-"
   ]
  },
  {
   "cell_type": "code",
   "execution_count": 0,
   "metadata": {
    "application/vnd.databricks.v1+cell": {
     "cellMetadata": {
      "byteLimit": 2048000,
      "rowLimit": 10000
     },
     "inputWidgets": {},
     "nuid": "ffe9044a-71a5-4ed0-b2ed-5c24cd471736",
     "showTitle": false,
     "tableResultSettingsMap": {},
     "title": ""
    }
   },
   "outputs": [],
   "source": []
  },
  {
   "cell_type": "markdown",
   "metadata": {
    "application/vnd.databricks.v1+cell": {
     "cellMetadata": {},
     "inputWidgets": {},
     "nuid": "43c98291-aef0-4b93-8ec3-c7452657a77b",
     "showTitle": false,
     "tableResultSettingsMap": {},
     "title": ""
    }
   },
   "source": [
    "\n",
    "### Zadanie 5: Top 5 kodów pocztowych według łącznej opłaty (NYC Taxi)\n",
    "**Opis:**  \n",
    "Dla każdej wartości `pickup_zip` oblicz łączną opłatę (`fare_amount`), a następnie wyświetl 5 kodów pocztowych, dla których suma opłat jest najwyższa.  \n",
    "**Podpowiedź:**  \n",
    "Skorzystaj z `groupBy(\"pickup_zip\").agg(F.sum(\"fare_amount\"))` oraz `orderBy()`.\n"
   ]
  },
  {
   "cell_type": "code",
   "execution_count": 0,
   "metadata": {
    "application/vnd.databricks.v1+cell": {
     "cellMetadata": {
      "byteLimit": 2048000,
      "rowLimit": 10000
     },
     "inputWidgets": {},
     "nuid": "14433313-33e4-42e8-991f-112b82d070b6",
     "showTitle": false,
     "tableResultSettingsMap": {},
     "title": ""
    }
   },
   "outputs": [],
   "source": []
  },
  {
   "cell_type": "markdown",
   "metadata": {
    "application/vnd.databricks.v1+cell": {
     "cellMetadata": {},
     "inputWidgets": {},
     "nuid": "8cb5d7b7-488e-429f-81c8-6ddfbb550b0a",
     "showTitle": false,
     "tableResultSettingsMap": {},
     "title": ""
    }
   },
   "source": [
    "### Zadanie 6: Konwersja i ekstrakcja daty z kolumny `date` (Flights)\n",
    "**Opis:**  \n",
    "Przekształć kolumnę `date` w `flights_df` (obecnie typu integer, np. 1011245) na typ datowy, a następnie wyodrębnij miesiąc i dzień do nowych kolumn.  \n",
    "**Podpowiedź:**  \n",
    "Możesz użyć funkcji `to_date()`, `substring()` lub `date_format()` – być może najpierw przekształć integer na string.\n"
   ]
  },
  {
   "cell_type": "code",
   "execution_count": 0,
   "metadata": {
    "application/vnd.databricks.v1+cell": {
     "cellMetadata": {
      "byteLimit": 2048000,
      "rowLimit": 10000
     },
     "inputWidgets": {},
     "nuid": "18d3b987-f1c8-4158-8a9d-f90cffa4f949",
     "showTitle": false,
     "tableResultSettingsMap": {},
     "title": ""
    }
   },
   "outputs": [],
   "source": []
  },
  {
   "cell_type": "markdown",
   "metadata": {
    "application/vnd.databricks.v1+cell": {
     "cellMetadata": {},
     "inputWidgets": {},
     "nuid": "369fe94a-73d4-4ad6-a038-17e9474a6d27",
     "showTitle": false,
     "tableResultSettingsMap": {},
     "title": ""
    }
   },
   "source": [
    "### Zadanie 7: Średnie opóźnienie dla każdego lotniska wylotu (Flights)\n",
    "**Opis:**  \n",
    "Oblicz średnie opóźnienie (`delay`) dla każdego unikalnego lotniska wylotu (`origin`) w `flights_df`, a następnie połącz wynik z `airports_df`, aby wyświetlić nazwę miasta dla lotniska.  \n",
    "**Podpowiedź:**  \n",
    "Użyj `groupBy(\"origin\").agg(F.avg(\"delay\"))` oraz operacji `join()` z `airports_df` (po kolumnie `IATA`).\n",
    "\n",
    "---"
   ]
  },
  {
   "cell_type": "code",
   "execution_count": 0,
   "metadata": {
    "application/vnd.databricks.v1+cell": {
     "cellMetadata": {
      "byteLimit": 2048000,
      "rowLimit": 10000
     },
     "inputWidgets": {},
     "nuid": "e3d0e079-1e56-4cbb-9545-f533b8b58d82",
     "showTitle": false,
     "tableResultSettingsMap": {},
     "title": ""
    }
   },
   "outputs": [],
   "source": []
  },
  {
   "cell_type": "markdown",
   "metadata": {
    "application/vnd.databricks.v1+cell": {
     "cellMetadata": {},
     "inputWidgets": {},
     "nuid": "f3229fed-5a75-41b5-a5ae-0b15e8d6c324",
     "showTitle": false,
     "tableResultSettingsMap": {},
     "title": ""
    }
   },
   "source": [
    "### Zadanie 8: Procent lotów na czas dla każdego lotniska (Flights)\n",
    "**Opis:**  \n",
    "Dla każdego lotniska wylotu (`origin`), oblicz procent lotów, które wystartowały na czas lub wcześniej (tj. `delay <= 0`).  \n",
    "**Podpowiedź:**  \n",
    "Użyj warunkowej agregacji: np. `F.sum(F.when(F.col(\"delay\") <= 0, 1).otherwise(0))` podzielonej przez `count(*)`."
   ]
  },
  {
   "cell_type": "code",
   "execution_count": 0,
   "metadata": {
    "application/vnd.databricks.v1+cell": {
     "cellMetadata": {
      "byteLimit": 2048000,
      "rowLimit": 10000
     },
     "inputWidgets": {},
     "nuid": "e007d58f-95c3-4ed0-ab23-f407a1610760",
     "showTitle": false,
     "tableResultSettingsMap": {},
     "title": ""
    }
   },
   "outputs": [],
   "source": []
  },
  {
   "cell_type": "markdown",
   "metadata": {
    "application/vnd.databricks.v1+cell": {
     "cellMetadata": {},
     "inputWidgets": {},
     "nuid": "81ef6339-97c1-4cd4-8e07-24d604a91229",
     "showTitle": false,
     "tableResultSettingsMap": {},
     "title": ""
    }
   },
   "source": [
    "### Zadanie 9: Kategoryzacja opóźnień lotów (Flights)\n",
    "**Opis:**  \n",
    "Dodaj do `flights_df` nową kolumnę `status`, która klasyfikuje loty jako: \"Early\" (delay < 0), \"On Time\" (delay == 0) oraz \"Late\" (delay > 0). Następnie policz liczbę lotów w każdej kategorii.  \n",
    "**Podpowiedź:**  \n",
    "Użyj funkcji `F.when()` oraz `F.count()` w połączeniu z `groupBy(\"status\")`.\n"
   ]
  },
  {
   "cell_type": "code",
   "execution_count": 0,
   "metadata": {
    "application/vnd.databricks.v1+cell": {
     "cellMetadata": {
      "byteLimit": 2048000,
      "rowLimit": 10000
     },
     "inputWidgets": {},
     "nuid": "fb57753f-605f-4292-a449-dbf4912b1ba0",
     "showTitle": false,
     "tableResultSettingsMap": {},
     "title": ""
    }
   },
   "outputs": [],
   "source": []
  },
  {
   "cell_type": "markdown",
   "metadata": {
    "application/vnd.databricks.v1+cell": {
     "cellMetadata": {},
     "inputWidgets": {},
     "nuid": "a4ee2666-071d-4e8e-836a-d6c8418a6ffc",
     "showTitle": false,
     "tableResultSettingsMap": {},
     "title": ""
    }
   },
   "source": [
    "### Zadanie 10: Średni dystans lotów dla każdego lotniska docelowego (Flights)\n",
    "**Opis:**  \n",
    "Oblicz średni dystans (`distance`) dla każdego lotniska docelowego (`destination`).  \n",
    "**Podpowiedź:**  \n",
    "Skorzystaj z `groupBy(\"destination\").agg(F.avg(\"distance\"))` oraz posortuj wynik malejąco."
   ]
  },
  {
   "cell_type": "code",
   "execution_count": 0,
   "metadata": {
    "application/vnd.databricks.v1+cell": {
     "cellMetadata": {
      "byteLimit": 2048000,
      "rowLimit": 10000
     },
     "inputWidgets": {},
     "nuid": "4a6d1caf-14b3-4885-9ff0-d76611f136b6",
     "showTitle": false,
     "tableResultSettingsMap": {},
     "title": ""
    }
   },
   "outputs": [],
   "source": []
  },
  {
   "cell_type": "markdown",
   "metadata": {
    "application/vnd.databricks.v1+cell": {
     "cellMetadata": {},
     "inputWidgets": {},
     "nuid": "4f136b49-92ba-4814-b32b-6a3d189b2f95",
     "showTitle": false,
     "tableResultSettingsMap": {},
     "title": ""
    }
   },
   "source": [
    "### Zadanie 11: Maksymalne opóźnienie na trasie (Flights)\n",
    "**Opis:**  \n",
    "Dla każdej pary `origin`–`destination` oblicz maksymalne opóźnienie oraz liczbę lotów na tej trasie.  \n",
    "**Podpowiedź:**  \n",
    "Użyj `groupBy(\"origin\", \"destination\")` i funkcji `F.max(\"delay\")` oraz `F.count(\"*\")`."
   ]
  },
  {
   "cell_type": "code",
   "execution_count": 0,
   "metadata": {
    "application/vnd.databricks.v1+cell": {
     "cellMetadata": {
      "byteLimit": 2048000,
      "rowLimit": 10000
     },
     "inputWidgets": {},
     "nuid": "d4146720-afc9-4087-964e-7cb5c8e167e2",
     "showTitle": false,
     "tableResultSettingsMap": {},
     "title": ""
    }
   },
   "outputs": [],
   "source": []
  },
  {
   "cell_type": "markdown",
   "metadata": {
    "application/vnd.databricks.v1+cell": {
     "cellMetadata": {},
     "inputWidgets": {},
     "nuid": "081fcfc3-1499-44d4-a3a1-0544467cae3a",
     "showTitle": false,
     "tableResultSettingsMap": {},
     "title": ""
    }
   },
   "source": [
    "\n",
    "### Zadanie 12: Średnie opóźnienie według kombinacji miast (Flights & Airports)\n",
    "**Opis:**  \n",
    "Połącz `flights_df` z `airports_df` (dla obu – origin i destination) tak, aby uzyskać informacje o miastach. Następnie oblicz średnie opóźnienie lotów dla każdej kombinacji: miasto wylotu i miasto docelowe.  \n",
    "**Podpowiedź:**  \n",
    "Wykonaj dwa JOINy (jeden dla `origin`, drugi dla `destination`) i użyj `groupBy()` na kombinacji `OriginCity` i `DestCity`."
   ]
  },
  {
   "cell_type": "code",
   "execution_count": 0,
   "metadata": {
    "application/vnd.databricks.v1+cell": {
     "cellMetadata": {
      "byteLimit": 2048000,
      "rowLimit": 10000
     },
     "inputWidgets": {},
     "nuid": "9f7d2fd9-025d-4dac-a8b3-fcfe83ae9427",
     "showTitle": false,
     "tableResultSettingsMap": {},
     "title": ""
    }
   },
   "outputs": [],
   "source": []
  },
  {
   "cell_type": "markdown",
   "metadata": {
    "application/vnd.databricks.v1+cell": {
     "cellMetadata": {},
     "inputWidgets": {},
     "nuid": "1b40a451-3f7c-420d-92fa-cd4d277563a6",
     "showTitle": false,
     "tableResultSettingsMap": {},
     "title": ""
    }
   },
   "source": [
    "\n",
    "### Zadanie 13: Dummy join między NYC Taxi a Flights\n",
    "**Opis:**  \n",
    "Dodaj do `trips_df` oraz `flights_df` nową kolumnę `dummy_date` ustawioną na stałą wartość (np. \"2016-02-14\"). Następnie wykonaj JOIN obu DataFrame’ów po kolumnie `dummy_date` i sprawdź, ile rekordów uzyskasz.  \n",
    "**Podpowiedź:**  \n",
    "Użyj `F.lit(\"2016-02-14\")` w `withColumn()` i wykonaj `join()` na tej kolumnie. Pamiętaj, że wynik to iloczyn rekordów – użyj `limit()` lub `count()` dla przykładu."
   ]
  },
  {
   "cell_type": "code",
   "execution_count": 0,
   "metadata": {
    "application/vnd.databricks.v1+cell": {
     "cellMetadata": {
      "byteLimit": 2048000,
      "rowLimit": 10000
     },
     "inputWidgets": {},
     "nuid": "d2f57409-33c8-49eb-8b28-61cfd0496087",
     "showTitle": false,
     "tableResultSettingsMap": {},
     "title": ""
    }
   },
   "outputs": [],
   "source": []
  },
  {
   "cell_type": "markdown",
   "metadata": {
    "application/vnd.databricks.v1+cell": {
     "cellMetadata": {},
     "inputWidgets": {},
     "nuid": "4252f6d0-19bb-47f7-9cb6-9c650e82c7ed",
     "showTitle": false,
     "tableResultSettingsMap": {},
     "title": ""
    }
   },
   "source": [
    "\n",
    "### Zadanie 14: Obliczanie czasu trwania przejazdu (NYC Taxi)\n",
    "**Opis:**  \n",
    "Dodaj kolumnę `trip_duration` obliczającą czas trwania przejazdu w minutach (różnica między `tpep_dropoff_datetime` a `tpep_pickup_datetime`). Następnie zlicz, ile przejazdów trwało poniżej 5 minut (może to być błąd lub bardzo krótki kurs).  \n",
    "**Podpowiedź:**  \n",
    "Użyj funkcji `unix_timestamp()` lub bezpośredniej różnicy między kolumnami typu timestamp oraz `F.datediff()` lub zwykłej arytmetyki."
   ]
  },
  {
   "cell_type": "code",
   "execution_count": 0,
   "metadata": {
    "application/vnd.databricks.v1+cell": {
     "cellMetadata": {
      "byteLimit": 2048000,
      "rowLimit": 10000
     },
     "inputWidgets": {},
     "nuid": "c4531a9d-c8a1-4fc6-9b1f-ecd85128ab05",
     "showTitle": false,
     "tableResultSettingsMap": {},
     "title": ""
    }
   },
   "outputs": [],
   "source": []
  },
  {
   "cell_type": "markdown",
   "metadata": {
    "application/vnd.databricks.v1+cell": {
     "cellMetadata": {},
     "inputWidgets": {},
     "nuid": "870f56e2-7c0c-4778-8175-574e46775ebc",
     "showTitle": false,
     "tableResultSettingsMap": {},
     "title": ""
    }
   },
   "source": [
    "### Zadanie 15: Statystyczna analiza opóźnień (Flights)\n",
    "**Opis:**  \n",
    "Dla każdego lotniska wylotu (`origin`) oblicz odchylenie standardowe opóźnień (`delay`).  \n",
    "**Podpowiedź:**  \n",
    "Użyj `groupBy(\"origin\").agg(F.stddev(\"delay\").alias(\"std_delay\"))` oraz posortuj wynik według wartości odchylenia.\n",
    "\n",
    "---"
   ]
  },
  {
   "cell_type": "code",
   "execution_count": 0,
   "metadata": {
    "application/vnd.databricks.v1+cell": {
     "cellMetadata": {
      "byteLimit": 2048000,
      "rowLimit": 10000
     },
     "inputWidgets": {},
     "nuid": "64fa39c7-2fbc-44bf-89a5-9217b3f8e43b",
     "showTitle": false,
     "tableResultSettingsMap": {},
     "title": ""
    }
   },
   "outputs": [],
   "source": []
  }
 ],
 "metadata": {
  "application/vnd.databricks.v1+notebook": {
   "computePreferences": null,
   "dashboards": [],
   "environmentMetadata": {
    "base_environment": "",
    "client": "1"
   },
   "language": "python",
   "notebookMetadata": {
    "pythonIndentUnit": 4
   },
   "notebookName": "005b_ds_PySpark.ipynb",
   "widgets": {}
  },
  "language_info": {
   "name": "python"
  }
 },
 "nbformat": 4,
 "nbformat_minor": 0
}
