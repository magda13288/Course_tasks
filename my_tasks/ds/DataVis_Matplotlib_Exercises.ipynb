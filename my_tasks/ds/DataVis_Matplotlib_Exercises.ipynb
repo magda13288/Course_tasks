{
 "cells": [
  {
   "cell_type": "markdown",
   "id": "d2bbfa6a",
   "metadata": {},
   "source": [
    "### Opis Danych\n",
    "\n",
    "#### Liczba wierszy i kolumn:\n",
    "- **Liczba wierszy:** 1000  \n",
    "- **Liczba kolumn:** 7  \n",
    "\n",
    "#### Kolumny i ich opisy:\n",
    "1. **Building Type**: Typ budynku (np. Residential, Commercial, Industrial) - kategoria\n",
    "2. **Square Footage**: Powierzchnia w stopach kwadratowych - liczba całkowita\n",
    "3. **Number of Occupants**: Liczba mieszkańców/użytkowników - liczba całkowita\n",
    "4. **Appliances Used**: Liczba używanych urządzeń - liczba całkowita\n",
    "5. **Average Temperature**: Średnia temperatura - liczba zmiennoprzecinkowa\n",
    "6. **Day of Week**: Dzień tygodnia (np. Weekday, Weekend) - kategoria\n",
    "7. **Energy Consumption**: Zużycie energii - liczba zmiennoprzecinkowa\n",
    "\n",
    "#### Przykładowe dane:\n",
    "| Building Type | Square Footage | Number of Occupants | Appliances Used | Average Temperature | Day of Week | Energy Consumption |\n",
    "|---------------|----------------|---------------------|-----------------|----------------------|-------------|---------------------|\n",
    "| Residential   | 7063           | 76                  | 10              | 29.84               | Weekday     | 2713.95            |\n",
    "| Commercial    | 44372          | 66                  | 45              | 16.72               | Weekday     | 5744.99            |\n",
    "| Industrial    | 19255          | 37                  | 17              | 14.30               | Weekend     | 4101.24            |\n",
    "| Residential   | 13265          | 14                  | 41              | 32.82               | Weekday     | 3009.14            |\n",
    "| Commercial    | 13375          | 26                  | 18              | 11.92               | Weekday     | 3279.17            |\n"
   ]
  },
  {
   "cell_type": "code",
   "execution_count": 2,
   "id": "937a2144",
   "metadata": {},
   "outputs": [
    {
     "name": "stdout",
     "output_type": "stream",
     "text": [
      "<class 'pandas.core.frame.DataFrame'>\n",
      "RangeIndex: 1000 entries, 0 to 999\n",
      "Data columns (total 7 columns):\n",
      " #   Column               Non-Null Count  Dtype  \n",
      "---  ------               --------------  -----  \n",
      " 0   Building Type        1000 non-null   object \n",
      " 1   Square Footage       1000 non-null   int64  \n",
      " 2   Number of Occupants  1000 non-null   int64  \n",
      " 3   Appliances Used      1000 non-null   int64  \n",
      " 4   Average Temperature  1000 non-null   float64\n",
      " 5   Day of Week          1000 non-null   object \n",
      " 6   Energy Consumption   1000 non-null   float64\n",
      "dtypes: float64(2), int64(3), object(2)\n",
      "memory usage: 54.8+ KB\n",
      "None\n",
      "  Building Type  Square Footage  Number of Occupants  Appliances Used  \\\n",
      "0   Residential            7063                   76               10   \n",
      "1    Commercial           44372                   66               45   \n",
      "2    Industrial           19255                   37               17   \n",
      "3   Residential           13265                   14               41   \n",
      "4    Commercial           13375                   26               18   \n",
      "\n",
      "   Average Temperature Day of Week  Energy Consumption  \n",
      "0                29.84     Weekday             2713.95  \n",
      "1                16.72     Weekday             5744.99  \n",
      "2                14.30     Weekend             4101.24  \n",
      "3                32.82     Weekday             3009.14  \n",
      "4                11.92     Weekday             3279.17  \n"
     ]
    }
   ],
   "source": [
    "import pandas as pd\n",
    "\n",
    "# Ścieżka do pliku CSV\n",
    "file_path = 'data\\energy_data.csv'\n",
    "\n",
    "# Wczytanie danych do DataFrame\n",
    "data = pd.read_csv(file_path)\n",
    "\n",
    "# Wyświetlenie informacji o danych i kilku pierwszych wierszy\n",
    "print(data.info())\n",
    "print(data.head())\n"
   ]
  },
  {
   "cell_type": "markdown",
   "id": "bd04502d",
   "metadata": {},
   "source": [
    "## Zadanie 1: Wykres słupkowy liczebności typów budynku\n",
    "1. Zlicz, ile wystąpień (wierszy) przypada na każdy **Building Type**.\n",
    "2. Użyj funkcji z biblioteki Matplotlib do narysowania wykresu słupkowego prezentującego te dane.\n"
   ]
  },
  {
   "cell_type": "code",
   "execution_count": null,
   "id": "24c7e33e",
   "metadata": {},
   "outputs": [],
   "source": []
  },
  {
   "cell_type": "markdown",
   "id": "950f408b",
   "metadata": {},
   "source": [
    "## Zadanie 2: Histogram rozkładu powierzchni (Square Footage)\n",
    "1. Pobierz wszystkie wartości kolumny **Square Footage**.\n",
    "2. Stwórz histogram, ustawiając liczbę koszy na przykład na 30.\n",
    "3. Na osi X mają znaleźć się wartości powierzchni, a na osi Y liczba wystąpień w danym przedziale.\n"
   ]
  },
  {
   "cell_type": "code",
   "execution_count": null,
   "id": "1524489b",
   "metadata": {},
   "outputs": [],
   "source": []
  },
  {
   "cell_type": "markdown",
   "id": "a4ce95a9",
   "metadata": {},
   "source": [
    "## Zadanie 3: Wykres liniowy zużycia energii (Energy Consumption)\n",
    "1. Przygotuj listę lub tablicę wartości z kolumny **Energy Consumption**.\n",
    "2. Narysuj wykres liniowy, gdzie oś X to indeksy kolejnych obserwacji, a oś Y to wartości zużycia energii.\n"
   ]
  },
  {
   "cell_type": "code",
   "execution_count": null,
   "id": "ce3695d0",
   "metadata": {},
   "outputs": [],
   "source": []
  },
  {
   "cell_type": "markdown",
   "id": "3c2a65d7",
   "metadata": {},
   "source": [
    "## Zadanie 4: Wykres punktowy (scatter) - temperatura vs. zużycie energii\n",
    "1. Przygotuj dane: **Average Temperature** jako oś X i **Energy Consumption** jako oś Y.\n",
    "2. Narysuj wykres punktowy (scatter).\n",
    "3. Dodaj etykiety osi i tytuł wykresu.\n"
   ]
  },
  {
   "cell_type": "code",
   "execution_count": null,
   "id": "c0327e7b",
   "metadata": {},
   "outputs": [],
   "source": []
  },
  {
   "cell_type": "markdown",
   "id": "41790b4b",
   "metadata": {},
   "source": [
    "\n",
    "## Zadanie 5: Box plot - rozkład zużycia energii\n",
    "1. Skonstruuj wykres pudełkowy (box plot) prezentujący dane z kolumny **Energy Consumption**.\n",
    "2. Sprawdź wizualnie, czy istnieją wartości odstające.\n"
   ]
  },
  {
   "cell_type": "code",
   "execution_count": null,
   "id": "4d1ad4c0",
   "metadata": {},
   "outputs": [],
   "source": []
  },
  {
   "cell_type": "markdown",
   "id": "8fd36aaf",
   "metadata": {},
   "source": [
    "## Zadanie 6: Wykres kołowy (pie chart) - Udział typów budynku\n",
    "1. Policz procentowy udział każdego **Building Type** w całym zbiorze.\n",
    "2. Użyj funkcji do tworzenia wykresu kołowego w Matplotlib, wyświetlając procenty przy każdym wycinku.\n"
   ]
  },
  {
   "cell_type": "code",
   "execution_count": null,
   "id": "0bdefb84",
   "metadata": {},
   "outputs": [],
   "source": []
  },
  {
   "cell_type": "markdown",
   "id": "f7b03e25",
   "metadata": {},
   "source": [
    "## Zadanie 7: Bar plot - średnia liczba mieszkańców wg typu budynku\n",
    "1. Wylicz średnią wartość kolumny **Number of Occupants** dla każdego **Building Type**.\n",
    "2. Przedstaw te wyniki na wykresie słupkowym (oś X: rodzaj budynku, oś Y: średnia liczba mieszkańców).\n"
   ]
  },
  {
   "cell_type": "code",
   "execution_count": null,
   "id": "58ba4e75",
   "metadata": {},
   "outputs": [],
   "source": []
  },
  {
   "cell_type": "markdown",
   "id": "a50fc475",
   "metadata": {},
   "source": [
    "\n",
    "## Zadanie 8: Scatter - Appliances Used vs. Number of Occupants\n",
    "1. Wykorzystaj dane z kolumn **Number of Occupants** (oś X) oraz **Appliances Used** (oś Y).\n",
    "2. Utwórz wykres punktowy, aby zobaczyć, czy istnieje jakakolwiek korelacja między tymi dwiema zmiennymi.\n"
   ]
  },
  {
   "cell_type": "code",
   "execution_count": null,
   "id": "9a389d17",
   "metadata": {},
   "outputs": [],
   "source": []
  },
  {
   "cell_type": "markdown",
   "id": "0d5779a4",
   "metadata": {},
   "source": [
    "\n",
    "## Zadanie 9: Wykres słupkowy skumulowany (stacked) - Building Type vs. Day of Week\n",
    "1. Przygotuj tabelę częstości lub liczebności obserwacji dla kombinacji **Building Type** i **Day of Week**.\n",
    "2. Narysuj skumulowany wykres słupkowy (stacked bar plot), na osi X prezentując typy budynków, a na osi Y liczbę wierszy danych. Uwzględnij dwa poziomy **Day of Week**: Weekday i Weekend.\n"
   ]
  },
  {
   "cell_type": "code",
   "execution_count": null,
   "id": "8dae4a88",
   "metadata": {},
   "outputs": [],
   "source": []
  },
  {
   "cell_type": "markdown",
   "id": "8a289102",
   "metadata": {},
   "source": [
    "## Zadanie 10: Subplots - porównanie Average Temperature w Weekday vs. Weekend\n",
    "1. Rozdziel dane na dwie grupy: Weekday i Weekend (na podstawie kolumny **Day of Week**).\n",
    "2. W pierwszym pod-wykresie narysuj krzywą obrazującą **Average Temperature** w dni robocze, a w drugim dla weekendu.\n"
   ]
  },
  {
   "cell_type": "code",
   "execution_count": null,
   "id": "a6abb86b",
   "metadata": {},
   "outputs": [],
   "source": []
  },
  {
   "cell_type": "markdown",
   "id": "bcf8e2fd",
   "metadata": {},
   "source": [
    "## Zadanie 11: Box plot - Energy Consumption w Weekday i Weekend\n",
    "1. Pobierz dane o zużyciu energii osobno dla Weekday i osobno dla Weekend.\n",
    "2. Na jednym rysunku stwórz wykres pudełkowy zawierający dwa box ploty, tak aby można było porównać rozkłady.\n"
   ]
  },
  {
   "cell_type": "code",
   "execution_count": null,
   "id": "0081cee3",
   "metadata": {},
   "outputs": [],
   "source": []
  },
  {
   "cell_type": "markdown",
   "id": "4c326e5c",
   "metadata": {},
   "source": [
    "## Zadanie 12: Nakładające się histogramy temperatur dla różnych typów budynku\n",
    "1. Rozważ trzy kategorie: **Residential**, **Commercial**, **Industrial**.\n",
    "2. Dla każdej kategorii pobierz kolumnę **Average Temperature**.\n",
    "3. Na jednym rysunku narysuj trzy histogramy, używając różnych kolorów i odpowiedniej przezroczystości.\n"
   ]
  },
  {
   "cell_type": "code",
   "execution_count": null,
   "id": "ebec5169",
   "metadata": {},
   "outputs": [],
   "source": []
  },
  {
   "cell_type": "markdown",
   "id": "9395e626",
   "metadata": {},
   "source": [
    "## Zadanie 13: Bar plot - średnie zużycie energii w Weekday vs. Weekend\n",
    "1. Oblicz średnią wartość **Energy Consumption** dla Weekday i Weekend.\n",
    "2. Zilustruj to prostym wykresem słupkowym z dwiema kolumnami.\n"
   ]
  },
  {
   "cell_type": "code",
   "execution_count": null,
   "id": "7e7730d2",
   "metadata": {},
   "outputs": [],
   "source": []
  },
  {
   "cell_type": "markdown",
   "id": "1e19f8ec",
   "metadata": {},
   "source": [
    "## Zadanie 14: Scatter - kolor punktu zależny od Building Type\n",
    "1. Przygotuj dane: **Average Temperature** (X) i **Energy Consumption** (Y).\n",
    "2. Rozbij dane na podgrupy według wartości **Building Type**.\n",
    "3. Dla każdej podgrupy wywołaj funkcję do rysowania wykresu punktowego, ustawiając inny kolor.\n"
   ]
  },
  {
   "cell_type": "code",
   "execution_count": null,
   "id": "877821c9",
   "metadata": {},
   "outputs": [],
   "source": []
  },
  {
   "cell_type": "markdown",
   "id": "a11b882e",
   "metadata": {},
   "source": [
    "## Zadanie 15: Subplots - Energy Consumption dla Residential i Commercial\n",
    "1. Wyselekcjonuj dane dla budynków typu Residential i Commercial.\n",
    "2. Utwórz dwa pod-wykresy (jeden nad drugim).\n",
    "3. Na każdym pod-wykresie narysuj wykres liniowy przedstawiający **Energy Consumption** w kolejnych wierszach dla danego typu budynku.\n"
   ]
  },
  {
   "cell_type": "code",
   "execution_count": null,
   "id": "bc6d15fc",
   "metadata": {},
   "outputs": [],
   "source": []
  },
  {
   "cell_type": "markdown",
   "id": "fd3e648d",
   "metadata": {},
   "source": [
    "## Zadanie 16: Scatter - wielkość punktu zależna od Appliances Used\n",
    "1. Przygotuj wykres punktowy, na którym:\n",
    "   - Oś X: **Square Footage**\n",
    "   - Oś Y: **Energy Consumption**\n",
    "   - Rozmiar punktu jest proporcjonalny do wartości **Appliances Used**.\n",
    "2. Dla lepszej widoczności możesz skalować wartości rozmiaru (np. mnożąc przez stałą liczbę).\n"
   ]
  },
  {
   "cell_type": "code",
   "execution_count": null,
   "id": "d4036a4f",
   "metadata": {},
   "outputs": [],
   "source": []
  },
  {
   "cell_type": "markdown",
   "id": "7169c36d",
   "metadata": {},
   "source": [
    "## Zadanie 17: Wykres słupkowy (grouped) - Appliances Used w podziale na Day of Week i Building Type\n",
    "1. Dla każdej kombinacji (Building Type, Day of Week) oblicz średnią liczbę urządzeń (**Appliances Used**).\n",
    "2. Narysuj wykres słupkowy typu *grouped*, czyli dla każdego **Building Type** prezentuj dwa słupki: jeden dla Weekday, drugi dla Weekend.\n"
   ]
  },
  {
   "cell_type": "code",
   "execution_count": null,
   "id": "d595e502",
   "metadata": {},
   "outputs": [],
   "source": []
  },
  {
   "cell_type": "markdown",
   "id": "483063ea",
   "metadata": {},
   "source": [
    "## Zadanie 19: Wykres liniowy - porównanie Average Temperature dla 3 typów budynków\n",
    "1. Rozważ trzy kategorie **Building Type**: Residential, Commercial, Industrial.\n",
    "2. Na jednym rysunku narysuj trzy wykresy liniowe, każdy w innym kolorze, aby porównać wartości **Average Temperature** w kolejnych wierszach.\n",
    "3. Dodaj legendę, żeby odróżnić linie.\n"
   ]
  },
  {
   "cell_type": "code",
   "execution_count": null,
   "id": "dbe7507c",
   "metadata": {},
   "outputs": [],
   "source": []
  },
  {
   "cell_type": "markdown",
   "id": "fd505f64",
   "metadata": {},
   "source": [
    "## Zadanie 20: Heatmap korelacji (bez użycia seaborn)\n",
    "1. Oblicz macierz korelacji dla kolumn numerycznych: **Square Footage**, **Number of Occupants**, **Appliances Used**, **Average Temperature**, **Energy Consumption**.\n",
    "2. Wykorzystaj funkcję Matplotlib do wyświetlenia tej macierzy w formie mapy ciepła (heatmap).\n",
    "3. Dodaj kolorową skalę (np. pasek kolorów) dla lepszej interpretacji.\n"
   ]
  },
  {
   "cell_type": "code",
   "execution_count": null,
   "id": "131437cc",
   "metadata": {},
   "outputs": [],
   "source": []
  },
  {
   "cell_type": "markdown",
   "id": "5b83d7fa",
   "metadata": {},
   "source": [
    "## Zadanie 21: Box plot - Appliances Used z podziałem na Building Type\n",
    "1. Wydziel grupy danych na podstawie **Building Type**.\n",
    "2. Dla każdej grupy weź kolumnę **Appliances Used** i umieść je w liście list.\n",
    "3. Narysuj box plot, gdzie każda skrzynka reprezentuje rozkład innego typu budynku.\n"
   ]
  },
  {
   "cell_type": "code",
   "execution_count": null,
   "id": "75b59d54",
   "metadata": {},
   "outputs": [],
   "source": []
  },
  {
   "cell_type": "markdown",
   "id": "49919f61",
   "metadata": {},
   "source": [
    "## Zadanie 22: Własny bar plot liczebności Building Type\n",
    "1. Zlicz częstości występowania każdego **Building Type** (podobnie jak w Zadaniu 1).\n",
    "2. Narysuj wykres słupkowy, zwracając uwagę na estetykę (np. kolory, orientację etykiet).\n"
   ]
  },
  {
   "cell_type": "code",
   "execution_count": null,
   "id": "5aac22bb",
   "metadata": {},
   "outputs": [],
   "source": []
  },
  {
   "cell_type": "markdown",
   "id": "3fbaf975",
   "metadata": {},
   "source": [
    "## Zadanie 23: Wykres liniowy z markerami\n",
    "1. Wybierz kolumnę **Energy Consumption**.\n",
    "2. Narysuj wykres liniowy z dodatkowo zaznaczonymi punktami (np. kółka).\n",
    "3. Możesz eksperymentować ze stylem linii (ciągła, przerywana, kropkowana).\n"
   ]
  },
  {
   "cell_type": "code",
   "execution_count": null,
   "id": "1d552feb",
   "metadata": {},
   "outputs": [],
   "source": []
  },
  {
   "cell_type": "markdown",
   "id": "7d7b2fb2",
   "metadata": {},
   "source": [
    "## Zadanie 24: Wykres gęstości (KDE) dla Energy Consumption (ręczne obliczenie)\n",
    "1. Bez użycia narzędzi gotowych do KDE w pandas czy seaborn, przygotuj dane do aproksymacji rozkładu (np. korzystając z histogramu o dużej liczbie koszy).\n",
    "2. Narysuj krzywą gęstości, bazując na policzonych wartościach i środkach przedziałów.\n"
   ]
  },
  {
   "cell_type": "code",
   "execution_count": null,
   "id": "bf284359",
   "metadata": {},
   "outputs": [],
   "source": []
  },
  {
   "cell_type": "markdown",
   "id": "4ed8bebb",
   "metadata": {},
   "source": [
    "## Zadanie 25: Dwa histogramy obok siebie (subplots) - Square Footage w Weekday vs. Weekend\n",
    "1. Rozdziel dane na te, które mają **Day of Week** = Weekday i te z Weekend.\n",
    "2. Przygotuj układ 1x2 (jeden rząd, dwie kolumny), gdzie w pierwszym wykresie pokażesz histogram dla Weekday, w drugim dla Weekend.\n"
   ]
  },
  {
   "cell_type": "code",
   "execution_count": null,
   "id": "b035ad36",
   "metadata": {},
   "outputs": [],
   "source": []
  },
  {
   "cell_type": "markdown",
   "id": "63912d56",
   "metadata": {},
   "source": [
    "## Zadanie 26: Dodanie tytułu, etykiet osi i siatki do wykresu scatter\n",
    "1. Wybierz dowolny wcześniej przygotowany wykres punktowy (np. temperatura vs. zużycie energii).\n",
    "2. Dodaj tytuł, etykiety osi i włącz siatkę.\n"
   ]
  },
  {
   "cell_type": "code",
   "execution_count": null,
   "id": "42e5b5bb",
   "metadata": {},
   "outputs": [],
   "source": []
  },
  {
   "cell_type": "markdown",
   "id": "666cb094",
   "metadata": {},
   "source": [
    "## Zadanie 27: Zmiana stylu wykresu (np. \"ggplot\")\n",
    "1. Ustaw styl wykresów Matplotlib na jeden z dostępnych (np. \"ggplot\" albo \"seaborn-darkgrid\").\n",
    "2. Ponownie narysuj któryś z wcześniejszych wykresów, aby sprawdzić, jak zmienia się wygląd.\n"
   ]
  },
  {
   "cell_type": "code",
   "execution_count": null,
   "id": "b9f3f052",
   "metadata": {},
   "outputs": [],
   "source": []
  },
  {
   "cell_type": "markdown",
   "id": "c0f6585a",
   "metadata": {},
   "source": [
    "## Zadanie 28: Oś logarytmiczna (log scale)\n",
    "1. Rozważ pierwsze 20 obserwacji kolumny **Square Footage**.\n",
    "2. Narysuj wykres słupkowy, a następnie ustaw oś Y w skali logarytmicznej.\n",
    "3. Zaobserwuj, jak skala log wpływa na wizualną prezentację rozpiętości wartości.\n"
   ]
  },
  {
   "cell_type": "code",
   "execution_count": null,
   "id": "1de6be72",
   "metadata": {},
   "outputs": [],
   "source": []
  },
  {
   "cell_type": "markdown",
   "id": "708ec54c",
   "metadata": {},
   "source": [
    "## Zadanie 29: Układ 2x2 (subplots) z różnymi rodzajami wykresów\n",
    "1. Stwórz okno figury z układem 2 wierszy i 2 kolumn.\n",
    "2. W każdej z 4 komórek narysuj inny typ wykresu (np. histogram, scatter, bar plot, box plot).\n",
    "3. Na koniec użyj funkcji do automatycznego dostosowania przestrzeni, by wykresy się nie nakładały.\n"
   ]
  },
  {
   "cell_type": "code",
   "execution_count": null,
   "id": "cd9aa223",
   "metadata": {},
   "outputs": [],
   "source": []
  },
  {
   "cell_type": "markdown",
   "id": "a65113bc",
   "metadata": {},
   "source": [
    "## Zadanie 30: Dodanie linii regresji na scatter - Square Footage vs. Energy Consumption\n",
    "1. Narysuj wykres punktowy, gdzie oś X to **Square Footage**, a oś Y to **Energy Consumption**.\n",
    "2. Oblicz współczynniki prostej regresji (np. przez metodę najmniejszych kwadratów).\n",
    "3. Narysuj na tym samym wykresie prostą, ilustrującą linię trendu dla zależności między tymi dwoma zmiennymi.\n"
   ]
  },
  {
   "cell_type": "code",
   "execution_count": null,
   "id": "990c69ae",
   "metadata": {},
   "outputs": [],
   "source": []
  },
  {
   "cell_type": "markdown",
   "id": "15976736",
   "metadata": {},
   "source": []
  }
 ],
 "metadata": {
  "celltoolbar": "Slideshow",
  "kernelspec": {
   "display_name": "Kokoro",
   "language": "python",
   "name": "python3"
  },
  "language_info": {
   "codemirror_mode": {
    "name": "ipython",
    "version": 3
   },
   "file_extension": ".py",
   "mimetype": "text/x-python",
   "name": "python",
   "nbconvert_exporter": "python",
   "pygments_lexer": "ipython3",
   "version": "3.11.3"
  }
 },
 "nbformat": 4,
 "nbformat_minor": 5
}
