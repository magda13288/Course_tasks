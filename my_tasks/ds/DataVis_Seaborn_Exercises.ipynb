{
 "cells": [
  {
   "cell_type": "markdown",
   "id": "2d11bcb5",
   "metadata": {},
   "source": [
    "---\n",
    "\n",
    "📂 **Nazwa datasetu**: **anagrams**  \n",
    "📌 **Opis**: Zawiera wyniki eksperymentu psychologicznego dotyczącego zdolności do rozwiązywania anagramów.  \n",
    "📥 **Jak załadować**: `sns.load_dataset('anagrams')`  \n",
    "\n",
    "---\n",
    "\n",
    "📂 **Nazwa datasetu**: **anscombe**  \n",
    "📌 **Opis**: Służy do demonstracji, że różne zestawy danych mogą mieć takie same statystyki opisowe, ale różne wizualizacje (Paradoks Anscombe'a).  \n",
    "📥 **Jak załadować**: `sns.load_dataset('anscombe')`  \n",
    "\n",
    "---\n",
    "\n",
    "📂 **Nazwa datasetu**: **attention**  \n",
    "📌 **Opis**: Zawiera wyniki eksperymentu psychologicznego analizującego wpływ uwagi na rozwiązywanie problemów.  \n",
    "📥 **Jak załadować**: `sns.load_dataset('attention')`  \n",
    "\n",
    "---\n",
    "\n",
    "📂 **Nazwa datasetu**: **brain_networks**  \n",
    "📌 **Opis**: Zawiera dane o sieciach połączeń mózgowych, stosowane w analizach neurobiologicznych.  \n",
    "📥 **Jak załadować**: `sns.load_dataset('brain_networks')`  \n",
    "\n",
    "---\n",
    "\n",
    "📂 **Nazwa datasetu**: **car_crashes**  \n",
    "📌 **Opis**: Zawiera dane o liczbie wypadków samochodowych w różnych stanach USA oraz czynniki wpływające na te zdarzenia.  \n",
    "📥 **Jak załadować**: `sns.load_dataset('car_crashes')`  \n",
    "\n",
    "---\n",
    "\n",
    "📂 **Nazwa datasetu**: **diamonds**  \n",
    "📌 **Opis**: Dane o diamentach, obejmujące ich cechy fizyczne i ceny, często używane w analizach regresji.  \n",
    "📥 **Jak załadować**: `sns.load_dataset('diamonds')`  \n",
    "\n",
    "---\n",
    "\n",
    "📂 **Nazwa datasetu**: **dots**  \n",
    "📌 **Opis**: Dane eksperymentalne dotyczące percepcji ruchu punktów, używane w analizach neuromarketingu i psychologii poznawczej.  \n",
    "📥 **Jak załadować**: `sns.load_dataset('dots')`  \n",
    "\n",
    "---\n",
    "\n",
    "📂 **Nazwa datasetu**: **dowjones**  \n",
    "📌 **Opis**: Zawiera historyczne ceny indeksu Dow Jones Industrial Average (DJIA).  \n",
    "📥 **Jak załadować**: `sns.load_dataset('dowjones')`  \n",
    "\n",
    "---\n",
    "\n",
    "📂 **Nazwa datasetu**: **exercise**  \n",
    "📌 **Opis**: Dane o wpływie diety i ćwiczeń na organizm człowieka, stosowane w analizach zdrowotnych.  \n",
    "📥 **Jak załadować**: `sns.load_dataset('exercise')`  \n",
    "\n",
    "---\n",
    "\n",
    "📂 **Nazwa datasetu**: **flights**  \n",
    "📌 **Opis**: Zawiera miesięczną liczbę pasażerów linii lotniczych w latach 1949-1960, przydatne do analizy sezonowości.  \n",
    "📥 **Jak załadować**: `sns.load_dataset('flights')`  \n",
    "\n",
    "---\n",
    "\n",
    "📂 **Nazwa datasetu**: **fmri**  \n",
    "📌 **Opis**: Dane z obrazowania mózgu (fMRI), pokazujące aktywność neuronową w różnych warunkach eksperymentalnych.  \n",
    "📥 **Jak załadować**: `sns.load_dataset('fmri')`  \n",
    "\n",
    "---\n",
    "\n",
    "📂 **Nazwa datasetu**: **geyser**  \n",
    "📌 **Opis**: Zawiera dane dotyczące erupcji gejzera Old Faithful w USA, wykorzystywane do analizy rozkładów czasowych.  \n",
    "📥 **Jak załadować**: `sns.load_dataset('geyser')`  \n",
    "\n",
    "---\n",
    "\n",
    "📂 **Nazwa datasetu**: **glue**  \n",
    "📌 **Opis**: Dane porównujące różne modele NLP na benchmarku General Language Understanding Evaluation (GLUE).  \n",
    "📥 **Jak załadować**: `sns.load_dataset('glue')`  \n",
    "\n",
    "---\n",
    "\n",
    "📂 **Nazwa datasetu**: **healthexp**  \n",
    "📌 **Opis**: Dane dotyczące wydatków na opiekę zdrowotną i oczekiwanej długości życia w różnych krajach.  \n",
    "📥 **Jak załadować**: `sns.load_dataset('healthexp')`  \n",
    "\n",
    "---\n",
    "\n",
    "📂 **Nazwa datasetu**: **iris**  \n",
    "📌 **Opis**: Klasyczny zbiór danych o kwiatach irysa, wykorzystywany w analizie klasyfikacji i algorytmach ML.  \n",
    "📥 **Jak załadować**: `sns.load_dataset('iris')`  \n",
    "\n",
    "---\n",
    "\n",
    "📂 **Nazwa datasetu**: **mpg**  \n",
    "📌 **Opis**: Dane o wydajności paliwowej samochodów, zawierające cechy techniczne pojazdów z różnych lat.  \n",
    "📥 **Jak załadować**: `sns.load_dataset('mpg')`  \n",
    "\n",
    "---\n",
    "\n",
    "📂 **Nazwa datasetu**: **penguins**  \n",
    "📌 **Opis**: Dane o różnych gatunkach pingwinów, ich wymiarach i miejscach występowania, stosowane w analizie klasyfikacji.  \n",
    "📥 **Jak załadować**: `sns.load_dataset('penguins')`  \n",
    "\n",
    "---\n",
    "\n",
    "📂 **Nazwa datasetu**: **planets**  \n",
    "📌 **Opis**: Zawiera informacje o egzoplanetach i metodach ich odkrywania, stosowane w astronomii.  \n",
    "📥 **Jak załadować**: `sns.load_dataset('planets')`  \n",
    "\n",
    "---\n",
    "\n",
    "📂 **Nazwa datasetu**: **seaice**  \n",
    "📌 **Opis**: Dane dotyczące zmian powierzchni lodu morskiego na przestrzeni lat, używane w badaniach klimatycznych.  \n",
    "📥 **Jak załadować**: `sns.load_dataset('seaice')`  \n",
    "\n",
    "---\n",
    "\n",
    "📂 **Nazwa datasetu**: **taxis**  \n",
    "📌 **Opis**: Zbiór danych o przejazdach taksówkami w Nowym Jorku, obejmujący informacje o trasach, płatnościach i czasie przejazdu.  \n",
    "📥 **Jak załadować**: `sns.load_dataset('taxis')`  \n",
    "\n",
    "---\n",
    "\n",
    "📂 **Nazwa datasetu**: **tips**  \n",
    "📌 **Opis**: Dane dotyczące napiwków w restauracjach, wykorzystywane w analizach ekonomicznych i marketingowych.  \n",
    "📥 **Jak załadować**: `sns.load_dataset('tips')`  \n",
    "\n",
    "---\n",
    "\n",
    "📂 **Nazwa datasetu**: **titanic**  \n",
    "📌 **Opis**: Klasyczny zbiór danych o pasażerach Titanica, stosowany w analizach przeżywalności i klasyfikacji ML.  \n",
    "📥 **Jak załadować**: `sns.load_dataset('titanic')`  \n",
    "\n",
    "---\n"
   ]
  },
  {
   "cell_type": "code",
   "execution_count": null,
   "id": "87e65bfe",
   "metadata": {
    "vscode": {
     "languageId": "plaintext"
    }
   },
   "outputs": [],
   "source": []
  },
  {
   "cell_type": "markdown",
   "id": "151cc21d",
   "metadata": {
    "vscode": {
     "languageId": "plaintext"
    }
   },
   "source": [
    "## **Zadanie 1**\n",
    "\n",
    "**Dataset:** anagrams\n",
    "\n",
    "**Treść:**  \n",
    "Sprawdź, jak różnią się wartości `num1` i `num2` w zależności od kategorii `attnr`. Oceń, czy istnieją wyraźne różnice między grupami, tworząc odpowiednią wizualizację rozkładu tych zmiennych liczbowych.\n",
    "\n",
    "**Jak załadować:**  \n",
    "`sns.load_dataset('anagrams')`\n",
    "\n",
    "**Wskazówka:**  \n",
    "`sns.boxplot`\n"
   ]
  },
  {
   "cell_type": "code",
   "execution_count": null,
   "id": "88da6e41",
   "metadata": {
    "vscode": {
     "languageId": "plaintext"
    }
   },
   "outputs": [],
   "source": []
  },
  {
   "cell_type": "markdown",
   "id": "211803e3",
   "metadata": {
    "vscode": {
     "languageId": "plaintext"
    }
   },
   "source": [
    "## **Zadanie 2**\n",
    "\n",
    "**Dataset:** anscombe\n",
    "\n",
    "**Treść:**  \n",
    "Porównaj cztery podzbiory danych, odróżniane w kolumnie `dataset`. Narysuj osobne wykresy rozrzutu, aby zobaczyć zależność między `x` a `y` w każdym z tych zestawów. Zwróć uwagę, czy te same statystyki opisowe przekładają się na podobne układy punktów.\n",
    "\n",
    "**Jak załadować:**  \n",
    "`sns.load_dataset('anscombe')`\n",
    "\n",
    "**Wskazówka:**  \n",
    "`sns.relplot`\n"
   ]
  },
  {
   "cell_type": "code",
   "execution_count": null,
   "id": "bed591f9",
   "metadata": {
    "vscode": {
     "languageId": "plaintext"
    }
   },
   "outputs": [],
   "source": []
  },
  {
   "cell_type": "markdown",
   "id": "8ee1d8f2",
   "metadata": {
    "vscode": {
     "languageId": "plaintext"
    }
   },
   "source": [
    "\n",
    "## **Zadanie 3**\n",
    "\n",
    "**Dataset:** attention\n",
    "\n",
    "**Treść:**  \n",
    "Zbadaj, czy wartości `solutions` oraz `score` różnią się w zależności od poziomu `attention`. Wybierz wizualizację kategoryczną, która pokaże rozkłady lub średnie w każdej kategorii uwagi.\n",
    "\n",
    "**Jak załadować:**  \n",
    "`sns.load_dataset('attention')`\n",
    "\n",
    "**Wskazówka:**  \n",
    "`sns.catplot`"
   ]
  },
  {
   "cell_type": "code",
   "execution_count": null,
   "id": "500e5c5a",
   "metadata": {
    "vscode": {
     "languageId": "plaintext"
    }
   },
   "outputs": [],
   "source": []
  },
  {
   "cell_type": "markdown",
   "id": "f6f9dd7e",
   "metadata": {
    "vscode": {
     "languageId": "plaintext"
    }
   },
   "source": [
    "## **Zadanie 4**\n",
    "\n",
    "**Dataset:** titanic\n",
    "\n",
    "**Treść:**  \n",
    "Sprawdź, czy w danych o pasażerach Titanica pojawiają się braki (np. wartości puste). Wykonaj wizualizację, która pozwoli Ci zidentyfikować ewentualne miejsca, w których występują niekompletne informacje.\n",
    "\n",
    "**Jak załadować:**  \n",
    "`sns.load_dataset('titanic')`\n",
    "\n",
    "**Wskazówka:**  \n",
    "`sns.heatmap`\n"
   ]
  },
  {
   "cell_type": "code",
   "execution_count": null,
   "id": "efbff7d9",
   "metadata": {
    "vscode": {
     "languageId": "plaintext"
    }
   },
   "outputs": [],
   "source": []
  },
  {
   "cell_type": "markdown",
   "id": "483d540c",
   "metadata": {
    "vscode": {
     "languageId": "plaintext"
    }
   },
   "source": [
    "## **Zadanie 5**\n",
    "\n",
    "**Dataset:** car_crashes\n",
    "\n",
    "**Treść:**  \n",
    "Oblicz korelacje między liczbą wypadków ogółem (`total`), jazdą z nadmierną prędkością (`speeding`), a jazdą pod wpływem alkoholu (`alcohol`). Przedstaw je na mapie ciepła, aby zobaczyć, które zmienne są ze sobą najbardziej powiązane.\n",
    "\n",
    "**Jak załadować:**  \n",
    "`sns.load_dataset('car_crashes')`\n",
    "\n",
    "**Wskazówka:**  \n",
    "`sns.heatmap`\n"
   ]
  },
  {
   "cell_type": "code",
   "execution_count": null,
   "id": "c4b0ad96",
   "metadata": {
    "vscode": {
     "languageId": "plaintext"
    }
   },
   "outputs": [],
   "source": []
  },
  {
   "cell_type": "markdown",
   "id": "1d925131",
   "metadata": {
    "vscode": {
     "languageId": "plaintext"
    }
   },
   "source": [
    "## **Zadanie 6**\n",
    "\n",
    "**Dataset:** diamonds\n",
    "\n",
    "**Treść:**  \n",
    "Zbadaj, jak cena diamentu (`price`) rośnie w zależności od masy (`carat`). Dodaj do wykresu dodatkową zmienną, np. `cut` lub `color`, aby zobaczyć, czy wpływa ona na zależność między karatami a ceną.\n",
    "\n",
    "**Jak załadować:**  \n",
    "`sns.load_dataset('diamonds')`\n",
    "\n",
    "**Wskazówka:**  \n",
    "`sns.scatterplot`"
   ]
  },
  {
   "cell_type": "code",
   "execution_count": null,
   "id": "7669cd58",
   "metadata": {
    "vscode": {
     "languageId": "plaintext"
    }
   },
   "outputs": [],
   "source": []
  },
  {
   "cell_type": "markdown",
   "id": "33f0acc6",
   "metadata": {
    "vscode": {
     "languageId": "plaintext"
    }
   },
   "source": [
    "## **Zadanie 7**\n",
    "\n",
    "**Dataset:** dowjones\n",
    "\n",
    "**Treść:**  \n",
    "Przeanalizuj trend wartości indeksu giełdowego (`Price`) w czasie (`Date`). Narysuj wykres pokazujący zmienność indeksu na przestrzeni lat i spróbuj wskazać potencjalne okresy wzrostów oraz spadków.\n",
    "\n",
    "**Jak załadować:**  \n",
    "`sns.load_dataset('dowjones')`\n",
    "\n",
    "**Wskazówka:**  \n",
    "`sns.lineplot`"
   ]
  },
  {
   "cell_type": "code",
   "execution_count": null,
   "id": "6d7d32fd",
   "metadata": {
    "vscode": {
     "languageId": "plaintext"
    }
   },
   "outputs": [],
   "source": []
  },
  {
   "cell_type": "markdown",
   "id": "01c81144",
   "metadata": {
    "vscode": {
     "languageId": "plaintext"
    }
   },
   "source": [
    "\n",
    "## **Zadanie 8**\n",
    "\n",
    "**Dataset:** exercise\n",
    "\n",
    "**Treść:**  \n",
    "Porównaj wartości pulsu (`pulse`) u osób stosujących różne diety (`diet`) i różne rodzaje ćwiczeń (`kind`). Oceń, czy jedna z diet w połączeniu z konkretnym treningiem wiąże się z najwyższym lub najniższym pulsem.\n",
    "\n",
    "**Jak załadować:**  \n",
    "`sns.load_dataset('exercise')`\n",
    "\n",
    "**Wskazówka:**  \n",
    "`sns.catplot`\n",
    "\n"
   ]
  },
  {
   "cell_type": "code",
   "execution_count": null,
   "id": "dd78e9a6",
   "metadata": {
    "vscode": {
     "languageId": "plaintext"
    }
   },
   "outputs": [],
   "source": []
  },
  {
   "cell_type": "markdown",
   "id": "ee80ba38",
   "metadata": {
    "vscode": {
     "languageId": "plaintext"
    }
   },
   "source": [
    "## **Zadanie 9**\n",
    "\n",
    "**Dataset:** flights\n",
    "\n",
    "**Treść:**  \n",
    "Utwórz tabelę przestawną, w której wierszami będą nazwy miesięcy (`month`), a kolumnami lata (`year`). Wypełnij ją wartościami liczby pasażerów (`passengers`). Następnie zaprezentuj tę tabelę w postaci mapy ciepła, aby sprawdzić sezonowość.\n",
    "\n",
    "**Jak załadować:**  \n",
    "`sns.load_dataset('flights')`\n",
    "\n",
    "**Wskazówka:**  \n",
    "`sns.heatmap`\n"
   ]
  },
  {
   "cell_type": "code",
   "execution_count": null,
   "id": "5a595e76",
   "metadata": {
    "vscode": {
     "languageId": "plaintext"
    }
   },
   "outputs": [],
   "source": []
  },
  {
   "cell_type": "markdown",
   "id": "0cc14e71",
   "metadata": {
    "vscode": {
     "languageId": "plaintext"
    }
   },
   "source": [
    "## **Zadanie 10**\n",
    "\n",
    "**Dataset:** fmri\n",
    "\n",
    "**Treść:**  \n",
    "Zbadaj, jak zmienia się sygnał (`signal`) wraz z upływem czasu (`timepoint`) w różnych warunkach eksperymentalnych (`event`). Dodatkowo porównaj wyniki w różnych regionach (`region`) i sprawdź, czy w pewnym czasie sygnał osiąga wartości skrajne.\n",
    "\n",
    "**Jak załadować:**  \n",
    "`sns.load_dataset('fmri')`\n",
    "\n",
    "**Wskazówka:**  \n",
    "`sns.lineplot`"
   ]
  },
  {
   "cell_type": "code",
   "execution_count": null,
   "id": "119393e1",
   "metadata": {
    "vscode": {
     "languageId": "plaintext"
    }
   },
   "outputs": [],
   "source": []
  },
  {
   "cell_type": "markdown",
   "id": "fae2aaf5",
   "metadata": {
    "vscode": {
     "languageId": "plaintext"
    }
   },
   "source": [
    "## **Zadanie 11**\n",
    "\n",
    "**Dataset:** geyser\n",
    "\n",
    "**Treść:**  \n",
    "Sprawdź, czy istnieje zależność między długością erupcji (`duration`) a czasem oczekiwania na erupcję (`waiting`). Dodaj informację o rodzaju erupcji (`kind`), by zobaczyć, czy wszystkie wybuchy mają podobny przebieg.\n",
    "\n",
    "**Jak załadować:**  \n",
    "`sns.load_dataset('geyser')`\n",
    "\n",
    "**Wskazówka:**  \n",
    "`sns.scatterplot`\n"
   ]
  },
  {
   "cell_type": "code",
   "execution_count": null,
   "id": "0e1fb629",
   "metadata": {
    "vscode": {
     "languageId": "plaintext"
    }
   },
   "outputs": [],
   "source": []
  },
  {
   "cell_type": "markdown",
   "id": "cff2a5cc",
   "metadata": {
    "vscode": {
     "languageId": "plaintext"
    }
   },
   "source": [
    "## **Zadanie 12**\n",
    "\n",
    "**Dataset:** glue\n",
    "\n",
    "**Treść:**  \n",
    "Porównaj wyniki (`Score`) uzyskane przez różne modele (`Model`) na zadaniach (`Task`). Zbadaj, czy w zależności od roku (`Year`) wyniki modeli ulegają poprawie. Wizualizacja powinna podkreślać różnice między poszczególnymi modelami.\n",
    "\n",
    "**Jak załadować:**  \n",
    "`sns.load_dataset('glue')`\n",
    "\n",
    "**Wskazówka:**  \n",
    "`sns.barplot`"
   ]
  },
  {
   "cell_type": "code",
   "execution_count": null,
   "id": "ba148979",
   "metadata": {
    "vscode": {
     "languageId": "plaintext"
    }
   },
   "outputs": [],
   "source": []
  },
  {
   "cell_type": "markdown",
   "id": "19d2af2c",
   "metadata": {
    "vscode": {
     "languageId": "plaintext"
    }
   },
   "source": [
    "## **Zadanie 13**\n",
    "\n",
    "**Dataset:** healthexp\n",
    "\n",
    "**Treść:**  \n",
    "Wybierz jeden konkretny rok i sprawdź, czy w poszczególnych krajach (`Country`) istnieje zależność między wydatkami na zdrowie (`Spending_USD`) a oczekiwaną długością życia (`Life_Expectancy`). Narysuj wykres, który uwidoczni ten związek.\n",
    "\n",
    "**Jak załadować:**  \n",
    "`sns.load_dataset('healthexp')`\n",
    "\n",
    "**Wskazówka:**  \n",
    "`sns.scatterplot`"
   ]
  },
  {
   "cell_type": "code",
   "execution_count": null,
   "id": "76ca289c",
   "metadata": {
    "vscode": {
     "languageId": "plaintext"
    }
   },
   "outputs": [],
   "source": []
  },
  {
   "cell_type": "markdown",
   "id": "07f083c3",
   "metadata": {
    "vscode": {
     "languageId": "plaintext"
    }
   },
   "source": [
    "## **Zadanie 14**\n",
    "\n",
    "**Dataset:** iris\n",
    "\n",
    "**Treść:**  \n",
    "Przeanalizuj wszystkie pary cech (takich jak `sepal_length`, `sepal_width`, `petal_length`, `petal_width`) i sprawdź, czy gatunki (`species`) są od siebie wyraźnie oddzielone w przestrzeni tych wymiarów. Zastosuj wizualizację wieloparową.\n",
    "\n",
    "**Jak załadować:**  \n",
    "`sns.load_dataset('iris')`\n",
    "\n",
    "**Wskazówka:**  \n",
    "`sns.pairplot`\n"
   ]
  },
  {
   "cell_type": "code",
   "execution_count": null,
   "id": "5fefe8d7",
   "metadata": {
    "vscode": {
     "languageId": "plaintext"
    }
   },
   "outputs": [],
   "source": []
  },
  {
   "cell_type": "markdown",
   "id": "be304da6",
   "metadata": {
    "vscode": {
     "languageId": "plaintext"
    }
   },
   "source": [
    "## **Zadanie 15**\n",
    "\n",
    "**Dataset:** mpg\n",
    "\n",
    "**Treść:**  \n",
    "Sprawdź, czy pojazdy o większej masie (`weight`) i większej pojemności silnika (`displacement`) osiągają niższe wartości zużycia paliwa (`mpg`). Zobacz, czy region pochodzenia (`origin`) wpływa na tę zależność.\n",
    "\n",
    "**Jak załadować:**  \n",
    "`sns.load_dataset('mpg')`\n",
    "\n",
    "**Wskazówka:**  \n",
    "`sns.lmplot`"
   ]
  },
  {
   "cell_type": "code",
   "execution_count": null,
   "id": "23629aae",
   "metadata": {
    "vscode": {
     "languageId": "plaintext"
    }
   },
   "outputs": [],
   "source": []
  },
  {
   "cell_type": "markdown",
   "id": "bf4f3c14",
   "metadata": {
    "vscode": {
     "languageId": "plaintext"
    }
   },
   "source": [
    "\n",
    "## **Zadanie 16**\n",
    "\n",
    "**Dataset:** penguins\n",
    "\n",
    "**Treść:**  \n",
    "Zbadaj, czy długość dzioba (`bill_length_mm`) jest powiązana z jego głębokością (`bill_depth_mm`), i sprawdź, czy zależność różni się pomiędzy poszczególnymi gatunkami (`species`) lub wyspami (`island`).\n",
    "\n",
    "**Jak załadować:**  \n",
    "`sns.load_dataset('penguins')`\n",
    "\n",
    "**Wskazówka:**  \n",
    "`sns.scatterplot`\n"
   ]
  },
  {
   "cell_type": "code",
   "execution_count": null,
   "id": "65257238",
   "metadata": {
    "vscode": {
     "languageId": "plaintext"
    }
   },
   "outputs": [],
   "source": []
  },
  {
   "cell_type": "markdown",
   "id": "eaac1ff2",
   "metadata": {
    "vscode": {
     "languageId": "plaintext"
    }
   },
   "source": [
    "## **Zadanie 17**\n",
    "\n",
    "**Dataset:** planets\n",
    "\n",
    "**Treść:**  \n",
    "Przeanalizuj, czy metoda odkrycia (`method`) jest powiązana z odkrywaniem masywnych planet (`mass`) oraz tych znajdujących się dalej od układu macierzystego (`distance`). Oceń, czy pewne metody są skuteczniejsze w wykrywaniu specyficznych rodzajów planet.\n",
    "\n",
    "**Jak załadować:**  \n",
    "`sns.load_dataset('planets')`\n",
    "\n",
    "**Wskazówka:**  \n",
    "`sns.scatterplot`"
   ]
  },
  {
   "cell_type": "code",
   "execution_count": null,
   "id": "cdde11cf",
   "metadata": {
    "vscode": {
     "languageId": "plaintext"
    }
   },
   "outputs": [],
   "source": []
  },
  {
   "cell_type": "markdown",
   "id": "df9c2807",
   "metadata": {
    "vscode": {
     "languageId": "plaintext"
    }
   },
   "source": [
    "## **Zadanie 18**\n",
    "\n",
    "**Dataset:** seaice\n",
    "\n",
    "**Treść:**  \n",
    "Oceń, jak zmienia się zasięg pokrywy lodowej (`Extent`) w czasie (`Date`). Zbadaj, czy w danych występuje wyraźny trend spadkowy lub okresowe wahania, i przedstaw to na wykresie linowym.\n",
    "\n",
    "**Jak załadować:**  \n",
    "`sns.load_dataset('seaice')`\n",
    "\n",
    "**Wskazówka:**  \n",
    "`sns.lineplot`\n"
   ]
  },
  {
   "cell_type": "code",
   "execution_count": null,
   "id": "456358ea",
   "metadata": {
    "vscode": {
     "languageId": "plaintext"
    }
   },
   "outputs": [],
   "source": []
  },
  {
   "cell_type": "markdown",
   "id": "944c20ed",
   "metadata": {
    "vscode": {
     "languageId": "plaintext"
    }
   },
   "source": [
    "## **Zadanie 19**\n",
    "\n",
    "**Dataset:** tips\n",
    "\n",
    "**Treść:**  \n",
    "Sprawdź, czy wysokość napiwku (`tip`) zależy od liczby osób przy stoliku (`size`) oraz pory posiłku (`time`). Przedstaw wyniki na wykresie, który pokaże różnice w kwotach napiwków dla różnych kombinacji tych czynników.\n",
    "\n",
    "**Jak załadować:**  \n",
    "`sns.load_dataset('tips')`\n",
    "\n",
    "**Wskazówka:**  \n",
    "`sns.catplot`\n"
   ]
  },
  {
   "cell_type": "code",
   "execution_count": null,
   "id": "1c5946cb",
   "metadata": {
    "vscode": {
     "languageId": "plaintext"
    }
   },
   "outputs": [],
   "source": []
  },
  {
   "cell_type": "markdown",
   "id": "dfda9a56",
   "metadata": {
    "vscode": {
     "languageId": "plaintext"
    }
   },
   "source": [
    "\n",
    "## **Zadanie 20**\n",
    "\n",
    "**Dataset:** titanic\n",
    "\n",
    "**Treść:**  \n",
    "Zbadaj, czy pasażerowie z różnych klas (`class`) i różnej płci (`sex`) różnili się istotnie pod względem przeżywalności (`survived`). Narysuj taki wykres, aby łatwo porównać wszystkie grupy jednocześnie.\n",
    "\n",
    "**Jak załadować:**  \n",
    "`sns.load_dataset('titanic')`\n",
    "\n",
    "**Wskazówka:**  \n",
    "`sns.countplot`"
   ]
  },
  {
   "cell_type": "code",
   "execution_count": null,
   "id": "6fd0b382",
   "metadata": {
    "vscode": {
     "languageId": "plaintext"
    }
   },
   "outputs": [],
   "source": []
  }
 ],
 "metadata": {
  "celltoolbar": "Slideshow",
  "kernelspec": {
   "display_name": "Kokoro",
   "language": "python",
   "name": "python3"
  },
  "language_info": {
   "codemirror_mode": {
    "name": "ipython",
    "version": 3
   },
   "file_extension": ".py",
   "mimetype": "text/x-python",
   "name": "python",
   "nbconvert_exporter": "python",
   "pygments_lexer": "ipython3",
   "version": "3.11.3"
  }
 },
 "nbformat": 4,
 "nbformat_minor": 5
}
