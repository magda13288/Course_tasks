{
 "cells": [
  {
   "cell_type": "markdown",
   "id": "04c78e49",
   "metadata": {
    "vscode": {
     "languageId": "plaintext"
    }
   },
   "source": [
    "\n",
    "\n",
    "## **A. Podstawy NumPy (Zadania 1–22)**\n"
   ]
  },
  {
   "cell_type": "markdown",
   "id": "a1304bfa",
   "metadata": {
    "vscode": {
     "languageId": "plaintext"
    }
   },
   "source": [
    "\n",
    "1. Utwórz tablicę liczb całkowitych od 0 do 19.  \n",
    "   Następnie zmodyfikuj jej typ danych na float32.  \n",
    "   Sprawdź minimalną i maksymalną wartość w tablicy."
   ]
  },
  {
   "cell_type": "code",
   "execution_count": 3,
   "id": "abe97ab0",
   "metadata": {},
   "outputs": [
    {
     "name": "stdout",
     "output_type": "stream",
     "text": [
      "Min value: 0.0\n",
      "Max value: 19.0\n"
     ]
    }
   ],
   "source": [
    "import numpy as np\n",
    "\n",
    "arr_np = np.arange(20)\n",
    "\n",
    "arr_np = arr_np.astype(np.float32)\n",
    "\n",
    "print(f'Min value: {np.min(arr_np)}')\n",
    "print(f'Max value: {np.max(arr_np)}')"
   ]
  },
  {
   "cell_type": "markdown",
   "id": "625e4e56",
   "metadata": {
    "vscode": {
     "languageId": "plaintext"
    }
   },
   "source": [
    "2. Skorzystaj z funkcji `linspace`, aby stworzyć tablicę 1D z 6 równomiernie rozmieszczonymi punktami w zakresie [0, 3].  \n",
    "   Upewnij się, że liczba elementów zgadza się z parametrem `num`.\n"
   ]
  },
  {
   "cell_type": "code",
   "execution_count": 3,
   "id": "b412d5ee",
   "metadata": {},
   "outputs": [
    {
     "name": "stdout",
     "output_type": "stream",
     "text": [
      "[0.  0.6 1.2 1.8 2.4 3. ]\n"
     ]
    }
   ],
   "source": [
    "x = np.linspace(0,3,num=6)\n",
    "print(x)"
   ]
  },
  {
   "cell_type": "markdown",
   "id": "5ef4851a",
   "metadata": {
    "vscode": {
     "languageId": "plaintext"
    }
   },
   "source": [
    "\n",
    "\n",
    "3. Z tablicy liczb (np. 0–19) utwórz tablicę 2D o kształcie (4, 5) przy pomocy metody `reshape`.  \n",
    "   Sprawdź nowy kształt (`.shape`) i liczbę wymiarów (`.ndim`).\n"
   ]
  },
  {
   "cell_type": "code",
   "execution_count": 5,
   "id": "bf1092f1",
   "metadata": {},
   "outputs": [
    {
     "name": "stdout",
     "output_type": "stream",
     "text": [
      "[[ 0  1  2  3  4]\n",
      " [ 5  6  7  8  9]\n",
      " [10 11 12 13 14]\n",
      " [15 16 17 18 19]]\n",
      "\n",
      "Shape: (4, 5)\n",
      "Dimension: 2\n"
     ]
    }
   ],
   "source": [
    "tab = np.arange(20)\n",
    "tab_multi_dim = tab.reshape((4,5))\n",
    "print(f'{tab_multi_dim}\\n')\n",
    "\n",
    "print(f'Shape: {tab_multi_dim.shape}')\n",
    "print(f'Dimension: {tab_multi_dim.ndim}')"
   ]
  },
  {
   "cell_type": "markdown",
   "id": "6368fc2d",
   "metadata": {
    "vscode": {
     "languageId": "plaintext"
    }
   },
   "source": [
    "4. Rozszerz tablicę 2D (4×5) do wymiaru 3D (np. 2×2×5).  \n",
    "   Następnie użyj `ravel()` i `flatten()`, aby spłaszczyć powstałą tablicę.  \n",
    "   Zwróć uwagę, które z tych metod tworzą kopię, a które widok."
   ]
  },
  {
   "cell_type": "code",
   "execution_count": null,
   "id": "50db405a",
   "metadata": {},
   "outputs": [
    {
     "name": "stdout",
     "output_type": "stream",
     "text": [
      "Tab_3d: [[[ 0  1  2  3  4]\n",
      "  [ 5  6  7  8  9]]\n",
      "\n",
      " [[10 11 12 13 14]\n",
      "  [15 16 17 18 19]]]\n",
      "\n",
      "Flatten: [ 0  1  2  3  4  5  6  7  8  9 10 11 12 13 14 15 16 17 18 19]\n",
      "\n",
      "Tab_3d: [[[ 0  1  2  3  4]\n",
      "  [ 5  6  7  8  9]]\n",
      "\n",
      " [[10 11 12 13 14]\n",
      "  [15 16 17 18 19]]]\n",
      "\n",
      "Ravel: [ 0  1  2  3  4  5  6  7  8  9 10 11 12 13 14 15 16 17 18 19]\n",
      "\n",
      "Tab_3d: [[[ 0  1  2  3  4]\n",
      "  [ 5  6  7  8  9]]\n",
      "\n",
      " [[10 11 12 13 14]\n",
      "  [15 16 17 18 19]]]\n",
      "\n"
     ]
    }
   ],
   "source": [
    "tab_3d = tab_multi_dim.reshape((2,2,5))\n",
    "print(f'Tab_3d:\\n {tab_3d}\\n')\n",
    "\n",
    "x = tab_3d.flatten()\n",
    "print(f'Flatten:\\n {x}\\n')\n",
    "print(f'Tab_3d:\\n {tab_3d}\\n')\n",
    "y = tab_3d.ravel()\n",
    "print(f'Ravel:\\n {y}\\n')\n",
    "print(f'Tab_3d:\\n {tab_3d}\\n')\n"
   ]
  },
  {
   "cell_type": "markdown",
   "id": "d4fe3693",
   "metadata": {
    "vscode": {
     "languageId": "plaintext"
    }
   },
   "source": [
    "\n",
    "\n",
    "5. Utwórz tablicę 1D z wartościami 10–19.  \n",
    "   Wyświetl element o indeksie 0, element o indeksie 5 i element o indeksie -1."
   ]
  },
  {
   "cell_type": "code",
   "execution_count": 70,
   "id": "82a9e870",
   "metadata": {},
   "outputs": [
    {
     "data": {
      "text/plain": [
       "array([10, 15, 19])"
      ]
     },
     "execution_count": 70,
     "metadata": {},
     "output_type": "execute_result"
    }
   ],
   "source": [
    "tab = np.arange(10,20)\n",
    "ind = [0,5,-1]\n",
    "tab[ind]"
   ]
  },
  {
   "cell_type": "markdown",
   "id": "4ef6f6ab",
   "metadata": {
    "vscode": {
     "languageId": "plaintext"
    }
   },
   "source": [
    "6. Stwórz tablicę 2D (5×5) z losowymi liczbami całkowitymi (`random.randint`).  \n",
    "   Wybierz:\n",
    "   - cały 2. wiersz (indeks 1),\n",
    "   - 3 pierwsze kolumny wiersza 4 (indeks 3),\n",
    "   - podtablicę (2×2) z górnego lewego rogu."
   ]
  },
  {
   "cell_type": "code",
   "execution_count": 53,
   "id": "6b7780eb",
   "metadata": {},
   "outputs": [
    {
     "name": "stdout",
     "output_type": "stream",
     "text": [
      "[[6 7 5 6 7]\n",
      " [4 0 4 2 3]\n",
      " [2 1 6 5 1]\n",
      " [8 0 8 6 8]\n",
      " [1 2 9 6 5]]\n",
      "[4 0 4 2 3]\n",
      "\n",
      "[8 0 8]\n",
      "\n",
      "[[6 7]\n",
      " [4 0]]\n"
     ]
    }
   ],
   "source": [
    "tab_2d = np.random.randint(10,size=(5,5))\n",
    "print(tab_2d)\n",
    "print(f'{tab_2d[1]}\\n')             \n",
    "print(f'{tab_2d[3, :3]}\\n') \n",
    "print(f'{tab_2d[:2, :2]}')    \n"
   ]
  },
  {
   "cell_type": "markdown",
   "id": "64411c8f",
   "metadata": {
    "vscode": {
     "languageId": "plaintext"
    }
   },
   "source": [
    "\n",
    "\n",
    "\n",
    "7. Utwórz tablicę z wartościami `[0, 10, 20, 30, 40, 50]`.  \n",
    "   Wybierz co drugi element, zaczynając od indeksu 1 (otrzymasz 10, 30, 50).\n"
   ]
  },
  {
   "cell_type": "code",
   "execution_count": 56,
   "id": "308883b1",
   "metadata": {},
   "outputs": [
    {
     "name": "stdout",
     "output_type": "stream",
     "text": [
      "[ 0 10 20 30 40 50]\n",
      "[10 30 50]\n"
     ]
    }
   ],
   "source": [
    "tab_x = np.arange(0,51,10)\n",
    "print(tab_x)\n",
    "print(f'{tab_x[1::2]}')"
   ]
  },
  {
   "cell_type": "markdown",
   "id": "3a3138c6",
   "metadata": {
    "vscode": {
     "languageId": "plaintext"
    }
   },
   "source": [
    "\n",
    "\n",
    "8. W tablicy 2D (5×5) ustaw cały 3. wiersz (indeks 2) na wartość 99.  \n",
    "   Wyświetl zmodyfikowaną tablicę."
   ]
  },
  {
   "cell_type": "code",
   "execution_count": 64,
   "id": "11ab4bc2",
   "metadata": {},
   "outputs": [
    {
     "name": "stdout",
     "output_type": "stream",
     "text": [
      "[[6 7 3 6 4]\n",
      " [0 5 9 8 7]\n",
      " [8 2 2 8 6]\n",
      " [2 2 6 4 5]\n",
      " [8 8 1 3 8]]\n",
      "\n",
      "[[ 0  1  2  3  4]\n",
      " [ 5  6  7  8  9]\n",
      " [10 11 12 13 14]\n",
      " [15 16 17 18 19]\n",
      " [20 21 22 23 24]]\n",
      "\n",
      "[[0. 0. 0. 0. 0.]\n",
      " [0. 0. 0. 0. 0.]\n",
      " [0. 0. 0. 0. 0.]\n",
      " [0. 0. 0. 0. 0.]\n",
      " [0. 0. 0. 0. 0.]]\n",
      "\n",
      "[[ 0.  0.  0.  0.  0.]\n",
      " [ 0.  0.  0.  0.  0.]\n",
      " [99. 99. 99. 99. 99.]\n",
      " [ 0.  0.  0.  0.  0.]\n",
      " [ 0.  0.  0.  0.  0.]]\n",
      "\n"
     ]
    }
   ],
   "source": [
    "tab_y = np.random.randint(10, size = (5,5))\n",
    "tab_yy = np.arange(25).reshape(5,5)\n",
    "tab_zero = np.zeros((5,5))\n",
    "print(f'{tab_y}\\n')\n",
    "print(f'{tab_yy}\\n')\n",
    "print(f'{tab_zero}\\n')\n",
    "\n",
    "tab_zero[2]=99\n",
    "\n",
    "print(f'{tab_zero}\\n')\n",
    "\n"
   ]
  },
  {
   "cell_type": "markdown",
   "id": "7a700906",
   "metadata": {
    "vscode": {
     "languageId": "plaintext"
    }
   },
   "source": [
    "\n",
    "\n",
    "9. Korzystając z maski logicznej, wszystkie elementy < 10 w powyższej tablicy zastąp wartością 10.  \n",
    "   Porównaj efekt z oryginałem."
   ]
  },
  {
   "cell_type": "code",
   "execution_count": 66,
   "id": "330f3ec9",
   "metadata": {},
   "outputs": [
    {
     "name": "stdout",
     "output_type": "stream",
     "text": [
      "[[ 0  1  2  3  4]\n",
      " [ 5  6  7  8  9]\n",
      " [10 11 12 13 14]\n",
      " [15 16 17 18 19]\n",
      " [20 21 22 23 24]]\n",
      "\n",
      "[[10 10 10 10 10]\n",
      " [10 10 10 10 10]\n",
      " [10 11 12 13 14]\n",
      " [15 16 17 18 19]\n",
      " [20 21 22 23 24]]\n",
      "\n"
     ]
    }
   ],
   "source": [
    "tab_new = tab_yy.copy()\n",
    "tab_new[tab_new<10] = 10\n",
    "\n",
    "print(f'{tab_yy}\\n')\n",
    "print(f'{tab_new}\\n')"
   ]
  },
  {
   "cell_type": "markdown",
   "id": "710d96f4",
   "metadata": {
    "vscode": {
     "languageId": "plaintext"
    }
   },
   "source": [
    "\n",
    "\n",
    "\n",
    "\n",
    "10. Przytnij wszystkie wartości > 90 do poziomu 90 (można użyć maski lub funkcji `clip`).\n"
   ]
  },
  {
   "cell_type": "code",
   "execution_count": 69,
   "id": "8a35dd6a",
   "metadata": {},
   "outputs": [
    {
     "name": "stdout",
     "output_type": "stream",
     "text": [
      "[[ 0.  0.  0.  0.  0.]\n",
      " [ 0.  0.  0.  0.  0.]\n",
      " [99. 99. 99. 99. 99.]\n",
      " [ 0.  0.  0.  0.  0.]\n",
      " [ 0.  0.  0.  0.  0.]]\n",
      "\n",
      "[[ 0.  0.  0.  0.  0.]\n",
      " [ 0.  0.  0.  0.  0.]\n",
      " [90. 90. 90. 90. 90.]\n",
      " [ 0.  0.  0.  0.  0.]\n",
      " [ 0.  0.  0.  0.  0.]]\n",
      "\n",
      "[[ 0.  0.  0.  0.  0.]\n",
      " [ 0.  0.  0.  0.  0.]\n",
      " [90. 90. 90. 90. 90.]\n",
      " [ 0.  0.  0.  0.  0.]\n",
      " [ 0.  0.  0.  0.  0.]]\n",
      "\n"
     ]
    }
   ],
   "source": [
    "tab_new_zero = tab_zero.copy()\n",
    "tab_new_zero[tab_new_zero>90]=90\n",
    "tab_new_clip = tab_new_zero.clip(0,90)\n",
    "\n",
    "print(f'{tab_zero}\\n')\n",
    "print(f'{tab_new_zero}\\n')\n",
    "print(f'{tab_new_clip}\\n')"
   ]
  },
  {
   "cell_type": "markdown",
   "id": "d033ad9e",
   "metadata": {
    "vscode": {
     "languageId": "plaintext"
    }
   },
   "source": [
    "11. Stwórz tablicę 2D (3×3).  \n",
    "    Dodaj nowy wiersz (3-elementowy) do jej końca, korzystając np. z funkcji `vstack`.  \n",
    "    Wyświetl wynik."
   ]
  },
  {
   "cell_type": "code",
   "execution_count": 75,
   "id": "99a0d3dc",
   "metadata": {},
   "outputs": [
    {
     "name": "stdout",
     "output_type": "stream",
     "text": [
      "[[ 6 10  3]\n",
      " [10  4  0]\n",
      " [19  1  6]]\n",
      "\n",
      "[[1 2 3]]\n",
      "\n",
      "[[ 6 10  3]\n",
      " [10  4  0]\n",
      " [19  1  6]\n",
      " [ 1  2  3]]\n",
      "\n"
     ]
    }
   ],
   "source": [
    "tab_2d_3_3 = np.random.randint(20, size = (3,3))\n",
    "print(f'{tab_2d_3_3}\\n')\n",
    "new_row = np.array([[1,2,3]])\n",
    "print(f'{new_row}\\n')\n",
    "\n",
    "new_tab = np.vstack([tab_2d_3_3,new_row])\n",
    "print(f'{new_tab}\\n')\n"
   ]
  },
  {
   "cell_type": "markdown",
   "id": "309aaa96",
   "metadata": {
    "vscode": {
     "languageId": "plaintext"
    }
   },
   "source": [
    "\n",
    "12. Do powstałej tablicy dodaj nową kolumnę (4. kolumnę) za pomocą funkcji `hstack`.  \n",
    "    Upewnij się, że nowa kolumna ma wymiar (4, 1), jeżeli tablica ma teraz 4 wiersze.\n"
   ]
  },
  {
   "cell_type": "code",
   "execution_count": 79,
   "id": "49500a58",
   "metadata": {},
   "outputs": [
    {
     "name": "stdout",
     "output_type": "stream",
     "text": [
      "[[1]\n",
      " [1]\n",
      " [1]\n",
      " [1]]\n",
      "\n",
      "[[ 6 10  3  1]\n",
      " [10  4  0  1]\n",
      " [19  1  6  1]\n",
      " [ 1  2  3  1]]\n",
      "\n"
     ]
    }
   ],
   "source": [
    "new_col = np.ones((4,1), dtype= int)\n",
    "print(f'{new_col}\\n')\n",
    "\n",
    "new_tab_col = np.hstack([new_tab,new_col])\n",
    "print(f'{new_tab_col}\\n')\n"
   ]
  },
  {
   "cell_type": "markdown",
   "id": "4a511747",
   "metadata": {
    "vscode": {
     "languageId": "plaintext"
    }
   },
   "source": [
    "13. Użyj funkcji `delete`, aby usunąć 2. kolumnę (indeks 1).  \n",
    "    Sprawdź kształt tablicy przed i po usunięciu.\n"
   ]
  },
  {
   "cell_type": "code",
   "execution_count": 87,
   "id": "b343d01a",
   "metadata": {},
   "outputs": [
    {
     "name": "stdout",
     "output_type": "stream",
     "text": [
      "[[ 6  3  1]\n",
      " [10  0  1]\n",
      " [19  6  1]\n",
      " [ 1  3  1]]\n",
      "\n"
     ]
    }
   ],
   "source": [
    "deleted_col = np.delete(new_tab_col,1,axis=1)\n",
    "print(f'{deleted_col}\\n')"
   ]
  },
  {
   "cell_type": "markdown",
   "id": "98eca43c",
   "metadata": {
    "vscode": {
     "languageId": "plaintext"
    }
   },
   "source": [
    "14. Stwórz tablicę 2D (3×4) z liczbami od 1 do 12.  \n",
    "    Policz sumę wszystkich elementów oraz sumy wzdłuż wierszy (axis=1) i wzdłuż kolumn (axis=0)."
   ]
  },
  {
   "cell_type": "code",
   "execution_count": 90,
   "id": "6a74f81b",
   "metadata": {},
   "outputs": [
    {
     "name": "stdout",
     "output_type": "stream",
     "text": [
      "[[ 2  6  4  1]\n",
      " [ 0  2  9 11]\n",
      " [ 4  1  4  7]]\n",
      "\n",
      "Suma wzdłuż wierszy: [13 22 16]\n",
      "Suma wzdłuż kolumn: [ 6  9 17 19]\n"
     ]
    }
   ],
   "source": [
    "tab_3x4 = np.random.randint(12, size=(3,4))\n",
    "print(f'{tab_3x4}\\n')\n",
    "print(f'Suma wzdłuż wierszy: {np.sum(tab_3x4,axis=1)}') \n",
    "print(f'Suma wzdłuż kolumn: {np.sum(tab_3x4, axis =0)}') "
   ]
  },
  {
   "cell_type": "markdown",
   "id": "68729649",
   "metadata": {
    "vscode": {
     "languageId": "plaintext"
    }
   },
   "source": [
    "15. Oblicz średnią (`mean`) i medianę (`median`) w tablicy 2D (np. (3×4) z poprzedniego zadania).  \n",
    "    Porównaj wyniki.\n"
   ]
  },
  {
   "cell_type": "code",
   "execution_count": 94,
   "id": "e02b00b9",
   "metadata": {},
   "outputs": [
    {
     "name": "stdout",
     "output_type": "stream",
     "text": [
      "Średnia: 4.25\n",
      "Mediana: 4.0\n"
     ]
    }
   ],
   "source": [
    "print(f'Średnia: {np.mean(tab_3x4)}')\n",
    "print(f'Mediana: {np.median(tab_3x4)}')"
   ]
  },
  {
   "cell_type": "markdown",
   "id": "443b6508",
   "metadata": {
    "vscode": {
     "languageId": "plaintext"
    }
   },
   "source": [
    "16. Napisz krótką funkcję (bez pętli), która w sposób wektorowy podniesie każdą wartość w tablicy 1D do kwadratu.\n"
   ]
  },
  {
   "cell_type": "code",
   "execution_count": null,
   "id": "7cd3fd6c",
   "metadata": {},
   "outputs": [
    {
     "name": "stdout",
     "output_type": "stream",
     "text": [
      "[  0   1   4   9  16  25  36  49  64  81 100 121 144 169 196 225 256 289\n",
      " 324 361]\n"
     ]
    }
   ],
   "source": [
    "def square_func():\n",
    "    tab_square = np.arange(20)\n",
    "    print(tab_square ** 2)\n",
    "\n",
    "square_func()"
   ]
  },
  {
   "cell_type": "markdown",
   "id": "d7141e72",
   "metadata": {
    "vscode": {
     "languageId": "plaintext"
    }
   },
   "source": [
    "\n",
    "17. Skorzystaj z `cumsum` (cumulative sum) i `cumprod` (cumulative product) na tablicy `[1, 2, 3, 4]`.  \n",
    "    Wyświetl wyniki."
   ]
  },
  {
   "cell_type": "code",
   "execution_count": 8,
   "id": "9070ad6b",
   "metadata": {},
   "outputs": [
    {
     "name": "stdout",
     "output_type": "stream",
     "text": [
      "[0 1 2 3 4]\n",
      "\n",
      "Cumsum tab:\n",
      " [ 0  1  3  6 10]\n",
      "\n",
      "Cumprod tab: \n",
      " [0 0 0 0 0]\n",
      "\n"
     ]
    }
   ],
   "source": [
    "small_tab = np.arange(5)\n",
    "print(f'{small_tab}\\n')\n",
    "\n",
    "cumsum_tab = np.cumsum(small_tab)\n",
    "cumprod = np.cumprod(small_tab)\n",
    "\n",
    "print(f'Cumsum tab:\\n {cumsum_tab}\\n')\n",
    "print(f'Cumprod tab: \\n {cumprod}\\n')"
   ]
  },
  {
   "cell_type": "code",
   "execution_count": null,
   "id": "53aaab81",
   "metadata": {},
   "outputs": [],
   "source": []
  },
  {
   "cell_type": "markdown",
   "id": "5e7ca9d0",
   "metadata": {
    "vscode": {
     "languageId": "plaintext"
    }
   },
   "source": [
    "\n",
    "18. Wygeneruj tablicę 10 liczb losowych (typu float) w przedziale [0..1].  \n",
    "    Oblicz odchylenie standardowe (`std`) oraz wariancję (`var`)."
   ]
  },
  {
   "cell_type": "code",
   "execution_count": 9,
   "id": "1e0dbd7f",
   "metadata": {},
   "outputs": [
    {
     "name": "stdout",
     "output_type": "stream",
     "text": [
      "[0.90800173 0.02667525 0.57413813 0.56683194 0.62939916 0.4276311\n",
      " 0.14074941 0.8821145  0.63678956 0.63192413]\n",
      "\n",
      "Standard deviation: 0.27\n",
      "Variance: 0.07\n",
      "\n"
     ]
    }
   ],
   "source": [
    "float_tab = np.random.rand(10)\n",
    "print(f'{float_tab}\\n')\n",
    "\n",
    "std = np.std(float_tab)\n",
    "var = np.var(float_tab)\n",
    "\n",
    "print(f'Standard deviation: {std.round(2)}')\n",
    "print(f'Variance: {var.round(2)}\\n')"
   ]
  },
  {
   "cell_type": "markdown",
   "id": "6996b0d9",
   "metadata": {
    "vscode": {
     "languageId": "plaintext"
    }
   },
   "source": [
    "\n",
    "19. Stwórz tablicę 2D (3×3) oraz jednowymiarową (3 elementy).  \n",
    "    Dodaj je do siebie, korzystając z mechanizmu broadcastingu."
   ]
  },
  {
   "cell_type": "code",
   "execution_count": null,
   "id": "0863a87d",
   "metadata": {},
   "outputs": [],
   "source": []
  },
  {
   "cell_type": "code",
   "execution_count": 20,
   "id": "0c8a3f34",
   "metadata": {},
   "outputs": [
    {
     "name": "stdout",
     "output_type": "stream",
     "text": [
      "[[ 1 16  3]\n",
      " [ 1 13  6]\n",
      " [ 8 17 12]]\n",
      "\n",
      "[[10]\n",
      " [20]\n",
      " [30]]\n",
      "\n",
      "Sum of tables:\n",
      " [[11 26 13]\n",
      " [21 33 26]\n",
      " [38 47 42]]\n",
      "\n"
     ]
    }
   ],
   "source": [
    "tab1 = np.random.randint(20,size = (3,3))\n",
    "tab2 = np.arange(10,31,10).reshape(3,1)\n",
    "\n",
    "print(f'{tab1}\\n')\n",
    "print(f'{tab2}\\n')\n",
    "\n",
    "sum_tab = tab1+tab2\n",
    "\n",
    "print(f'Sum of tables:\\n {sum_tab}\\n')\n"
   ]
  },
  {
   "cell_type": "markdown",
   "id": "efd78efa",
   "metadata": {
    "vscode": {
     "languageId": "plaintext"
    }
   },
   "source": [
    "\n",
    "\n",
    "20. Zademonstruj przypadek, w którym broadcasting się nie powiedzie (np. (3×3) + (2×3)).  \n",
    "    Zaobserwuj komunikat o błędzie."
   ]
  },
  {
   "cell_type": "code",
   "execution_count": 22,
   "id": "dfb051ee",
   "metadata": {},
   "outputs": [
    {
     "name": "stdout",
     "output_type": "stream",
     "text": [
      "[[ 7 19 18]\n",
      " [14  8 14]\n",
      " [ 2  9  5]]\n",
      "\n",
      "[[47 23 31 31]\n",
      " [21  6 19 27]\n",
      " [45 41 48 28]]\n",
      "\n"
     ]
    },
    {
     "ename": "ValueError",
     "evalue": "operands could not be broadcast together with shapes (3,3) (3,4) ",
     "output_type": "error",
     "traceback": [
      "\u001b[31m---------------------------------------------------------------------------\u001b[39m",
      "\u001b[31mValueError\u001b[39m                                Traceback (most recent call last)",
      "\u001b[36mCell\u001b[39m\u001b[36m \u001b[39m\u001b[32mIn[22]\u001b[39m\u001b[32m, line 7\u001b[39m\n\u001b[32m      4\u001b[39m \u001b[38;5;28mprint\u001b[39m(\u001b[33mf\u001b[39m\u001b[33m'\u001b[39m\u001b[38;5;132;01m{\u001b[39;00mtab1\u001b[38;5;132;01m}\u001b[39;00m\u001b[38;5;130;01m\\n\u001b[39;00m\u001b[33m'\u001b[39m)\n\u001b[32m      5\u001b[39m \u001b[38;5;28mprint\u001b[39m(\u001b[33mf\u001b[39m\u001b[33m'\u001b[39m\u001b[38;5;132;01m{\u001b[39;00mtab2\u001b[38;5;132;01m}\u001b[39;00m\u001b[38;5;130;01m\\n\u001b[39;00m\u001b[33m'\u001b[39m)\n\u001b[32m----> \u001b[39m\u001b[32m7\u001b[39m sum_tab = \u001b[43mtab1\u001b[49m\u001b[43m+\u001b[49m\u001b[43mtab2\u001b[49m\n\u001b[32m      9\u001b[39m \u001b[38;5;28mprint\u001b[39m(\u001b[33mf\u001b[39m\u001b[33m'\u001b[39m\u001b[33mSum of tables:\u001b[39m\u001b[38;5;130;01m\\n\u001b[39;00m\u001b[33m \u001b[39m\u001b[38;5;132;01m{\u001b[39;00msum_tab\u001b[38;5;132;01m}\u001b[39;00m\u001b[38;5;130;01m\\n\u001b[39;00m\u001b[33m'\u001b[39m)\n",
      "\u001b[31mValueError\u001b[39m: operands could not be broadcast together with shapes (3,3) (3,4) "
     ]
    }
   ],
   "source": [
    "tab1 = np.random.randint(20,size = (3,3))\n",
    "tab2 = np.random.randint(0,50,size=(3,4))\n",
    "\n",
    "print(f'{tab1}\\n')\n",
    "print(f'{tab2}\\n')\n",
    "\n",
    "sum_tab = tab1+tab2\n",
    "\n",
    "print(f'Sum of tables:\\n {sum_tab}\\n')\n"
   ]
  },
  {
   "cell_type": "markdown",
   "id": "b814315c",
   "metadata": {
    "vscode": {
     "languageId": "plaintext"
    }
   },
   "source": [
    "21. Wygeneruj tablicę losową (8 elementów).  \n",
    "    Użyj funkcji `where`, aby elementy < 0.5 zastąpić 0, a >= 0.5 zastąpić 1.  \n",
    "    Wyświetl wynik."
   ]
  },
  {
   "cell_type": "code",
   "execution_count": null,
   "id": "eaab865f",
   "metadata": {},
   "outputs": [],
   "source": [
    "tab_8elemetns = np.arange(8)"
   ]
  },
  {
   "cell_type": "markdown",
   "id": "0bb1793a",
   "metadata": {
    "vscode": {
     "languageId": "plaintext"
    }
   },
   "source": [
    "22. Stwórz dwie tablice 1D (każda po 5 elementów).  \n",
    "    Sklej je w jedną tablicę za pomocą `concatenate` i posortuj wynik za pomocą `sort`."
   ]
  },
  {
   "cell_type": "code",
   "execution_count": null,
   "id": "1815b2a0",
   "metadata": {},
   "outputs": [],
   "source": []
  },
  {
   "cell_type": "markdown",
   "id": "b96fcbeb",
   "metadata": {
    "vscode": {
     "languageId": "plaintext"
    }
   },
   "source": [
    "---\n",
    "\n",
    "## **B. Dalsze Techniki NumPy (Zadania 23–29)**"
   ]
  },
  {
   "cell_type": "markdown",
   "id": "00f8f09a",
   "metadata": {
    "vscode": {
     "languageId": "plaintext"
    }
   },
   "source": [
    "23. Stwórz tablicę 2D (np. 100 wierszy, 3 kolumny) z losowymi wartościami float.  \n",
    "    Policz korelację między kolumnami, korzystając z funkcji `corrcoef`."
   ]
  },
  {
   "cell_type": "code",
   "execution_count": null,
   "id": "92fa889b",
   "metadata": {},
   "outputs": [],
   "source": []
  },
  {
   "cell_type": "markdown",
   "id": "93df320c",
   "metadata": {
    "vscode": {
     "languageId": "plaintext"
    }
   },
   "source": [
    "24. W tej samej tablicy oblicz minimum, maksimum oraz kwartyle (funkcja `percentile` dla 25%, 50%, 75%).\n"
   ]
  },
  {
   "cell_type": "code",
   "execution_count": null,
   "id": "918dece5",
   "metadata": {},
   "outputs": [],
   "source": []
  },
  {
   "cell_type": "markdown",
   "id": "8ec9c619",
   "metadata": {
    "vscode": {
     "languageId": "plaintext"
    }
   },
   "source": [
    "25. Stwórz tablicę 2D (5×5) z losowymi liczbami.  \n",
    "    Posortuj ją wzdłuż kolumn (parametr `axis=0`), np. korzystając z metody `sort`.\n"
   ]
  },
  {
   "cell_type": "code",
   "execution_count": null,
   "id": "661eef27",
   "metadata": {},
   "outputs": [],
   "source": []
  },
  {
   "cell_type": "markdown",
   "id": "202db17a",
   "metadata": {
    "vscode": {
     "languageId": "plaintext"
    }
   },
   "source": [
    "\n",
    "\n",
    "26. Podziel tablicę 1D (10 elementów) na dwie równe części, używając funkcji `split`.  \n",
    "    Wyświetl obie części.\n"
   ]
  },
  {
   "cell_type": "code",
   "execution_count": null,
   "id": "ed2a1ee8",
   "metadata": {},
   "outputs": [],
   "source": []
  },
  {
   "cell_type": "markdown",
   "id": "e52b7deb",
   "metadata": {
    "vscode": {
     "languageId": "plaintext"
    }
   },
   "source": [
    "27. Załóż, że masz tablicę 1D (20 elementów).  \n",
    "    Wybierz elementy mniejsze niż 5 **lub** większe niż 15, stosując złożoną maskę (np. `(arr < 5) | (arr > 15)`).\n"
   ]
  },
  {
   "cell_type": "code",
   "execution_count": null,
   "id": "bc11322a",
   "metadata": {},
   "outputs": [],
   "source": []
  },
  {
   "cell_type": "markdown",
   "id": "a71e5324",
   "metadata": {
    "vscode": {
     "languageId": "plaintext"
    }
   },
   "source": [
    "28. Użyj funkcji `clip`, aby przyciąć wartości w tej samej tablicy do przedziału [5..15].  \n",
    "    Wyświetl efekt.\n"
   ]
  },
  {
   "cell_type": "code",
   "execution_count": null,
   "id": "d6a3b04f",
   "metadata": {},
   "outputs": [],
   "source": []
  },
  {
   "cell_type": "markdown",
   "id": "b89ae313",
   "metadata": {
    "vscode": {
     "languageId": "plaintext"
    }
   },
   "source": [
    "29. Stwórz dwie tablice 1D (każda po 5 elementów).  \n",
    "    Sklej je (funkcja `concatenate`) i posortuj wynik (`sort`).  \n",
    "    Porównaj z zadaniem 22, gdzie również występowało łączenie i sortowanie.\n"
   ]
  },
  {
   "cell_type": "code",
   "execution_count": null,
   "id": "36eebcaa",
   "metadata": {},
   "outputs": [],
   "source": []
  },
  {
   "cell_type": "markdown",
   "id": "52943a5c",
   "metadata": {
    "vscode": {
     "languageId": "plaintext"
    }
   },
   "source": [
    "## **C. Zadania z Obrazami (Zadania 30–44)**\n"
   ]
  },
  {
   "cell_type": "markdown",
   "id": "68f1aa82",
   "metadata": {
    "vscode": {
     "languageId": "plaintext"
    }
   },
   "source": [
    "Mamy wczytane trzy obrazy  do tablic NumPy:  \n",
    "- *The Persistence of Memory (1931)* – Salvador Dalí  \n",
    "- *Flying Ship* – Zdzisław Beksiński  \n",
    "- *Girl before a Mirror* – Pablo Picasso  \n",
    "\n",
    "Każdy obraz to tablica o kształcie (wysokość, szerokość, kanały), np. `dali_img`, `beksinski_img`, `picasso_img`."
   ]
  },
  {
   "cell_type": "markdown",
   "id": "871d1262",
   "metadata": {
    "vscode": {
     "languageId": "plaintext"
    }
   },
   "source": [
    "\n",
    "\n",
    "30. Wyświetl kształt (`shape`), liczbę kanałów (ostatni element `.shape`) i typ danych (`dtype`) w tablicach: `dali_img`, `beksinski_img`, `picasso_img`."
   ]
  },
  {
   "cell_type": "code",
   "execution_count": null,
   "id": "81d371dc",
   "metadata": {},
   "outputs": [],
   "source": []
  },
  {
   "cell_type": "markdown",
   "id": "90d6d39f",
   "metadata": {
    "vscode": {
     "languageId": "plaintext"
    }
   },
   "source": [
    "\n",
    "31. Za pomocą narzędzi do wykresów (np. `matplotlib.pyplot`) wyświetl wszystkie trzy obrazy obok siebie, używając funkcji `subplot`.  \n",
    "    Dodaj tytuły, aby je rozróżnić."
   ]
  },
  {
   "cell_type": "code",
   "execution_count": null,
   "id": "f5fca2a5",
   "metadata": {},
   "outputs": [],
   "source": []
  },
  {
   "cell_type": "markdown",
   "id": "5d1bec2e",
   "metadata": {
    "vscode": {
     "languageId": "plaintext"
    }
   },
   "source": [
    "\n",
    "32. Oblicz średnią wartość kanału R, G i B w obrazie Dalí.  \n",
    "    Zdecyduj, który kanał ma największą średnią."
   ]
  },
  {
   "cell_type": "code",
   "execution_count": null,
   "id": "350344e4",
   "metadata": {},
   "outputs": [],
   "source": []
  },
  {
   "cell_type": "markdown",
   "id": "57a2e5c4",
   "metadata": {
    "vscode": {
     "languageId": "plaintext"
    }
   },
   "source": [
    "33. Sprawdź minimalną i maksymalną wartość pikseli (dla kanałów R, G, B) w obrazie Beksińskiego (np. metodami `.min()` i `.max()`).\n"
   ]
  },
  {
   "cell_type": "code",
   "execution_count": null,
   "id": "79c3042d",
   "metadata": {},
   "outputs": [],
   "source": []
  },
  {
   "cell_type": "markdown",
   "id": "8710bc0a",
   "metadata": {
    "vscode": {
     "languageId": "plaintext"
    }
   },
   "source": [
    "\n",
    "34. Rozdziel obraz Picassa na trzy osobne tablice kanałów (R, G, B), używając indeksowania (np. `[..., 0]`).  \n",
    "    Następnie zrekonstruuj oryginalny obraz przy pomocy `dstack` i wyświetl efekt."
   ]
  },
  {
   "cell_type": "code",
   "execution_count": null,
   "id": "4bd939a7",
   "metadata": {},
   "outputs": [],
   "source": []
  },
  {
   "cell_type": "markdown",
   "id": "00a8ea42",
   "metadata": {
    "vscode": {
     "languageId": "plaintext"
    }
   },
   "source": [
    "35. Napisz funkcję `to_grayscale(img)`, która tworzy obraz w skali szarości według formuły `0.299*R + 0.587*G + 0.114*B`.  \n",
    "    Zastosuj ją do obrazu Dalí i wyświetl wynik.\n"
   ]
  },
  {
   "cell_type": "code",
   "execution_count": null,
   "id": "ed2ccded",
   "metadata": {},
   "outputs": [],
   "source": []
  },
  {
   "cell_type": "markdown",
   "id": "41846c82",
   "metadata": {
    "vscode": {
     "languageId": "plaintext"
    }
   },
   "source": [
    "\n",
    "36. W obrazie Beksińskiego zwiększ intensywność kanału R o 20% i przytnij wartości do maksymalnego poziomu (np. 255).  \n",
    "    Porównaj efekt z oryginałem.\n"
   ]
  },
  {
   "cell_type": "code",
   "execution_count": null,
   "id": "0ba968ef",
   "metadata": {},
   "outputs": [],
   "source": []
  },
  {
   "cell_type": "markdown",
   "id": "fb9f6ef9",
   "metadata": {
    "vscode": {
     "languageId": "plaintext"
    }
   },
   "source": [
    "37. Z obrazu Dalí wytnij fragment (np. `dali_img[50:300, 100:400, :]`) i wyświetl ten wykadrowany fragment.  \n",
    "    Sprawdź nowy kształt tablicy."
   ]
  },
  {
   "cell_type": "code",
   "execution_count": null,
   "id": "b20c489f",
   "metadata": {},
   "outputs": [],
   "source": []
  },
  {
   "cell_type": "markdown",
   "id": "cac4df42",
   "metadata": {
    "vscode": {
     "languageId": "plaintext"
    }
   },
   "source": [
    "\n",
    "38. Zmniejsz obraz Beksińskiego dwukrotnie w obu wymiarach, korzystając z indeksowania co 2 piksele .  \n",
    "    Wyświetl pomniejszony obraz."
   ]
  },
  {
   "cell_type": "code",
   "execution_count": null,
   "id": "7d5ae695",
   "metadata": {},
   "outputs": [],
   "source": []
  },
  {
   "cell_type": "markdown",
   "id": "da235d0d",
   "metadata": {
    "vscode": {
     "languageId": "plaintext"
    }
   },
   "source": [
    "\n",
    "39. Odwróć obraz Picassa w poziomie (np. `flip` z parametrem `axis=1`).  \n",
    "    Zapisz wynik do pliku `.npy` (funkcja `save`), a następnie wczytaj go ponownie (`load`), aby sprawdzić, czy zapis przebiegł poprawnie.\n"
   ]
  },
  {
   "cell_type": "code",
   "execution_count": null,
   "id": "13729edc",
   "metadata": {},
   "outputs": [],
   "source": []
  },
  {
   "cell_type": "markdown",
   "id": "f176724b",
   "metadata": {
    "vscode": {
     "languageId": "plaintext"
    }
   },
   "source": [
    "\n",
    "\n",
    "40. Obróć obraz Dalí o 90 stopni (np. w prawo), korzystając z `transpose` i ewentualnie `flip`.  \n",
    "    Wyświetl wynik."
   ]
  },
  {
   "cell_type": "code",
   "execution_count": null,
   "id": "d9287522",
   "metadata": {},
   "outputs": [],
   "source": []
  },
  {
   "cell_type": "markdown",
   "id": "9942fe36",
   "metadata": {
    "vscode": {
     "languageId": "plaintext"
    }
   },
   "source": [
    "\n",
    "41. Skonwertuj obraz Beksińskiego do skali szarości (funkcja z zadania 35).  \n",
    "    Następnie utwórz maskę logiczną dla pikseli, których jasność jest mniejsza niż 100,  \n",
    "    i zamień te piksele w oryginalnym obrazie kolorowym na [0, 0, 255] (np. intensywny niebieski)."
   ]
  },
  {
   "cell_type": "code",
   "execution_count": null,
   "id": "35d6e88c",
   "metadata": {},
   "outputs": [],
   "source": []
  },
  {
   "cell_type": "markdown",
   "id": "cadaa86a",
   "metadata": {
    "vscode": {
     "languageId": "plaintext"
    }
   },
   "source": [
    "\n",
    "\n",
    "\n",
    "42. W obrazie Picassa przytnij wartości pikseli do zakresu [50..200], korzystając z `clip`.  \n",
    "    Zaobserwuj zmianę kontrastu i wyświetl efekt."
   ]
  },
  {
   "cell_type": "code",
   "execution_count": null,
   "id": "d4b2fe81",
   "metadata": {},
   "outputs": [],
   "source": []
  },
  {
   "cell_type": "markdown",
   "id": "cb96ce39",
   "metadata": {
    "vscode": {
     "languageId": "plaintext"
    }
   },
   "source": [
    "\n",
    "43. Jeżeli Dalí i Beksiński mają różne rozmiary, przytnij któryś z nich, by dopasować wymiary (liczbę wierszy i kolumn).  \n",
    "    Następnie sklej je w poziomie (`hstack`) i wyświetl otrzymany „dwupanelowy” obraz."
   ]
  },
  {
   "cell_type": "code",
   "execution_count": null,
   "id": "13fb62dd",
   "metadata": {},
   "outputs": [],
   "source": []
  },
  {
   "cell_type": "markdown",
   "id": "c1cc0849",
   "metadata": {
    "vscode": {
     "languageId": "plaintext"
    }
   },
   "source": [
    "44. Wybierz dowolny przetworzony obraz (np. po filtrze, kadrowaniu lub maskowaniu) i zapisz go w formacie PNG (np. przy pomocy `imsave` z `matplotlib`).  \n",
    "    Otwórz plik poza Pythonem, aby sprawdzić poprawność zapisu."
   ]
  },
  {
   "cell_type": "code",
   "execution_count": null,
   "id": "3c2ebcc0",
   "metadata": {},
   "outputs": [],
   "source": []
  },
  {
   "cell_type": "markdown",
   "id": "9b288394",
   "metadata": {},
   "source": []
  }
 ],
 "metadata": {
  "kernelspec": {
   "display_name": "Python 3",
   "language": "python",
   "name": "python3"
  },
  "language_info": {
   "codemirror_mode": {
    "name": "ipython",
    "version": 3
   },
   "file_extension": ".py",
   "mimetype": "text/x-python",
   "name": "python",
   "nbconvert_exporter": "python",
   "pygments_lexer": "ipython3",
   "version": "3.13.3"
  }
 },
 "nbformat": 4,
 "nbformat_minor": 5
}
