{
 "cells": [
  {
   "cell_type": "markdown",
   "id": "c1154e1e",
   "metadata": {
    "slideshow": {
     "slide_type": "slide"
    }
   },
   "source": [
    "# Uczenie Maszynowe/ AI  # 4 - XGBoost, Unsupervised Machine Learning\n",
    "\n",
    "\n",
    "\n",
    "﻿![](https://datascientest.com/en/files/2021/01/Machine-learning-def-.png)\n",
    "\n",
    "_Bartek Bilski_\n"
   ]
  },
  {
   "cell_type": "markdown",
   "id": "c206c333",
   "metadata": {
    "slideshow": {
     "slide_type": "slide"
    }
   },
   "source": [
    "# Opis danych `spotify.csv`\n",
    "\n",
    "Zbiór danych zawiera informacje o 2000 utworach muzycznych. Dane obejmują różne cechy utworów, takie jak popularność, gatunek, taneczność czy tempo, a także szczegóły techniczne i metadane.\n",
    "\n",
    "---\n",
    "\n",
    "## Podsumowanie\n",
    "- **Liczba obserwacji**: 2000 (utwory muzyczne)\n",
    "- **Liczba zmiennych**: 18\n",
    "- **Rodzaje danych**: Liczbowe (int, float), kategoryczne (object, bool)\n",
    "\n",
    "---\n",
    "\n",
    "## Kolumny i ich opisy\n",
    "| **Kolumna**          | **Opis**                                                   | **Typ danych** |\n",
    "|-----------------------|-----------------------------------------------------------|----------------|\n",
    "| `artist`             | Nazwa wykonawcy                                           | Tekstowy       |\n",
    "| `song`               | Tytuł utworu                                              | Tekstowy       |\n",
    "| `duration_ms`        | Długość utworu w milisekundach                             | Liczbowy       |\n",
    "| `explicit`           | Czy utwór zawiera treści wulgarne? (`True`/`False`)        | Logiczny       |\n",
    "| `year`               | Rok wydania utworu                                        | Liczbowy       |\n",
    "| `popularity`         | Popularność utworu w skali 0–100                           | Liczbowy       |\n",
    "| `danceability`       | Wskaźnik taneczności (0–1)                                 | Liczbowy       |\n",
    "| `energy`             | Energia utworu (0–1)                                      | Liczbowy       |\n",
    "| `key`                | Tonacja utworu (0–11)                                     | Liczbowy       |\n",
    "| `loudness`           | Głośność utworu w decybelach                              | Liczbowy       |\n",
    "| `mode`               | Tryb muzyczny (0 = minor, 1 = major)                      | Liczbowy       |\n",
    "| `speechiness`        | Udział mowy w utworze (0–1)                                | Liczbowy       |\n",
    "| `acousticness`       | Akustyczność utworu (0–1)                                  | Liczbowy       |\n",
    "| `instrumentalness`   | Instrumentalność utworu (0–1)                              | Liczbowy       |\n",
    "| `liveness`           | Poziom \"żywości\" utworu (0–1)                              | Liczbowy       |\n",
    "| `valence`            | Pozytywny nastrój utworu (0–1)                             | Liczbowy       |\n",
    "| `tempo`              | Tempo utworu w uderzeniach na minutę (BPM)                 | Liczbowy       |\n",
    "| `genre`              | Gatunek muzyczny                                           | Tekstowy       |\n"
   ]
  },
  {
   "cell_type": "markdown",
   "id": "200a5d0b",
   "metadata": {
    "slideshow": {
     "slide_type": "slide"
    }
   },
   "source": [
    "\n",
    "---\n",
    "\n",
    "## Statystyki opisowe\n",
    "- **`duration_ms`**: Średnia długość utworu wynosi 228 748 ms (~3 min 48 s), z minimum 113 000 ms i maksimum 484 146 ms.\n",
    "- **`popularity`**: Średnia popularność wynosi 59.9, z rozkładem od 0 do 89.\n",
    "- **`danceability`**: Średni wskaźnik taneczności to 0.667, co oznacza, że większość utworów ma umiarkowaną taneczność.\n",
    "- **`tempo`**: Średnie tempo utworów wynosi 120 BPM, z minimum 60 BPM i maksimum 210 BPM.\n",
    "- **`genre`**: Gatunek najczęściej reprezentowany to \"pop\" (428 utworów).\n",
    "\n",
    "---\n",
    "\n",
    "## Przykładowe dane (pierwsze 5 wierszy)\n",
    "| **artist**       | **song**                | **duration_ms** | **explicit** | **year** | **popularity** | **danceability** | **energy** | **genre**         |\n",
    "|-------------------|-------------------------|-----------------|--------------|----------|----------------|------------------|------------|-------------------|\n",
    "| Britney Spears   | Oops!...I Did It Again | 211160          | False        | 2000     | 77             | 0.751            | 0.834      | pop               |\n",
    "| blink-182        | All The Small Things   | 167066          | False        | 1999     | 79             | 0.434            | 0.897      | rock, pop         |\n",
    "| Faith Hill       | Breathe                | 250546          | False        | 1999     | 66             | 0.529            | 0.496      | pop, country      |\n",
    "| Bon Jovi         | It's My Life           | 224493          | False        | 2000     | 78             | 0.551            | 0.913      |\n"
   ]
  },
  {
   "cell_type": "code",
   "execution_count": null,
   "id": "25c3e344",
   "metadata": {},
   "outputs": [],
   "source": [
    "\n",
    "import pandas as pd\n",
    "import numpy as np\n",
    "import matplotlib.pyplot as plt\n",
    "import seaborn as sns\n",
    "\n",
    "from sklearn.preprocessing import StandardScaler\n",
    "from sklearn.decomposition import PCA\n",
    "from sklearn.cluster import KMeans"
   ]
  },
  {
   "cell_type": "code",
   "execution_count": null,
   "id": "0a34ad36",
   "metadata": {},
   "outputs": [],
   "source": [
    "\n",
    "\n",
    "# 1. Wczytanie danych\n",
    "df = pd.read_csv(\"spotify.csv\")\n",
    "\n",
    "print(\"Kolumny:\", df.columns)\n"
   ]
  },
  {
   "cell_type": "code",
   "execution_count": null,
   "id": "32ecbff3",
   "metadata": {},
   "outputs": [],
   "source": [
    "\n",
    "# Zachowajmy \"artist\", \"song\", \"genre\" do późniejszej analizy i wizualizacji\n"
   ]
  },
  {
   "cell_type": "code",
   "execution_count": null,
   "id": "6f062988",
   "metadata": {},
   "outputs": [],
   "source": [
    "\n",
    "# 2. Przygotowanie danych do modelu\n",
    "# Usuwamy nieinformacyjne kolumny\n"
   ]
  },
  {
   "cell_type": "code",
   "execution_count": null,
   "id": "1c7dd640",
   "metadata": {},
   "outputs": [],
   "source": [
    "\n",
    "# Konwersja 'explicit' z bool na int\n"
   ]
  },
  {
   "cell_type": "code",
   "execution_count": null,
   "id": "70bd7bdc",
   "metadata": {},
   "outputs": [],
   "source": [
    "# Sprawdźmy typy danych\n"
   ]
  },
  {
   "cell_type": "code",
   "execution_count": null,
   "id": "a3cae4db",
   "metadata": {},
   "outputs": [],
   "source": [
    "# Wszystkie kolumny powinny być numeryczne\n",
    "# 3. Standaryzacja danych\n"
   ]
  },
  {
   "cell_type": "code",
   "execution_count": null,
   "id": "a4f728da",
   "metadata": {},
   "outputs": [],
   "source": [
    "# 4. PCA\n"
   ]
  },
  {
   "cell_type": "code",
   "execution_count": null,
   "id": "6e3da0f1",
   "metadata": {},
   "outputs": [],
   "source": [
    "# Wyswielenie wykresu wariancji wyjaśnionej przez kolejne komponenty\n",
    "print(\"Wyjaśniona wariancja przez PC1 i PC2:\", 'miejsce na Twoją odpowiedź')"
   ]
  },
  {
   "cell_type": "code",
   "execution_count": null,
   "id": "29bd2ffa",
   "metadata": {},
   "outputs": [],
   "source": [
    "\n",
    "# Dodajmy metadane (artist, song, genre) do df_pca, żeby móc wizualizować nazwy i gatunki po klasteryzacji\n"
   ]
  },
  {
   "cell_type": "code",
   "execution_count": null,
   "id": "003372c6",
   "metadata": {},
   "outputs": [],
   "source": [
    "# 5. Elbow method (metoda łokcia) do wyboru k w K-means\n"
   ]
  },
  {
   "cell_type": "code",
   "execution_count": null,
   "id": "10af95ac",
   "metadata": {},
   "outputs": [],
   "source": [
    "# Wizuazlizacja metody łokcia\n"
   ]
  },
  {
   "cell_type": "code",
   "execution_count": null,
   "id": "0d56437d",
   "metadata": {},
   "outputs": [],
   "source": [
    "# Po wykresie elbow możemy wybrać k, które wydaje się być \"zagięciem\" (np. k=10, lub inna wartość w zależności od wykresu).\n",
    "# Załóżmy k=3 i przeprowadźmy klasteryzację\n"
   ]
  },
  {
   "cell_type": "code",
   "execution_count": null,
   "id": "98145d9f",
   "metadata": {},
   "outputs": [],
   "source": [
    "\n",
    "# 6. Wizualizacja wyników PCA z klastrami\n",
    "\n"
   ]
  },
  {
   "cell_type": "code",
   "execution_count": null,
   "id": "ef201a85",
   "metadata": {},
   "outputs": [],
   "source": [
    "\n",
    "# Opcjonalnie: Możemy zweryfikować rozkład gatunków w klastrach\n"
   ]
  },
  {
   "cell_type": "code",
   "execution_count": null,
   "id": "e80facd3",
   "metadata": {
    "scrolled": true
   },
   "outputs": [],
   "source": [
    "# Wizualizacja top 5 gatunków w klastrach\n"
   ]
  },
  {
   "cell_type": "code",
   "execution_count": null,
   "id": "f349aa13",
   "metadata": {
    "scrolled": true
   },
   "outputs": [],
   "source": [
    "# 7. Wizualizacja klastrów na wykresie PCA z przykładowymi tytułami utworów\n",
    "\n",
    "import plotly.express as px\n",
    "# Losowy wybór punktów do podpisania\n",
    "np.random.seed(42)\n",
    "sample_points = np.random.choice(df_pca.index, size=90, replace=False)\n",
    "\n",
    "# Tworzenie interaktywnego wykresu Plotly\n",
    "fig = px.scatter(\n",
    "    df_pca, x='PC1', y='PC2', color='cluster',\n",
    "    title=\"Spotify PCA - przykładowe tytuły utworów\",\n",
    "    labels={\n",
    "        'PC1': f'PC1 ({explained_variance[0]*100:.1f}% wariancji)',\n",
    "        'PC2': f'PC2 ({explained_variance[1]*100:.1f}% wariancji)'\n",
    "    },\n",
    "    hover_data=['song', 'artist']\n",
    ")\n",
    "\n",
    "# Dodanie tekstów do wybranych punktów\n",
    "for i in sample_points:\n",
    "    fig.add_annotation(\n",
    "        x=df_pca.loc[i, 'PC1'],\n",
    "        y=df_pca.loc[i, 'PC2'],\n",
    "        text=f\"{df_pca.loc[i, 'song']} - {df_pca.loc[i, 'artist']}\",\n",
    "        showarrow=True,\n",
    "        arrowhead=1,\n",
    "        ax=20,\n",
    "        ay=-20,\n",
    "        font=dict(size=9)\n",
    "    )\n",
    "\n",
    "fig.update_layout(width=1000, height=700)\n",
    "fig.show()"
   ]
  },
  {
   "cell_type": "code",
   "execution_count": null,
   "id": "d741d96f",
   "metadata": {},
   "outputs": [],
   "source": []
  },
  {
   "cell_type": "code",
   "execution_count": null,
   "id": "74551d57",
   "metadata": {},
   "outputs": [],
   "source": []
  },
  {
   "cell_type": "code",
   "execution_count": null,
   "id": "e77f1661",
   "metadata": {},
   "outputs": [],
   "source": []
  },
  {
   "cell_type": "code",
   "execution_count": null,
   "id": "f2dcf5e0",
   "metadata": {},
   "outputs": [],
   "source": []
  },
  {
   "cell_type": "code",
   "execution_count": null,
   "id": "c222057e",
   "metadata": {},
   "outputs": [],
   "source": []
  }
 ],
 "metadata": {
  "celltoolbar": "Slideshow",
  "kernelspec": {
   "display_name": "Python 3",
   "language": "python",
   "name": "python3"
  },
  "language_info": {
   "codemirror_mode": {
    "name": "ipython",
    "version": 3
   },
   "file_extension": ".py",
   "mimetype": "text/x-python",
   "name": "python",
   "nbconvert_exporter": "python",
   "pygments_lexer": "ipython3",
   "version": "3.12.8"
  }
 },
 "nbformat": 4,
 "nbformat_minor": 5
}
