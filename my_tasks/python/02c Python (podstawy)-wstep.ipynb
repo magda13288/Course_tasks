{
 "cells": [
  {
   "cell_type": "markdown",
   "metadata": {},
   "source": [
    "### Zadania z rodzajami zmiennych liczbowych\n",
    "\n"
   ]
  },
  {
   "cell_type": "markdown",
   "metadata": {},
   "source": [
    "1. Stwórz zmienną `a` o wartości 15 i zmienną `b` o wartości 5. Wypisz ich sumę.\n"
   ]
  },
  {
   "cell_type": "code",
   "execution_count": null,
   "metadata": {},
   "outputs": [],
   "source": [
    "a=15\n",
    "b=5\n",
    "sum = a+b\n",
    "print(sum)\n"
   ]
  },
  {
   "cell_type": "code",
   "execution_count": null,
   "metadata": {},
   "outputs": [],
   "source": [
    "sum([1,2,3])"
   ]
  },
  {
   "cell_type": "markdown",
   "metadata": {},
   "source": [
    "2. Zdefiniuj zmienną `x` jako liczbę zmiennoprzecinkową (np. 10.5). Pomnóż ją przez 3 i wypisz wynik.\n"
   ]
  },
  {
   "cell_type": "code",
   "execution_count": null,
   "metadata": {},
   "outputs": [],
   "source": [
    "x= 10.5\n",
    "sum = x * 3\n",
    "print(sum)"
   ]
  },
  {
   "cell_type": "markdown",
   "metadata": {},
   "source": [
    "3. Przypisz do zmiennej `y` liczbę całkowitą. Następnie oblicz jej kwadrat i wyświetl wynik.\n"
   ]
  },
  {
   "cell_type": "code",
   "execution_count": null,
   "metadata": {},
   "outputs": [],
   "source": [
    "y = 5\n",
    "print(y*^2)"
   ]
  },
  {
   "cell_type": "markdown",
   "metadata": {},
   "source": [
    "4. Utwórz zmienną `c` i przypisz jej wartość ułamkową, np. `3.14`. Podziel tę wartość przez 2 i wypisz wynik.\n"
   ]
  },
  {
   "cell_type": "code",
   "execution_count": null,
   "metadata": {},
   "outputs": [],
   "source": [
    "c = 3.14\n",
    "print(c/2)"
   ]
  },
  {
   "cell_type": "markdown",
   "metadata": {},
   "source": [
    "5. Wykonaj operację modulo (reszta z dzielenia) dla zmiennych `m = 20` i `n = 6`. Wypisz wynik."
   ]
  },
  {
   "cell_type": "code",
   "execution_count": 1,
   "metadata": {},
   "outputs": [
    {
     "name": "stdout",
     "output_type": "stream",
     "text": [
      "2\n"
     ]
    }
   ],
   "source": [
    "m=20\n",
    "n=6\n",
    "print(m%n)"
   ]
  },
  {
   "cell_type": "markdown",
   "metadata": {},
   "source": [
    "\n",
    "#### Zadania ze stringami\n",
    "\n"
   ]
  },
  {
   "cell_type": "markdown",
   "metadata": {},
   "source": [
    "6. Przypisz do zmiennej `name` swoje imię. Wypisz to imię za pomocą funkcji `print`.\n"
   ]
  },
  {
   "cell_type": "code",
   "execution_count": 2,
   "metadata": {},
   "outputs": [
    {
     "name": "stdout",
     "output_type": "stream",
     "text": [
      "Magda\n"
     ]
    }
   ],
   "source": [
    "name = \"Magda\"\n",
    "print(name)"
   ]
  },
  {
   "cell_type": "markdown",
   "metadata": {},
   "source": [
    "7. Utwórz zmienną `greeting`, której wartość to \"Cześć\". Dodaj do niej swoje imię i wypisz pełne powitanie.\n"
   ]
  },
  {
   "cell_type": "code",
   "execution_count": 5,
   "metadata": {},
   "outputs": [
    {
     "name": "stdout",
     "output_type": "stream",
     "text": [
      "Cześć, Magda !\n"
     ]
    }
   ],
   "source": [
    "greeting = \"Cześć\"\n",
    "print(f'{greeting}, {name} !')"
   ]
  },
  {
   "cell_type": "markdown",
   "metadata": {},
   "source": [
    "8. Przypisz do zmiennej `text` dowolny tekst. Wypisz liczbę znaków w tej zmiennej. **Hint:** Użyj funkcji `len` na zmiennej.\n"
   ]
  },
  {
   "cell_type": "code",
   "execution_count": 7,
   "metadata": {},
   "outputs": [
    {
     "name": "stdout",
     "output_type": "stream",
     "text": [
      "15\n"
     ]
    }
   ],
   "source": [
    "text = \"Pomidorowy szał\"\n",
    "print(len(text))"
   ]
  },
  {
   "cell_type": "markdown",
   "metadata": {},
   "source": [
    "9. Stwórz dwie zmienne `a = \"Hello\"` i `b = \"World\"`. Połącz te zmienne i wypisz wynik.\n"
   ]
  },
  {
   "cell_type": "code",
   "execution_count": 8,
   "metadata": {},
   "outputs": [
    {
     "name": "stdout",
     "output_type": "stream",
     "text": [
      "Hello World\n"
     ]
    }
   ],
   "source": [
    "a = \"Hello\"\n",
    "b = \"World\"\n",
    "print(f'{a} {b}')"
   ]
  },
  {
   "cell_type": "markdown",
   "metadata": {},
   "source": [
    "10. Utwórz zmienną `quote` zawierającą cytat. Wypisz go, użyjąc cudzysłowów w tekście."
   ]
  },
  {
   "cell_type": "code",
   "execution_count": 9,
   "metadata": {},
   "outputs": [
    {
     "name": "stdout",
     "output_type": "stream",
     "text": [
      "cytat:\"cytat\"\n"
     ]
    }
   ],
   "source": [
    "quote = \"cytat:\\\"cytat\\\"\"\n",
    "print(quote)"
   ]
  },
  {
   "cell_type": "markdown",
   "metadata": {},
   "source": [
    "\n",
    "#### Zadania z funkcją `print`\n"
   ]
  },
  {
   "cell_type": "markdown",
   "metadata": {},
   "source": [
    "11. Wypisz na ekranie swoje imię, nazwisko i wiek w jednej linii.\n"
   ]
  },
  {
   "cell_type": "code",
   "execution_count": null,
   "metadata": {},
   "outputs": [],
   "source": []
  },
  {
   "cell_type": "markdown",
   "metadata": {},
   "source": [
    "12. Stwórz zmienne `x = 5` i `y = 10`. Użyj funkcji `print`, aby wypisać: \"Wartość x to 5, a y to 10\".\n"
   ]
  },
  {
   "cell_type": "code",
   "execution_count": null,
   "metadata": {},
   "outputs": [],
   "source": []
  },
  {
   "cell_type": "markdown",
   "metadata": {},
   "source": [
    "13. Wypisz na ekranie kilka linii tekstu, użyjąc znaku nowej linii (`\\n`).\n"
   ]
  },
  {
   "cell_type": "code",
   "execution_count": null,
   "metadata": {},
   "outputs": [],
   "source": []
  },
  {
   "cell_type": "markdown",
   "metadata": {},
   "source": [
    "14. Użyj funkcji `print`, aby wypisać \"Python jest fajny!\" trzykrotnie, użyjąc jednej komendy.\n"
   ]
  },
  {
   "cell_type": "code",
   "execution_count": null,
   "metadata": {},
   "outputs": [],
   "source": []
  },
  {
   "cell_type": "markdown",
   "metadata": {},
   "source": [
    "15. Wypisz na ekranie tekst z użyciem znaku tabulacji (`\\t`), aby wyrównać elementy.\n"
   ]
  },
  {
   "cell_type": "code",
   "execution_count": null,
   "metadata": {},
   "outputs": [],
   "source": []
  },
  {
   "cell_type": "markdown",
   "metadata": {},
   "source": [
    "\n",
    "#### Zadania ze zmiennymi\n"
   ]
  },
  {
   "cell_type": "markdown",
   "metadata": {},
   "source": [
    "16. Przypisz do zmiennej `a` wartość 10, a do zmiennej `b` wartość 20. Następnie zamień wartości zmiennych miejscami. **Hint:** Nie było ale pogłówkujcie ;) \n"
   ]
  },
  {
   "cell_type": "code",
   "execution_count": null,
   "metadata": {},
   "outputs": [],
   "source": []
  },
  {
   "cell_type": "markdown",
   "metadata": {},
   "source": [
    "17. Stwórz zmienną `suma` i przypisz do niej sumę dwóch liczb, np. `a = 7` i `b = 8`. Wypisz wynik.\n"
   ]
  },
  {
   "cell_type": "code",
   "execution_count": null,
   "metadata": {},
   "outputs": [],
   "source": []
  },
  {
   "cell_type": "markdown",
   "metadata": {},
   "source": [
    "18. Utwórz zmienną `wiek` i przypisz do niej wartość liczbową. Następnie wypisz zdanie: \"Mam X lat\", gdzie X to wartość zmiennej `wiek`. **Hint:** Użyj f-stringa, aby w łatwy sposób wstawić wartość zmiennej do tekstu, np. `print(f\"{zmienna}\")`.\n"
   ]
  },
  {
   "cell_type": "code",
   "execution_count": null,
   "metadata": {},
   "outputs": [],
   "source": []
  },
  {
   "cell_type": "markdown",
   "metadata": {},
   "source": [
    "19. Zdefiniuj zmienną `temperature` i przypisz do niej wartość liczbową. Wypisz: \"Dzisiejsza temperatura to X stopni\", gdzie X to wartość zmiennej."
   ]
  },
  {
   "cell_type": "code",
   "execution_count": null,
   "metadata": {},
   "outputs": [],
   "source": []
  },
  {
   "cell_type": "markdown",
   "metadata": {},
   "source": []
  }
 ],
 "metadata": {
  "kernelspec": {
   "display_name": "Python 3",
   "language": "python",
   "name": "python3"
  },
  "language_info": {
   "codemirror_mode": {
    "name": "ipython",
    "version": 3
   },
   "file_extension": ".py",
   "mimetype": "text/x-python",
   "name": "python",
   "nbconvert_exporter": "python",
   "pygments_lexer": "ipython3",
   "version": "3.13.3"
  }
 },
 "nbformat": 4,
 "nbformat_minor": 2
}
