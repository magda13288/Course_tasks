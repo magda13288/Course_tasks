{
 "cells": [
  {
   "cell_type": "markdown",
   "metadata": {
    "vscode": {
     "languageId": "plaintext"
    }
   },
   "source": [
    "\n",
    "### Zadanie 1: Proste operatory arytmetyczne\n",
    "- Zdefiniuj zmienne: `a = 10` oraz `b = 3`.\n",
    "- Oblicz i wypisz wyniki następujących operacji: dodawanie, odejmowanie, mnożenie, dzielenie, dzielenie całkowite, modulo, potęgowanie.\n"
   ]
  },
  {
   "cell_type": "code",
   "execution_count": 1,
   "metadata": {},
   "outputs": [
    {
     "name": "stdout",
     "output_type": "stream",
     "text": [
      "13\n"
     ]
    }
   ],
   "source": [
    "a=10\n",
    "b=3\n",
    "print(a+b)"
   ]
  },
  {
   "cell_type": "markdown",
   "metadata": {
    "vscode": {
     "languageId": "plaintext"
    }
   },
   "source": [
    "### Zadanie 2: Operatory porównania\n",
    "- Zdefiniuj dwie liczby, np. `x = 7` oraz `y = 12`.\n",
    "- Sprawdź przy pomocy operatorów (`==`, `!=`, `>`, `<`, `>=`, `<=`) relacje między nimi i wypisz wyniki.\n"
   ]
  },
  {
   "cell_type": "code",
   "execution_count": null,
   "metadata": {},
   "outputs": [],
   "source": []
  },
  {
   "cell_type": "markdown",
   "metadata": {
    "vscode": {
     "languageId": "plaintext"
    }
   },
   "source": [
    "\n",
    "### Zadanie 3: Operatory logiczne\n",
    "- Zdefiniuj zmienne logiczne: `a = True`, `b = False` oraz `c = True`.\n",
    "- Oblicz i wypisz wyniki wyrażeń z użyciem operatorów `and`, `or` oraz `not`.\n"
   ]
  },
  {
   "cell_type": "code",
   "execution_count": 4,
   "metadata": {},
   "outputs": [
    {
     "name": "stdout",
     "output_type": "stream",
     "text": [
      "False\n",
      "True\n",
      "True\n"
     ]
    }
   ],
   "source": [
    "a = True\n",
    "b = False\n",
    "c= True\n",
    "\n",
    "print(a and b and c)\n",
    "print(a or b or c)\n",
    "print(not(a and b and c))"
   ]
  },
  {
   "cell_type": "markdown",
   "metadata": {
    "vscode": {
     "languageId": "plaintext"
    }
   },
   "source": [
    "### Zadanie 4: Zamiana wartości zmiennych\n",
    "- Zdefiniuj zmienne: `a = \"Python\"` oraz `b = \"Java\"`.\n",
    "- Zamień ich wartości, używając krotkowego przypisania.\n",
    "- Wypisz wartości zmiennych przed i po zamianie.\n"
   ]
  },
  {
   "cell_type": "code",
   "execution_count": 5,
   "metadata": {},
   "outputs": [
    {
     "name": "stdout",
     "output_type": "stream",
     "text": [
      "Python Java\n",
      "('Java', 'Python')\n"
     ]
    }
   ],
   "source": [
    "a = \"Python\"\n",
    "b = \"Java\"\n",
    "\n",
    "c = b,a\n",
    "\n",
    "print(a,b)\n",
    "print(c)\n",
    "\n"
   ]
  },
  {
   "cell_type": "markdown",
   "metadata": {
    "vscode": {
     "languageId": "plaintext"
    }
   },
   "source": [
    "### Zadanie 5: Instrukcja warunkowa if-elif-else\n",
    "- Zdefiniuj zmienną `punkty = 82`.\n",
    "- Użyj instrukcji warunkowej, aby przypisać zmiennej `ocena`:\n",
    "  - `\"5\"` jeśli `punkty >= 90`\n",
    "  - `\"4\"` jeśli `punkty >= 75` i `< 90`\n",
    "  - `\"3\"` jeśli `punkty >= 60` i `< 75`\n",
    "  - `\"2\"` w przeciwnym razie\n",
    "- Wypisz wartość zmiennej `ocena`.\n",
    "\n"
   ]
  },
  {
   "cell_type": "code",
   "execution_count": null,
   "metadata": {},
   "outputs": [],
   "source": [
    "punkty = 82\n",
    "\n",
    "if punkty >=90:\n",
    "    ocena = \"5\"\n",
    "elif punkty >=75 & punkty<90:\n",
    "    ocena= \"4\"\n",
    "elif punkty >=60 & punkty<75:\n",
    "    ocena = \"3\"\n",
    "else:\n",
    "    ocena= \"2\"    \n",
    "\n",
    "print(ocena)"
   ]
  },
  {
   "cell_type": "markdown",
   "metadata": {
    "vscode": {
     "languageId": "plaintext"
    }
   },
   "source": [
    "\n",
    "\n",
    "### Zadanie 6: Operator warunkowy (ternary operator)\n",
    "- Zdefiniuj zmienną `x = -7`.\n",
    "- Korzystając z operatora warunkowego, przypisz do zmiennej `opis` wartość `\"dodatnia\"` jeśli `x > 0`, lub `\"ujemna\"` w przeciwnym razie.\n",
    "- Wypisz wynik.\n",
    "\n",
    "---"
   ]
  },
  {
   "cell_type": "code",
   "execution_count": 9,
   "metadata": {},
   "outputs": [
    {
     "name": "stdout",
     "output_type": "stream",
     "text": [
      "ujemna\n"
     ]
    }
   ],
   "source": [
    "x=-7\n",
    "\n",
    "opis = 'dodatnia' if x>0 else 'ujemna'\n",
    "\n",
    "print(opis)\n"
   ]
  },
  {
   "cell_type": "markdown",
   "metadata": {
    "vscode": {
     "languageId": "plaintext"
    }
   },
   "source": [
    "### Zadanie 7: Iteracja po ciągu znaków\n",
    "- Zdefiniuj zmienną `tekst = \"Python\"`.\n",
    "- Użyj pętli `for`, aby wypisać każdy znak w osobnej linii.\n"
   ]
  },
  {
   "cell_type": "code",
   "execution_count": 10,
   "metadata": {},
   "outputs": [
    {
     "name": "stdout",
     "output_type": "stream",
     "text": [
      "P\n",
      "y\n",
      "t\n",
      "h\n",
      "o\n",
      "n\n"
     ]
    }
   ],
   "source": [
    "tekst = \"Python\"\n",
    "\n",
    "for char in tekst:\n",
    "    print(char)"
   ]
  },
  {
   "cell_type": "markdown",
   "metadata": {
    "vscode": {
     "languageId": "plaintext"
    }
   },
   "source": [
    "### Zadanie 8: Lista liczb parzystych przy użyciu range()\n",
    "- Utwórz listę liczb parzystych od 2 do 20 (włącznie) przy użyciu funkcji `range()`.\n",
    "- Wypisz utworzoną listę.\n"
   ]
  },
  {
   "cell_type": "code",
   "execution_count": 17,
   "metadata": {},
   "outputs": [
    {
     "name": "stdout",
     "output_type": "stream",
     "text": [
      "2\n",
      "4\n",
      "6\n",
      "8\n",
      "10\n",
      "12\n",
      "14\n",
      "16\n",
      "18\n",
      "20\n",
      "[2, 4, 6, 8, 10, 12, 14, 16, 18, 20]\n"
     ]
    }
   ],
   "source": [
    "\n",
    "for seq in range(2,21,2):\n",
    "    print(seq)\n",
    "\n",
    "parzyste = list(range(2,21,2))\n",
    "print(parzyste)"
   ]
  },
  {
   "cell_type": "markdown",
   "metadata": {
    "vscode": {
     "languageId": "plaintext"
    }
   },
   "source": [
    "### Zadanie 9: Iteracja po liście z enumerate\n",
    "- Zdefiniuj listę owoców, np.: `fruits = [\"jabłko\", \"banan\", \"wiśnia\"]`.\n",
    "- Użyj pętli `for` wraz z funkcją `enumerate`, aby wypisać każdy owoc oraz jego indeks.\n"
   ]
  },
  {
   "cell_type": "code",
   "execution_count": 15,
   "metadata": {},
   "outputs": [
    {
     "name": "stdout",
     "output_type": "stream",
     "text": [
      "(0, 'jabłko')\n",
      "(1, 'banan')\n",
      "(2, 'wiśnia')\n"
     ]
    }
   ],
   "source": [
    "fruits = [\"jabłko\", \"banan\", \"wiśnia\"]\n",
    "\n",
    "for seq in enumerate(fruits):\n",
    "    print(seq)"
   ]
  },
  {
   "cell_type": "markdown",
   "metadata": {
    "vscode": {
     "languageId": "plaintext"
    }
   },
   "source": [
    "### Zadanie 10: Pętla while z warunkiem\n",
    "- Zdefiniuj zmienną `i = 0`.\n",
    "- Używając pętli `while`, zwiększaj wartość `i` o 2 dopóki `i < 10`.\n",
    "- Wypisz wartość `i` przy każdej iteracji.\n"
   ]
  },
  {
   "cell_type": "code",
   "execution_count": 14,
   "metadata": {},
   "outputs": [
    {
     "name": "stdout",
     "output_type": "stream",
     "text": [
      "0\n",
      "2\n",
      "4\n",
      "6\n",
      "8\n"
     ]
    }
   ],
   "source": [
    "i =0\n",
    "\n",
    "while i<10:\n",
    "    print(i)\n",
    "    i+=2\n"
   ]
  },
  {
   "cell_type": "markdown",
   "metadata": {
    "vscode": {
     "languageId": "plaintext"
    }
   },
   "source": [
    "### Zadanie 11: Przerywanie pętli for za pomocą break\n",
    "- Zdefiniuj ciąg znaków, np.: `tekst = \"Ala ma kota\"`.\n",
    "- Użyj pętli `for`, aby iterować po znakach i przerwij pętlę, gdy napotkasz literę `\"k\"`.\n",
    "- Wypisz znaki, które zostały przetworzone przed przerwaniem."
   ]
  },
  {
   "cell_type": "code",
   "execution_count": null,
   "metadata": {},
   "outputs": [],
   "source": []
  },
  {
   "cell_type": "markdown",
   "metadata": {
    "vscode": {
     "languageId": "plaintext"
    }
   },
   "source": [
    "### Zadanie 12: Pomijanie iteracji za pomocą continue\n",
    "- Użyj pętli `for`, aby iterować po liczbach od 1 do 10.\n",
    "- Jeśli liczba jest parzysta, użyj `continue`, aby pominąć jej wypisanie.\n",
    "- W przeciwnym razie wypisz liczbę.\n"
   ]
  },
  {
   "cell_type": "code",
   "execution_count": null,
   "metadata": {},
   "outputs": [],
   "source": []
  },
  {
   "cell_type": "markdown",
   "metadata": {
    "vscode": {
     "languageId": "plaintext"
    }
   },
   "source": [
    "### Zadanie 13: Blok else przy pętli for\n",
    "- Użyj pętli `for`, aby iterować po ciągu znaków `\"abcde\"`.\n",
    "- Jeśli pętla nie zostanie przerwana (np. przez break), po zakończeniu pętli wypisz komunikat: `\"Pętla zakończona bez przerwania\"`.\n",
    "- (Możesz dodać warunek break, jeśli chcesz sprawdzić działanie else."
   ]
  },
  {
   "cell_type": "code",
   "execution_count": null,
   "metadata": {},
   "outputs": [],
   "source": []
  },
  {
   "cell_type": "markdown",
   "metadata": {
    "vscode": {
     "languageId": "plaintext"
    }
   },
   "source": [
    "\n",
    "### Zadanie 14: Sumowanie elementów listy\n",
    "- Zdefiniuj listę liczb: `liczby = [2, 4, 6, 8, 10]`.\n",
    "- Używając pętli `for`, oblicz sumę elementów listy.\n",
    "- Wypisz wynik sumowania."
   ]
  },
  {
   "cell_type": "code",
   "execution_count": null,
   "metadata": {},
   "outputs": [],
   "source": []
  },
  {
   "cell_type": "markdown",
   "metadata": {
    "vscode": {
     "languageId": "plaintext"
    }
   },
   "source": [
    "\n",
    "### Zadanie 15: Sprawdzanie zakresu liczb z operatorami logicznymi\n",
    "- Zdefiniuj zmienną `liczba = 25`.\n",
    "- Sprawdź, czy `liczba` jest większa lub równa 10 oraz mniejsza lub równa 30, używając operatorów logicznych.\n",
    "- Wypisz wynik warunku (True/False)."
   ]
  },
  {
   "cell_type": "code",
   "execution_count": null,
   "metadata": {},
   "outputs": [],
   "source": []
  },
  {
   "cell_type": "markdown",
   "metadata": {
    "vscode": {
     "languageId": "plaintext"
    }
   },
   "source": [
    "### Zadanie 16: Proste operacje bitowe\n",
    "- Zdefiniuj liczby: `a = 5` oraz `b = 3`.\n",
    "- Oblicz i wypisz wyniki operacji bitowych: `a & b` oraz `a | b`.\n"
   ]
  },
  {
   "cell_type": "code",
   "execution_count": null,
   "metadata": {},
   "outputs": [],
   "source": []
  },
  {
   "cell_type": "markdown",
   "metadata": {
    "vscode": {
     "languageId": "plaintext"
    }
   },
   "source": [
    "### Zadanie 17: Iteracja po słowniku\n",
    "- Zdefiniuj słownik: `d = {\"a\": 1, \"b\": 2, \"c\": 3}`.\n",
    "- Użyj pętli `for`, aby wypisać każdy klucz i odpowiadającą mu wartość.\n"
   ]
  },
  {
   "cell_type": "code",
   "execution_count": null,
   "metadata": {},
   "outputs": [],
   "source": []
  },
  {
   "cell_type": "markdown",
   "metadata": {
    "vscode": {
     "languageId": "plaintext"
    }
   },
   "source": [
    "### Zadanie 18: Iteracja po zbiorze\n",
    "- Zdefiniuj zbiór: `s = {1, 2, 3, 4, 5}`.\n",
    "- Użyj pętli `for`, aby wypisać każdy element zbioru."
   ]
  },
  {
   "cell_type": "code",
   "execution_count": null,
   "metadata": {},
   "outputs": [],
   "source": []
  },
  {
   "cell_type": "markdown",
   "metadata": {
    "vscode": {
     "languageId": "plaintext"
    }
   },
   "source": [
    "### Zadanie 19: Użycie instrukcji pass w pętli\n",
    "- Użyj pętli `for`, aby iterować po liście `[1, 2, 3, 4]`.\n",
    "- W każdej iteracji umieść instrukcję `pass`.\n",
    "- Po zakończeniu pętli wypisz komunikat: `\"Pętla zakończona\"`.\n"
   ]
  },
  {
   "cell_type": "code",
   "execution_count": null,
   "metadata": {},
   "outputs": [],
   "source": []
  },
  {
   "cell_type": "markdown",
   "metadata": {},
   "source": [
    "\n",
    "### Zadanie 20: Wypisanie liczb przy użyciu range()\n",
    "Użyj pętli `for` oraz funkcji `range()`, aby wypisać liczby od 5 do 9 (włącznie).\n"
   ]
  },
  {
   "cell_type": "code",
   "execution_count": null,
   "metadata": {},
   "outputs": [],
   "source": []
  }
 ],
 "metadata": {
  "kernelspec": {
   "display_name": "Python 3",
   "language": "python",
   "name": "python3"
  },
  "language_info": {
   "codemirror_mode": {
    "name": "ipython",
    "version": 3
   },
   "file_extension": ".py",
   "mimetype": "text/x-python",
   "name": "python",
   "nbconvert_exporter": "python",
   "pygments_lexer": "ipython3",
   "version": "3.13.3"
  }
 },
 "nbformat": 4,
 "nbformat_minor": 2
}
