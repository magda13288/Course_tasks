{
 "cells": [
  {
   "cell_type": "markdown",
   "metadata": {
    "vscode": {
     "languageId": "plaintext"
    }
   },
   "source": [
    "**Zadanie: Stały napis**\\\n",
    "Napisz funkcję, która nie przyjmuje żadnych argumentów i zwraca stały napis `\"Hello, World!\"`.\n",
    "\n",
    "&#x20;"
   ]
  },
  {
   "cell_type": "code",
   "execution_count": 8,
   "metadata": {},
   "outputs": [
    {
     "name": "stdout",
     "output_type": "stream",
     "text": [
      "Hello, World!\n"
     ]
    }
   ],
   "source": [
    "def func()->str:\n",
    "    return print(\"Hello, World!\")\n",
    "\n",
    "func()"
   ]
  },
  {
   "cell_type": "markdown",
   "metadata": {
    "vscode": {
     "languageId": "plaintext"
    }
   },
   "source": [
    "\n",
    "\n",
    "**Zadanie: Powitanie z imieniem**\\\n",
    "Napisz funkcję, która przyjmuje imię (napis) i zwraca powitanie w formie `\"Hello, <imię>!\"`. Na przykład dla argumentu `\"Anna\"` funkcja powinna zwrócić `\"Hello, Anna!\"`."
   ]
  },
  {
   "cell_type": "code",
   "execution_count": 6,
   "metadata": {},
   "outputs": [
    {
     "name": "stdout",
     "output_type": "stream",
     "text": [
      "Hello, Magda !\n"
     ]
    }
   ],
   "source": [
    "def func(param: str)->str:\n",
    "    return print(f'Hello, {param} !')\n",
    "\n",
    "name = input(\"Enter your name:\")\n",
    "func(name)"
   ]
  },
  {
   "cell_type": "markdown",
   "metadata": {
    "vscode": {
     "languageId": "plaintext"
    }
   },
   "source": [
    "\n",
    "**Zadanie: Suma dwóch liczb**\\\n",
    "Napisz funkcję, która przyjmuje dwie liczby i zwraca ich sumę.\n"
   ]
  },
  {
   "cell_type": "code",
   "execution_count": 7,
   "metadata": {},
   "outputs": [
    {
     "name": "stdout",
     "output_type": "stream",
     "text": [
      "Sum: 68\n"
     ]
    }
   ],
   "source": [
    "def func(a:int, b:int)->int:\n",
    "    return a+b\n",
    "\n",
    "x = int(input(\"Enter first number: \"))\n",
    "y = int(input(\"Enter second number: \"))\n",
    "print(f'Sum: {func(x,y)}') "
   ]
  },
  {
   "cell_type": "markdown",
   "metadata": {
    "vscode": {
     "languageId": "plaintext"
    }
   },
   "source": [
    "**Zadanie: Iloczyn dwóch liczb**\\\n",
    "Napisz funkcję, która przyjmuje dwie liczby i zwraca ich iloczyn."
   ]
  },
  {
   "cell_type": "code",
   "execution_count": 5,
   "metadata": {},
   "outputs": [
    {
     "name": "stdout",
     "output_type": "stream",
     "text": [
      "Product: 3671996182\n"
     ]
    }
   ],
   "source": [
    "def func(a:int, b:int)->int:\n",
    "    return a*b\n",
    "\n",
    "x = int(input(\"Enter first number: \"))\n",
    "y = int(input(\"Enter second number: \"))\n",
    "print(f'Product: {func(x,y)}') "
   ]
  },
  {
   "cell_type": "markdown",
   "metadata": {
    "vscode": {
     "languageId": "plaintext"
    }
   },
   "source": [
    "**Zadanie: Konwersja temperatury**\\\n",
    "Napisz funkcję, która przelicza temperaturę z stopni Celsjusza na stopnie Fahrenheita. Funkcja powinna przyjmować jeden argument (temperatura w °C) i zwracać wartość w °F według wzoru:\\\n",
    "`F = 9/5 * C + 32`."
   ]
  },
  {
   "cell_type": "code",
   "execution_count": 31,
   "metadata": {},
   "outputs": [
    {
     "ename": "KeyboardInterrupt",
     "evalue": "Interrupted by user",
     "output_type": "error",
     "traceback": [
      "\u001b[31m---------------------------------------------------------------------------\u001b[39m",
      "\u001b[31mKeyboardInterrupt\u001b[39m                         Traceback (most recent call last)",
      "\u001b[36mCell\u001b[39m\u001b[36m \u001b[39m\u001b[32mIn[31]\u001b[39m\u001b[32m, line 4\u001b[39m\n\u001b[32m      1\u001b[39m \u001b[38;5;28;01mdef\u001b[39;00m\u001b[38;5;250m \u001b[39m\u001b[34mfunc\u001b[39m(param: \u001b[38;5;28mfloat\u001b[39m)->\u001b[38;5;28mfloat\u001b[39m:\n\u001b[32m      2\u001b[39m     \u001b[38;5;28;01mreturn\u001b[39;00m \u001b[32m9\u001b[39m/\u001b[32m5\u001b[39m * param + \u001b[32m32\u001b[39m\n\u001b[32m----> \u001b[39m\u001b[32m4\u001b[39m temp = \u001b[38;5;28mfloat\u001b[39m(\u001b[38;5;28;43minput\u001b[39;49m\u001b[43m(\u001b[49m\u001b[33;43m'\u001b[39;49m\u001b[33;43mEnter temperature in °C: \u001b[39;49m\u001b[33;43m'\u001b[39;49m\u001b[43m)\u001b[49m)\n\u001b[32m      5\u001b[39m \u001b[38;5;28mprint\u001b[39m(\u001b[33mf\u001b[39m\u001b[33m'\u001b[39m\u001b[33mTemperature in Farenheit: \u001b[39m\u001b[38;5;132;01m{\u001b[39;00mfunc(temp)\u001b[38;5;132;01m}\u001b[39;00m\u001b[33m'\u001b[39m)\n",
      "\u001b[36mFile \u001b[39m\u001b[32m~\\AppData\\Roaming\\Python\\Python313\\site-packages\\ipykernel\\kernelbase.py:1282\u001b[39m, in \u001b[36mKernel.raw_input\u001b[39m\u001b[34m(self, prompt)\u001b[39m\n\u001b[32m   1280\u001b[39m     msg = \u001b[33m\"\u001b[39m\u001b[33mraw_input was called, but this frontend does not support input requests.\u001b[39m\u001b[33m\"\u001b[39m\n\u001b[32m   1281\u001b[39m     \u001b[38;5;28;01mraise\u001b[39;00m StdinNotImplementedError(msg)\n\u001b[32m-> \u001b[39m\u001b[32m1282\u001b[39m \u001b[38;5;28;01mreturn\u001b[39;00m \u001b[38;5;28;43mself\u001b[39;49m\u001b[43m.\u001b[49m\u001b[43m_input_request\u001b[49m\u001b[43m(\u001b[49m\n\u001b[32m   1283\u001b[39m \u001b[43m    \u001b[49m\u001b[38;5;28;43mstr\u001b[39;49m\u001b[43m(\u001b[49m\u001b[43mprompt\u001b[49m\u001b[43m)\u001b[49m\u001b[43m,\u001b[49m\n\u001b[32m   1284\u001b[39m \u001b[43m    \u001b[49m\u001b[38;5;28;43mself\u001b[39;49m\u001b[43m.\u001b[49m\u001b[43m_parent_ident\u001b[49m\u001b[43m[\u001b[49m\u001b[33;43m\"\u001b[39;49m\u001b[33;43mshell\u001b[39;49m\u001b[33;43m\"\u001b[39;49m\u001b[43m]\u001b[49m\u001b[43m,\u001b[49m\n\u001b[32m   1285\u001b[39m \u001b[43m    \u001b[49m\u001b[38;5;28;43mself\u001b[39;49m\u001b[43m.\u001b[49m\u001b[43mget_parent\u001b[49m\u001b[43m(\u001b[49m\u001b[33;43m\"\u001b[39;49m\u001b[33;43mshell\u001b[39;49m\u001b[33;43m\"\u001b[39;49m\u001b[43m)\u001b[49m\u001b[43m,\u001b[49m\n\u001b[32m   1286\u001b[39m \u001b[43m    \u001b[49m\u001b[43mpassword\u001b[49m\u001b[43m=\u001b[49m\u001b[38;5;28;43;01mFalse\u001b[39;49;00m\u001b[43m,\u001b[49m\n\u001b[32m   1287\u001b[39m \u001b[43m\u001b[49m\u001b[43m)\u001b[49m\n",
      "\u001b[36mFile \u001b[39m\u001b[32m~\\AppData\\Roaming\\Python\\Python313\\site-packages\\ipykernel\\kernelbase.py:1325\u001b[39m, in \u001b[36mKernel._input_request\u001b[39m\u001b[34m(self, prompt, ident, parent, password)\u001b[39m\n\u001b[32m   1322\u001b[39m \u001b[38;5;28;01mexcept\u001b[39;00m \u001b[38;5;167;01mKeyboardInterrupt\u001b[39;00m:\n\u001b[32m   1323\u001b[39m     \u001b[38;5;66;03m# re-raise KeyboardInterrupt, to truncate traceback\u001b[39;00m\n\u001b[32m   1324\u001b[39m     msg = \u001b[33m\"\u001b[39m\u001b[33mInterrupted by user\u001b[39m\u001b[33m\"\u001b[39m\n\u001b[32m-> \u001b[39m\u001b[32m1325\u001b[39m     \u001b[38;5;28;01mraise\u001b[39;00m \u001b[38;5;167;01mKeyboardInterrupt\u001b[39;00m(msg) \u001b[38;5;28;01mfrom\u001b[39;00m\u001b[38;5;250m \u001b[39m\u001b[38;5;28;01mNone\u001b[39;00m\n\u001b[32m   1326\u001b[39m \u001b[38;5;28;01mexcept\u001b[39;00m \u001b[38;5;167;01mException\u001b[39;00m:\n\u001b[32m   1327\u001b[39m     \u001b[38;5;28mself\u001b[39m.log.warning(\u001b[33m\"\u001b[39m\u001b[33mInvalid Message:\u001b[39m\u001b[33m\"\u001b[39m, exc_info=\u001b[38;5;28;01mTrue\u001b[39;00m)\n",
      "\u001b[31mKeyboardInterrupt\u001b[39m: Interrupted by user"
     ]
    }
   ],
   "source": [
    "def func(param: float)->float:\n",
    "    return 9/5 * param + 32\n",
    "    \n",
    "temp = float(input('Enter temperature in °C: '))\n",
    "print(f'Temperature in Farenheit: {func(temp)}')"
   ]
  },
  {
   "cell_type": "markdown",
   "metadata": {
    "vscode": {
     "languageId": "plaintext"
    }
   },
   "source": [
    "**Zadanie: Liczba parzysta czy nieparzysta**\\\n",
    "Napisz funkcję, która przyjmuje liczbę całkowitą i zwraca `True`, jeśli liczba jest parzysta, lub `False`, jeśli jest nieparzysta."
   ]
  },
  {
   "cell_type": "code",
   "execution_count": 26,
   "metadata": {},
   "outputs": [
    {
     "name": "stdout",
     "output_type": "stream",
     "text": [
      "Even number: True\n"
     ]
    }
   ],
   "source": [
    "def check_if_number_even_or_odd(param:int)->bool:\n",
    "    return param % 2 == 0 \n",
    "    \n",
    "number = int(input('Enter number: '))\n",
    "print(f'Even number: {check_if_number_even_or_odd(number)}')"
   ]
  },
  {
   "cell_type": "markdown",
   "metadata": {
    "vscode": {
     "languageId": "plaintext"
    }
   },
   "source": [
    "\n",
    "\n",
    "**Zadanie: Pozytywna, negatywna czy zero**\\\n",
    "Napisz funkcję, która przyjmuje liczbę i zwraca napis `\"dodatnia\"`, jeśli liczba jest większa od zera, `\"ujemna\"` jeśli mniejsza od zera, lub `\"zero\"` jeśli równa zero.\n"
   ]
  },
  {
   "cell_type": "code",
   "execution_count": 12,
   "metadata": {},
   "outputs": [
    {
     "name": "stdout",
     "output_type": "stream",
     "text": [
      "Liczba jest równa zero\n"
     ]
    }
   ],
   "source": [
    "def check_number_status(param:int)->str:\n",
    "    return \"dodatnia\" if param > 0 else \"ujemna\" if param < 0 else \"równa zero\"\n",
    "    \n",
    "number = int(input('Enter number: '))\n",
    "print(f'Liczba jest {check_number_status(number)}')\n"
   ]
  },
  {
   "cell_type": "markdown",
   "metadata": {
    "vscode": {
     "languageId": "plaintext"
    }
   },
   "source": [
    "\n",
    "**Zadanie: Maksimum z dwóch liczb**\\\n",
    "Napisz funkcję, która przyjmuje dwie liczby i zwraca większą z nich. Jeśli liczby są równe, zwróć dowolną z nich.\n"
   ]
  },
  {
   "cell_type": "code",
   "execution_count": 30,
   "metadata": {},
   "outputs": [
    {
     "name": "stdout",
     "output_type": "stream",
     "text": [
      "Greater number is: 6\n"
     ]
    }
   ],
   "source": [
    "def find_greater_number(a:int, b:int)->int:\n",
    "    return a if a>b else b \n",
    "\n",
    "number1 = int(input('Enter first number'))\n",
    "number2 = int(input('Enter second number'))\n",
    "\n",
    "print(f'Greater number is: {find_greater_number(number1,number2)}')"
   ]
  },
  {
   "cell_type": "markdown",
   "metadata": {
    "vscode": {
     "languageId": "plaintext"
    }
   },
   "source": [
    "\n",
    "**Zadanie: Suma kolejnych liczb**\\\n",
    "Napisz funkcję, która przyjmuje dodatnią liczbę całkowitą `n` i zwraca sumę wszystkich liczb od 1 do `n` włącznie.\n"
   ]
  },
  {
   "cell_type": "code",
   "execution_count": 7,
   "metadata": {},
   "outputs": [
    {
     "name": "stdout",
     "output_type": "stream",
     "text": [
      "Sum of numbers: 55\n"
     ]
    }
   ],
   "source": [
    "# def func(n:int)->int:\n",
    "#    sum=0\n",
    "#    i=1\n",
    "#    while i<=n:\n",
    "#       sum=sum+i\n",
    "#       i+=1\n",
    "#    return sum\n",
    "\n",
    "def func_sum_to_n(n:int)->int:\n",
    "   return sum(range(1,n+1))\n",
    "\n",
    "number = int(input('Enter positive integer:'))\n",
    "\n",
    "while number<=0:\n",
    "   number = int(input('Enter positive integer:'))\n",
    "\n",
    "print(f'Sum of numbers: {func_sum_to_n(number)}')\n",
    "    "
   ]
  },
  {
   "cell_type": "markdown",
   "metadata": {
    "vscode": {
     "languageId": "plaintext"
    }
   },
   "source": [
    "\n",
    "\n",
    "**Zadanie: Potęga z domyślnym wykładnikiem**\\\n",
    "Napisz funkcję, która przyjmuje dwa argumenty: podstawę i wykładnik, i zwraca wynik potęgowania (podstawa podniesiona do wykładnika). Drugi argument powinien być domyślnie równy `2`.\n"
   ]
  },
  {
   "cell_type": "code",
   "execution_count": 6,
   "metadata": {},
   "outputs": [
    {
     "name": "stdout",
     "output_type": "stream",
     "text": [
      "2 ^ 10 = 1024\n"
     ]
    }
   ],
   "source": [
    "def func(a:int, b:int=2)->int:\n",
    "    return a ** b\n",
    "\n",
    "base = int(input('Enter number: '))\n",
    "exponent = int(input('Enter number: '))\n",
    "\n",
    "print(f'{base} ^ {exponent} = {func(base,exponent)}')\n"
   ]
  },
  {
   "cell_type": "markdown",
   "metadata": {
    "vscode": {
     "languageId": "plaintext"
    }
   },
   "source": [
    "\n",
    "\n",
    "\n",
    "**Zadanie: Suma elementów listy**\\\n",
    "Napisz funkcję, która przyjmuje listę liczb i zwraca sumę wszystkich elementów tej listy.\n"
   ]
  },
  {
   "cell_type": "code",
   "execution_count": 14,
   "metadata": {},
   "outputs": [
    {
     "name": "stdout",
     "output_type": "stream",
     "text": [
      "Enter numbers. If you want to stop entering numbers type \"stop\"\n",
      "The sum of numbers is: 36\n"
     ]
    }
   ],
   "source": [
    "def create_number_list()->list[int]:\n",
    "    numbers = []\n",
    "    print('Enter numbers. If you want to stop entering numbers type \"stop\"')\n",
    "\n",
    "    while True:\n",
    "         user_input = input('Enter number: ')\n",
    "         if user_input.lower() == 'stop':\n",
    "            break\n",
    "         else:\n",
    "            number = int(user_input)\n",
    "            numbers.append(number)\n",
    "    return numbers\n",
    "\n",
    "def calculate_the_sum(number_list: list[int])->int:\n",
    "     return sum(number_list)\n",
    "\n",
    "user_input_list = create_number_list()\n",
    "print(f'The sum of numbers is: {calculate_the_sum(user_input_list)}')\n"
   ]
  },
  {
   "cell_type": "markdown",
   "metadata": {
    "vscode": {
     "languageId": "plaintext"
    }
   },
   "source": [
    "\n",
    "**Zadanie: Średnia arytmetyczna**\\\n",
    "Napisz funkcję, która przyjmuje listę liczb i zwraca średnią arytmetyczną tych liczb.\n"
   ]
  },
  {
   "cell_type": "code",
   "execution_count": 21,
   "metadata": {},
   "outputs": [
    {
     "name": "stdout",
     "output_type": "stream",
     "text": [
      "Enter numbers. If you want to stop entering numbers type \"stop\"\n",
      "The sum of numbers is: 0\n"
     ]
    }
   ],
   "source": [
    "def create_number_list()->list[int]:\n",
    "    numbers = []\n",
    "    print('Enter numbers. If you want to stop entering numbers type \"stop\"')\n",
    "\n",
    "    while True:\n",
    "         user_input = input('Enter number: ')\n",
    "         if user_input.lower() == 'stop':\n",
    "            break\n",
    "         else:\n",
    "            number = int(user_input)\n",
    "            numbers.append(number)\n",
    "    return numbers\n",
    "\n",
    "def calculate_arithmetic_mean(numbers_list:list[int])->float:\n",
    "        return sum(numbers_list)/ len(numbers_list) if numbers_list else 0\n",
    "\n",
    "user_input_list = create_number_list()\n",
    "print(f'The sum of numbers is: {calculate_arithmetic_mean(user_input_list)}')\n"
   ]
  },
  {
   "cell_type": "markdown",
   "metadata": {
    "vscode": {
     "languageId": "plaintext"
    }
   },
   "source": [
    "\n",
    "\n",
    "**Zadanie: Maksimum z listy**\\\n",
    "Napisz funkcję, która przyjmuje listę liczb i zwraca największą wartość z tej listy.\n"
   ]
  },
  {
   "cell_type": "code",
   "execution_count": 22,
   "metadata": {},
   "outputs": [
    {
     "name": "stdout",
     "output_type": "stream",
     "text": [
      "Enter numbers. If you want to stop entering numbers type \"stop\"\n",
      "Max value in list is: 789\n"
     ]
    }
   ],
   "source": [
    "def create_number_list()->list[int]:\n",
    "    numbers = []\n",
    "    print('Enter numbers. If you want to stop entering numbers type \"stop\"')\n",
    "\n",
    "    while True:\n",
    "         user_input = input('Enter number: ')\n",
    "         if user_input.lower() == 'stop':\n",
    "            break\n",
    "         else:\n",
    "            number = int(user_input)\n",
    "            numbers.append(number)\n",
    "    return numbers\n",
    "\n",
    "def find_max_value(numbers_list:list[int])->int:\n",
    "    return max(numbers_list)\n",
    "\n",
    "user_input_list = create_number_list()\n",
    "print(f'Max value in list is: {find_max_value(user_input_list)}')"
   ]
  },
  {
   "cell_type": "markdown",
   "metadata": {
    "vscode": {
     "languageId": "plaintext"
    }
   },
   "source": [
    "\n",
    "**Zadanie: Minimum z listy**\\\n",
    "Napisz funkcję, która przyjmuje listę liczb i zwraca najmniejszą wartość z tej listy.\n"
   ]
  },
  {
   "cell_type": "code",
   "execution_count": null,
   "metadata": {},
   "outputs": [],
   "source": [
    "def create_number_list()->list[int]:\n",
    "    numbers = []\n",
    "    print('Enter numbers. If you want to stop entering numbers type \"stop\"')\n",
    "\n",
    "    while True:\n",
    "         user_input = input('Enter number: ')\n",
    "         if user_input.lower() == 'stop':\n",
    "            break\n",
    "         else:\n",
    "            number = int(user_input)\n",
    "            numbers.append(number)\n",
    "    return numbers\n",
    "\n",
    "def find_min_value(numbers_list:list[int])->int:\n",
    "    return min(numbers_list)\n",
    "\n",
    "user_input_list = create_number_list()\n",
    "print(f'Min value in list is: {find_max_value(user_input_list)}')"
   ]
  },
  {
   "cell_type": "markdown",
   "metadata": {
    "vscode": {
     "languageId": "plaintext"
    }
   },
   "source": [
    "\n",
    "**Zadanie: Lista kwadratów**\\\n",
    "Napisz funkcję, która przyjmuje dodatnią liczbę całkowitą `n` i zwraca listę zawierającą kwadraty kolejnych liczb od 1 do `n` (np. dla `n = 5` lista powinna wyglądać tak: `[1, 4, 9, 16, 25]`).\n"
   ]
  },
  {
   "cell_type": "code",
   "execution_count": 23,
   "metadata": {},
   "outputs": [
    {
     "name": "stdout",
     "output_type": "stream",
     "text": [
      "[1, 4, 9, 16, 25]\n"
     ]
    }
   ],
   "source": [
    "def func(n:int)->list[int]:\n",
    "    out_list=[]\n",
    "    for i in range(1,n+1):\n",
    "      out_list.append(i**2)\n",
    "    return out_list\n",
    "\n",
    "number = int(input('Enter number: '))\n",
    "print(f'{func(number)}')"
   ]
  },
  {
   "cell_type": "markdown",
   "metadata": {
    "vscode": {
     "languageId": "plaintext"
    }
   },
   "source": [
    "\n",
    "**Zadanie: Liczba parzystych liczb w liście**\\\n",
    "Napisz funkcję, która przyjmuje listę liczb i zwraca liczbę elementów, które są parzyste.\n"
   ]
  },
  {
   "cell_type": "code",
   "execution_count": 25,
   "metadata": {},
   "outputs": [
    {
     "name": "stdout",
     "output_type": "stream",
     "text": [
      "Enter numbers. If you want to stop entering numbers type \"stop\"\n",
      "Even numbers in a list: [4, 34]\n"
     ]
    }
   ],
   "source": [
    "def create_number_list()->list[int]:\n",
    "    numbers = []\n",
    "    print('Enter numbers. If you want to stop entering numbers type \"stop\"')\n",
    "\n",
    "    while True:\n",
    "         user_input = input('Enter number: ')\n",
    "         if user_input.lower() == 'stop':\n",
    "            break\n",
    "         else:\n",
    "            number = int(user_input)\n",
    "            numbers.append(number)\n",
    "    return numbers\n",
    "\n",
    "def find_even_numbers(numbers:list[int])->list[int]:\n",
    "    new_list = []\n",
    "    for i in numbers:\n",
    "       result= True if i % 2 == 0 else False\n",
    "       if result == True:\n",
    "           new_list.append(i)\n",
    "    return new_list\n",
    "\n",
    "user_input_list = create_number_list()\n",
    "print(f'Even numbers in a list: {find_even_numbers(user_input_list)}')\n"
   ]
  },
  {
   "cell_type": "markdown",
   "metadata": {
    "vscode": {
     "languageId": "plaintext"
    }
   },
   "source": [
    "\n",
    "**Zadanie: Filtruj liczby dodatnie**\\\n",
    "Napisz funkcję, która przyjmuje listę liczb i zwraca nową listę zawierającą tylko te elementy, które są liczbami dodatnimi (większymi od zera).\n"
   ]
  },
  {
   "cell_type": "code",
   "execution_count": null,
   "metadata": {},
   "outputs": [],
   "source": [
    "def create_number_list()->list[int]:\n",
    "    numbers = []\n",
    "    print('Enter numbers. If you want to stop entering numbers type \"stop\"')\n",
    "\n",
    "    while True:\n",
    "         user_input = input('Enter number: ')\n",
    "         if user_input.lower() == 'stop':\n",
    "            break\n",
    "         else:\n",
    "            number = int(user_input)\n",
    "            numbers.append(number)\n",
    "    return numbers\n",
    "\n",
    "def find_positive_numbers(number_list: list[int])->list[int]:\n",
    "    positive_numbers=[]\n",
    "    for i in number_list:\n",
    "        if "
   ]
  },
  {
   "cell_type": "markdown",
   "metadata": {
    "vscode": {
     "languageId": "plaintext"
    }
   },
   "source": [
    "\n",
    "**Zadanie: Unikalne elementy**\\\n",
    "Napisz funkcję, która przyjmuje listę (np. liczb lub napisów) i zwraca nową listę zawierającą tylko unikalne elementy z oryginalnej listy, zachowując kolejność ich pierwszego wystąpienia.\n"
   ]
  },
  {
   "cell_type": "code",
   "execution_count": null,
   "metadata": {},
   "outputs": [],
   "source": []
  },
  {
   "cell_type": "markdown",
   "metadata": {
    "vscode": {
     "languageId": "plaintext"
    }
   },
   "source": [
    "\n",
    "\n",
    "**Zadanie: Czy lista posortowana?**\\\n",
    "Napisz funkcję, która przyjmuje listę liczb i sprawdza, czy elementy listy są ułożone w porządku niemalejącym (rosnąco). Funkcja powinna zwracać `True` lub `False`."
   ]
  },
  {
   "cell_type": "code",
   "execution_count": null,
   "metadata": {},
   "outputs": [],
   "source": []
  },
  {
   "cell_type": "markdown",
   "metadata": {
    "vscode": {
     "languageId": "plaintext"
    }
   },
   "source": [
    "\n",
    "\n",
    "**Zadanie: Liczba samogłosek**\\\n",
    "Napisz funkcję, która przyjmuje napis i zwraca liczbę występujących w nim samogłosek (a, e, i, o, u, y) – niezależnie od wielkości liter."
   ]
  },
  {
   "cell_type": "code",
   "execution_count": null,
   "metadata": {},
   "outputs": [],
   "source": []
  },
  {
   "cell_type": "markdown",
   "metadata": {
    "vscode": {
     "languageId": "plaintext"
    }
   },
   "source": [
    "\n",
    "\n",
    "**Zadanie: Odwracanie napisu**\\\n",
    "Napisz funkcję, która przyjmuje napis i zwraca ten sam napis zapisany wspak (odwrócona kolejność znaków).\n"
   ]
  },
  {
   "cell_type": "code",
   "execution_count": null,
   "metadata": {},
   "outputs": [],
   "source": []
  },
  {
   "cell_type": "markdown",
   "metadata": {
    "vscode": {
     "languageId": "plaintext"
    }
   },
   "source": [
    "\n",
    "**Zadanie: Palindrom**\\\n",
    "Napisz funkcję, która sprawdza, czy podany napis jest palindromem (czytany od tyłu jest taki sam jak od przodu, przy ignorowaniu wielkości liter). Funkcja powinna zwracać `True` lub `False`.\n"
   ]
  },
  {
   "cell_type": "code",
   "execution_count": null,
   "metadata": {},
   "outputs": [],
   "source": []
  },
  {
   "cell_type": "markdown",
   "metadata": {
    "vscode": {
     "languageId": "plaintext"
    }
   },
   "source": [
    "\n",
    "**Zadanie: Liczba słów w zdaniu**\\\n",
    "Napisz funkcję, która przyjmuje napis (zdanie) i zwraca liczbę słów, przyjmując, że słowa są oddzielone spacjami.\n"
   ]
  },
  {
   "cell_type": "code",
   "execution_count": null,
   "metadata": {},
   "outputs": [],
   "source": []
  },
  {
   "cell_type": "markdown",
   "metadata": {
    "vscode": {
     "languageId": "plaintext"
    }
   },
   "source": [
    "\n",
    "**Zadanie: Najdłuższe słowo**\\\n",
    "Napisz funkcję, która przyjmuje listę napisów (słów) i zwraca najdłuższy napis z tej listy. Jeśli więcej niż jedno słowo ma taką samą, maksymalną długość, zwróć pierwsze z nich.\n"
   ]
  },
  {
   "cell_type": "code",
   "execution_count": null,
   "metadata": {},
   "outputs": [],
   "source": []
  },
  {
   "cell_type": "markdown",
   "metadata": {
    "vscode": {
     "languageId": "plaintext"
    }
   },
   "source": [
    "\n",
    "**Zadanie: Suma wartości w słowniku**\\\n",
    "Napisz funkcję, która przyjmuje słownik, w którym wartości są liczbami, i zwraca sumę tych wartości.\n"
   ]
  },
  {
   "cell_type": "code",
   "execution_count": null,
   "metadata": {},
   "outputs": [],
   "source": []
  },
  {
   "cell_type": "markdown",
   "metadata": {
    "vscode": {
     "languageId": "plaintext"
    }
   },
   "source": [
    "\n",
    "**Zadanie: Częstotliwość elementów**\\\n",
    "Napisz funkcję, która przyjmuje listę (np. liczb lub napisów) i zwraca słownik, gdzie kluczami są unikalne elementy listy, a wartościami liczba wystąpień tych elementów.\n"
   ]
  },
  {
   "cell_type": "code",
   "execution_count": null,
   "metadata": {},
   "outputs": [],
   "source": []
  },
  {
   "cell_type": "markdown",
   "metadata": {
    "vscode": {
     "languageId": "plaintext"
    }
   },
   "source": [
    "\n",
    "**Zadanie: Odwracanie słownika**\\\n",
    "Napisz funkcję, która przyjmuje słownik i zwraca nowy słownik, w którym klucze i wartości zostały zamienione miejscami. Załóż, że wszystkie wartości w oryginalnym słowniku są unikalne.\n"
   ]
  },
  {
   "cell_type": "code",
   "execution_count": null,
   "metadata": {},
   "outputs": [],
   "source": []
  },
  {
   "cell_type": "markdown",
   "metadata": {},
   "source": [
    "\n",
    "**Zadanie: Liczba pierwsza**\\\n",
    "Napisz funkcję, która przyjmuje liczbę całkowitą i sprawdza, czy jest ona liczbą pierwszą (większą od 1, dzielącą się tylko przez 1 i samą siebie). Funkcja powinna zwracać `True` lub `False`.\n",
    "\n"
   ]
  },
  {
   "cell_type": "code",
   "execution_count": null,
   "metadata": {},
   "outputs": [],
   "source": []
  },
  {
   "cell_type": "markdown",
   "metadata": {},
   "source": []
  },
  {
   "cell_type": "code",
   "execution_count": null,
   "metadata": {},
   "outputs": [],
   "source": []
  }
 ],
 "metadata": {
  "kernelspec": {
   "display_name": "Python 3",
   "language": "python",
   "name": "python3"
  },
  "language_info": {
   "codemirror_mode": {
    "name": "ipython",
    "version": 3
   },
   "file_extension": ".py",
   "mimetype": "text/x-python",
   "name": "python",
   "nbconvert_exporter": "python",
   "pygments_lexer": "ipython3",
   "version": "3.13.3"
  }
 },
 "nbformat": 4,
 "nbformat_minor": 2
}
