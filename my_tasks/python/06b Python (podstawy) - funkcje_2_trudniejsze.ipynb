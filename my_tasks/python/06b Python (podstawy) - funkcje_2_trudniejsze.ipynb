{
 "cells": [
  {
   "cell_type": "markdown",
   "metadata": {},
   "source": [
    "---\n",
    "\n",
    "**1. Napisz funkcję, która oblicza silnię podanej liczby.**\n",
    "\n",
    "Przykład: `factorial(5)` powinno zwrócić `120`.\n",
    "\n",
    "---"
   ]
  },
  {
   "cell_type": "code",
   "execution_count": 2,
   "metadata": {},
   "outputs": [
    {
     "name": "stdout",
     "output_type": "stream",
     "text": [
      "Factorial of a number: 5 is 120\n"
     ]
    }
   ],
   "source": [
    "def factorial(x:int)->int:\n",
    "    if x==0:\n",
    "        return 1\n",
    "    else:\n",
    "        return x * factorial(x-1)\n",
    "\n",
    "number = int(input('Enter number: '))\n",
    "while number < 0:\n",
    "    number = int(input('Enter positive number: '))\n",
    "\n",
    "print(f'Factorial of a number: {number} is {factorial(number)}')\n"
   ]
  },
  {
   "cell_type": "markdown",
   "metadata": {},
   "source": [
    "\n",
    "**2. Napisz funkcję, która sprawdza, czy podana liczba jest liczbą pierwszą.**\n",
    "\n",
    "*Hint:* Sprawdź, czy liczba jest podzielna przez jakąkolwiek liczbę od 2 do pierwiastka z tej liczby.\n",
    "\n",
    "\n",
    "Przykład: `is_prime(7)` powinno zwrócić `True`.\n",
    "\n",
    "---"
   ]
  },
  {
   "cell_type": "code",
   "execution_count": null,
   "metadata": {},
   "outputs": [],
   "source": [
    "def is_prime(n: int) -> bool:\n",
    "    if n <= 1:  \n",
    "        return False\n",
    "    for i in range(2, int(n ** 0.5) + 1):  \n",
    "        if n % i == 0:  \n",
    "            return False\n",
    "    return True  "
   ]
  },
  {
   "cell_type": "markdown",
   "metadata": {},
   "source": [
    "**3. Napisz funkcję, która zwraca ciąg Fibonacciego o długości n.**\n",
    "\n",
    "*Hint:* Zacznij od wartości 0 i 1, a następnie w pętli dodawaj dwie poprzednie liczby, aby uzyskać kolejną.\n",
    "\n",
    "\n",
    "Przykład: `fibonacci(5)` powinno zwrócić `[0, 1, 1, 2, 3]`.\n"
   ]
  },
  {
   "cell_type": "code",
   "execution_count": 1,
   "metadata": {},
   "outputs": [
    {
     "name": "stdout",
     "output_type": "stream",
     "text": [
      "Fibonacci: 55\n"
     ]
    }
   ],
   "source": [
    "def fibonacci(n: int) -> int:\n",
    "    if n <= 1:\n",
    "        return n\n",
    "    else:\n",
    "        return fibonacci(n - 1) + fibonacci(n - 2)\n",
    "\n",
    "number = int(input('Enter number: '))\n",
    "while number < 0:\n",
    "    number = int(input('Enter positive number: '))\n",
    "\n",
    "print(f'Fibonacci: {fibonacci(number)}')"
   ]
  },
  {
   "cell_type": "markdown",
   "metadata": {},
   "source": [
    "\n",
    "\n",
    "\n",
    "---\n",
    "\n",
    "**4. Napisz funkcję, która odwraca podany łańcuch znaków.**\n",
    "\n",
    "Przykład: `reverse_string(\"Python\")` powinno zwrócić `\"nohtyP\"`."
   ]
  },
  {
   "cell_type": "code",
   "execution_count": null,
   "metadata": {},
   "outputs": [],
   "source": [
    "def reverse_string(s):\n",
    "    return s[::-1]\n",
    "\n",
    "print(reverse_string(\"Python\"))"
   ]
  },
  {
   "cell_type": "markdown",
   "metadata": {},
   "source": [
    "\n",
    "\n",
    "\n",
    "---\n",
    "\n",
    "**5. Napisz funkcję, która liczy liczbę samogłosek w podanym łańcuchu znaków.**\n",
    "\n",
    "\n",
    "\n",
    "Przykład: `count_vowels(\"Data Science\")` powinno zwrócić `5`.\n",
    "\n",
    "---"
   ]
  },
  {
   "cell_type": "code",
   "execution_count": null,
   "metadata": {},
   "outputs": [],
   "source": [
    "def count_vowels(s):\n",
    "    vowels = 'aeiouAEIOU'\n",
    "    return sum(1 for char in s if char in vowels)\n",
    "\n",
    "print(count_vowels(\"Data Science\"))"
   ]
  },
  {
   "cell_type": "markdown",
   "metadata": {},
   "source": [
    "\n",
    "**6. Napisz funkcję, która z podanej listy zwraca listę unikalnych elementów.**\n",
    "\n",
    "Przykład: `unique_elements([1, 2, 2, 3, 4, 4])` powinno zwrócić `[1, 2, 3, 4]`.\n",
    "\n",
    "---"
   ]
  },
  {
   "cell_type": "code",
   "execution_count": null,
   "metadata": {},
   "outputs": [],
   "source": [
    "def unique_elements(lst):\n",
    "    return list(set(lst))\n",
    "\n",
    "print(unique_elements([1, 2, 2, 3, 4, 3, 5]))"
   ]
  },
  {
   "cell_type": "markdown",
   "metadata": {},
   "source": [
    "**7. Napisz funkcję, która sortuje listę liczb bez użycia wbudowanej funkcji `sort()`.**\n",
    "\n",
    "*Hint:* Zaimplementuj prosty algorytm sortowania, na przykład sortowanie bąbelkowe. \n",
    "\n",
    "https://www.korepetycjezinformatyki.pl/sortowanie-babelkowe-bubble-sort/#:~:text=Sortowanie%20b%C4%85belkowe%20por%C3%B3wnuje%20s%C4%85siaduj%C4%85ce%20ze,liczby%20znajduj%C4%85ce%20si%C4%99%20obok%20siebie.\n",
    "\n",
    "\n",
    "Przykład: `sort_list([3, 1, 4, 2])` powinno zwrócić `[1, 2, 3, 4]`.\n",
    "\n",
    "---"
   ]
  },
  {
   "cell_type": "code",
   "execution_count": 2,
   "metadata": {},
   "outputs": [
    {
     "name": "stdout",
     "output_type": "stream",
     "text": [
      "[1, 2, 3, 4, 5]\n",
      "[1, 2, 3, 4, 5]\n"
     ]
    }
   ],
   "source": [
    "def sort_list(lst):\n",
    "    for i in range(len(lst)):\n",
    "        for j in range(0, len(lst) - i - 1):\n",
    "            if lst[j] > lst[j + 1]:\n",
    "                lst[j], lst[j + 1] = lst[j + 1], lst[j]\n",
    "    return lst\n",
    "\n",
    "print(sort_list([3, 2, 1, 4, 5]))\n",
    "\n",
    "lst = [5, 3, 8, 2, 1, 7]\n",
    "def sort_list2(lst):\n",
    "    n = len(lst)\n",
    "    for i in range(n - 1):\n",
    "        for j in range(n - 1):\n",
    "            if lst[j] > lst[j + 1]:\n",
    "                var = lst[j]\n",
    "                lst[j] = lst[j + 1]\n",
    "                lst[j + 1] = var\n",
    "    return lst\n",
    "\n",
    "print(sort_list2([3, 2, 1, 4, 5]))"
   ]
  },
  {
   "cell_type": "markdown",
   "metadata": {},
   "source": [
    "\n",
    "**8. Napisz funkcję, która oblicza sumę cyfr podanej liczby.**\n",
    "\n",
    "Przykład: `sum_of_digits(1234)` powinno zwrócić `10`.\n",
    "\n",
    "---"
   ]
  },
  {
   "cell_type": "code",
   "execution_count": 5,
   "metadata": {},
   "outputs": [
    {
     "name": "stdout",
     "output_type": "stream",
     "text": [
      "15\n"
     ]
    }
   ],
   "source": [
    "def sum_of_digits(n):\n",
    "    return sum(int(digit) for digit in str(n))\n",
    "\n",
    "print(sum_of_digits(12345))"
   ]
  },
  {
   "cell_type": "markdown",
   "metadata": {},
   "source": [
    "\n",
    "\n",
    "\n",
    "**9. Napisz funkcję, która sprawdza, czy podany łańcuch znaków jest palindromem.**\n",
    "\n",
    "Przykład: `is_palindrome(\"kajak\")` powinno zwrócić `True`.\n",
    "\n",
    "---"
   ]
  },
  {
   "cell_type": "code",
   "execution_count": null,
   "metadata": {},
   "outputs": [],
   "source": [
    "def is_palindrome(s):\n",
    "    return s == s[::-1]\n",
    "\n",
    "print(is_palindrome(\"kajak\"))"
   ]
  },
  {
   "cell_type": "markdown",
   "metadata": {},
   "source": [
    "\n",
    "\n",
    "**10. Napisz funkcję, która znajduje największy wspólny dzielnik (NWD) dwóch liczb.**\n",
    "\n",
    "*Hint:* Użyj algorytmu Euklidesa.\n",
    "https://pl.wikipedia.org/wiki/Algorytm_Euklidesa\n",
    "\n",
    "\n",
    "Przykład: `gcd(8, 12)` powinno zwrócić `4`.\n",
    "\n",
    "---"
   ]
  },
  {
   "cell_type": "code",
   "execution_count": null,
   "metadata": {},
   "outputs": [],
   "source": [
    "def gcd(a, b):\n",
    "    while b:\n",
    "        a, b = b, a % b\n",
    "    return a\n",
    "\n",
    "print(gcd(8, 12))"
   ]
  },
  {
   "cell_type": "markdown",
   "metadata": {},
   "source": [
    "\n",
    "**11. Napisz funkcję, która zwraca transponowaną macierz podanej macierzy (listy list).**\n",
    "\n",
    "*Hint:* Spróbuj utworzyć nową macierz, w której każdy element z kolumny oryginalnej macierzy dodasz jako nowy wiersz do macierzy wynikowej.\n",
    "\n",
    "\n",
    "\n",
    "\n",
    "\n",
    "\n",
    "Przykład:\n",
    "\n",
    "```python\n",
    "matrix = [\n",
    "    [1, 2],\n",
    "    [3, 4],\n",
    "    [5, 6]\n",
    "]\n",
    "transpose(matrix)\n",
    "# Powinno zwrócić:\n",
    "# [\n",
    "#     [1, 3, 5],\n",
    "#     [2, 4, 6]\n",
    "# ]\n",
    "```\n",
    "\n",
    "---"
   ]
  },
  {
   "cell_type": "code",
   "execution_count": null,
   "metadata": {},
   "outputs": [
    {
     "name": "stdout",
     "output_type": "stream",
     "text": [
      "[[1, 4], [2, 5], [3, 6]]\n"
     ]
    }
   ],
   "source": [
    "def transpose(matrix):\n",
    "    # liczba wierszy = liczba kolumn w oryginalnej macierzy\n",
    "    # liczba kolumn = liczba wierszy w oryginalnej macierzy\n",
    "    transposed = []\n",
    "    \n",
    "    for col_index in range(len(matrix[0])):\n",
    "        new_row = []\n",
    "        for row_index in range(len(matrix)):\n",
    "            new_row.append(matrix[row_index][col_index])\n",
    "        transposed.append(new_row)\n",
    "    \n",
    "    return transposed\n",
    "\n",
    "matrix = [[1, 2, 3],[4, 5, 6]]\n",
    "\n",
    "print(transpose(matrix))"
   ]
  },
  {
   "cell_type": "markdown",
   "metadata": {},
   "source": [
    "\n",
    "\n",
    "\n",
    "\n",
    "**12. Napisz funkcję, która liczy wystąpienia każdego słowa w podanym tekście.**\n",
    "\n",
    "*Hint:* Podziel tekst na słowa ( string.split() ) i użyj słownika do zliczania wystąpień.\n",
    "\n",
    "\n",
    "Przykład: `count_words(\"to be or not to be\")` powinno zwrócić `{'to': 2, 'be': 2, 'or': 1, 'not': 1}`.\n",
    "\n",
    "---"
   ]
  },
  {
   "cell_type": "code",
   "execution_count": null,
   "metadata": {},
   "outputs": [],
   "source": []
  },
  {
   "cell_type": "markdown",
   "metadata": {},
   "source": [
    "\n",
    "**13. Napisz funkcję, która konwertuje liczbę dziesiętną na system binarny.**\n",
    "\n",
    "*Hint:* Możesz użyć operatora dzielenia i reszty, aby sukcesywnie obliczać kolejne bity.\n",
    "\n",
    "\n",
    "Przykład: `to_binary(5)` powinno zwrócić `'101'`.\n",
    "\n",
    "---"
   ]
  },
  {
   "cell_type": "code",
   "execution_count": null,
   "metadata": {},
   "outputs": [],
   "source": []
  },
  {
   "cell_type": "markdown",
   "metadata": {},
   "source": [
    "\n",
    "\n",
    "\n",
    "\n",
    "**14. Napisz funkcję rekurencyjną, która oblicza n-tą potęgę liczby.**\n",
    "\n",
    "*Hint:* Funkcja powinna wywoływać samą siebie z mniejszym wykładnikiem.\n",
    "\n",
    "\n",
    "Przykład: `power(2, 3)` powinno zwrócić `8`.\n",
    "\n",
    "---"
   ]
  },
  {
   "cell_type": "code",
   "execution_count": null,
   "metadata": {},
   "outputs": [],
   "source": []
  },
  {
   "cell_type": "markdown",
   "metadata": {},
   "source": [
    "\n",
    "\n",
    "**15. Napisz funkcję, która usuwa duplikaty z listy.**\n",
    "\n",
    "*Hint:* Użyj struktury danych  *set*  do śledzenia już napotkanych elementów.\n",
    "\n",
    "\n",
    "Przykład: `remove_duplicates([1, 2, 2, 3, 4, 4, 5])` powinno zwrócić `[1, 2, 3, 4, 5]`.\n",
    "\n",
    "---"
   ]
  },
  {
   "cell_type": "code",
   "execution_count": null,
   "metadata": {},
   "outputs": [],
   "source": []
  },
  {
   "cell_type": "markdown",
   "metadata": {},
   "source": [
    "\n",
    "**16. Napisz funkcję, która znajduje największą i najmniejszą liczbę w liście.**\n",
    "\n",
    "Przykład: `min_max([3, 1, 4, 2])` powinno zwrócić `(1, 4)`.\n",
    "\n",
    "---"
   ]
  },
  {
   "cell_type": "code",
   "execution_count": null,
   "metadata": {},
   "outputs": [],
   "source": []
  },
  {
   "cell_type": "markdown",
   "metadata": {},
   "source": [
    "\n",
    "**17. Napisz funkcję, która sprawdza poprawność adresu email.**\n",
    "\n",
    "Przykład: `is_valid_email(\"test@example.com\")` powinno zwrócić `True`.\n",
    "\n",
    "*Hint:* Użyj wyrażeń regularnych, aby sprawdzić, czy email pasuje do wzorca (pattern = r'^[\\w\\.-]+@[\\w\\.-]+\\.\\w+$')\n",
    "\n",
    "https://docs.python.org/3/library/re.html#re.match\n",
    "---"
   ]
  },
  {
   "cell_type": "code",
   "execution_count": null,
   "metadata": {},
   "outputs": [],
   "source": []
  },
  {
   "cell_type": "markdown",
   "metadata": {},
   "source": [
    "\n",
    "\n",
    "\n",
    "\n",
    "**18. Napisz funkcję, która sprawdza, czy podany rok jest rokiem przestępnym.**\n",
    "\n",
    "Przykład: `is_leap_year(2020)` powinno zwrócić `True`.\n",
    "\n",
    "---"
   ]
  },
  {
   "cell_type": "code",
   "execution_count": null,
   "metadata": {},
   "outputs": [],
   "source": []
  },
  {
   "cell_type": "markdown",
   "metadata": {},
   "source": [
    "\n",
    "\n",
    "**19. Napisz funkcję, która symuluje rzut kostką do gry.**\n",
    "\n",
    "*Hint:* Użyj modułu `random`.\n",
    "\n",
    "https://www.w3schools.com/python/ref_random_randint.asp\n",
    "\n",
    "---\n"
   ]
  },
  {
   "cell_type": "code",
   "execution_count": null,
   "metadata": {},
   "outputs": [],
   "source": []
  },
  {
   "cell_type": "markdown",
   "metadata": {},
   "source": [
    "**20. Napisz funkcję, która otwiera plik i liczy liczbę linii w pliku. Zabezpiecz się przed błędami, które mogą wystąpić podczas otwierania pliku.** (stwórz jakiś plik tekstowy)\n"
   ]
  },
  {
   "cell_type": "code",
   "execution_count": null,
   "metadata": {},
   "outputs": [],
   "source": []
  },
  {
   "cell_type": "markdown",
   "metadata": {},
   "source": [
    "---\n",
    "\n",
    "**21. Napisz funkcję, która łączy dwa słowniki w jeden.**\n",
    "\n",
    "Przykład: `merge_dicts({'a': 1}, {'b': 2})` powinno zwrócić `{'a': 1, 'b': 2}`.\n",
    "\n",
    "*Hint:* Skopiuj pierwszy słownik i zaktualizuj go o zawartość drugiego. (dictionary.update())\n",
    "\n",
    "\n",
    "---"
   ]
  },
  {
   "cell_type": "code",
   "execution_count": null,
   "metadata": {},
   "outputs": [],
   "source": []
  },
  {
   "cell_type": "markdown",
   "metadata": {},
   "source": [
    "\n",
    "\n",
    "\n",
    "**22. Napisz funkcję, która konwertuje listę łańcuchów znaków na wielkie litery.**\n",
    "\n",
    "Przykład: `to_uppercase(['python', 'data'])` powinno zwrócić `['PYTHON', 'DATA']`.\n",
    "\n",
    "*Hint:* Użyj metody `upper()` w pętli\n",
    "\n",
    "\n",
    "---"
   ]
  },
  {
   "cell_type": "code",
   "execution_count": null,
   "metadata": {},
   "outputs": [],
   "source": []
  },
  {
   "cell_type": "markdown",
   "metadata": {},
   "source": [
    "\n",
    "\n",
    "\n",
    "\n",
    "**23. Napisz funkcję, która zastępuje wszystkie wystąpienia podłańcucha w łańcuchu znaków innym podłańcuchem.**\n",
    "\n",
    "Przykład: `replace_substring(\"hello world\", \"world\", \"Python\")` powinno zwrócić `\"hello Python\"`.\n",
    "\n",
    "*Hint:* Użyj metody `replace()` dla łańcuchów znaków.\n",
    "\n",
    "\n",
    "---"
   ]
  },
  {
   "cell_type": "code",
   "execution_count": null,
   "metadata": {},
   "outputs": [],
   "source": []
  },
  {
   "cell_type": "markdown",
   "metadata": {},
   "source": [
    "\n",
    "\n",
    "**24. Napisz funkcję, która oblicza pole koła o podanym promieniu.**\n",
    "\n",
    "Przykład: `circle_area(5)` powinno zwrócić `78.54`.\n",
    "\n",
    "*Hint:* Użyj modułu `math` do pobrania wartości pi.\n"
   ]
  },
  {
   "cell_type": "code",
   "execution_count": null,
   "metadata": {},
   "outputs": [],
   "source": []
  },
  {
   "cell_type": "markdown",
   "metadata": {},
   "source": [
    "\n",
    "---\n",
    "\n",
    "**25. Napisz funkcję, która zwraca wspólne elementy dwóch list.**\n",
    "\n",
    "Przykład: `common_elements([1, 2, 3], [2, 3, 4])` powinno zwrócić `[2, 3]`.\n",
    "\n",
    "---"
   ]
  },
  {
   "cell_type": "code",
   "execution_count": null,
   "metadata": {},
   "outputs": [],
   "source": []
  },
  {
   "cell_type": "markdown",
   "metadata": {},
   "source": [
    "\n",
    "**26. Napisz funkcję, która sprawdza, czy podany łańcuch znaków zawiera tylko cyfry.**\n",
    "\n",
    "\n",
    "*Hint:* Użyj metody `isdigit()`.\n",
    "\n",
    "\n",
    "Przykład: `is_digits_only(\"12345\")` powinno zwrócić `True`.\n",
    "\n",
    "---"
   ]
  },
  {
   "cell_type": "code",
   "execution_count": null,
   "metadata": {},
   "outputs": [],
   "source": []
  },
  {
   "cell_type": "markdown",
   "metadata": {},
   "source": [
    "---\n",
    "\n",
    "**27. Napisz funkcję, która oblicza sumę wszystkich wartości w słowniku.**\n",
    "\n",
    "*Hint:* Użyj metody `values()` oraz funkcji `sum()`.\n",
    "\n",
    "Przykład:\n",
    "\n",
    "```python\n",
    "d = {'a': 1, 'b': 2, 'c': 3}\n",
    "print(sum_dict_values(d))  # Powinno wyświetlić: 6\n",
    "```\n",
    "\n",
    "---\n"
   ]
  },
  {
   "cell_type": "code",
   "execution_count": null,
   "metadata": {},
   "outputs": [],
   "source": []
  },
  {
   "cell_type": "markdown",
   "metadata": {},
   "source": [
    "**28. Napisz dekorator, który loguje czas wykonania funkcji.**\n",
    "\n",
    "*Hint:* W dekoratorze zmierz czas przed i po wywołaniu funkcji.\n",
    "\n",
    "---"
   ]
  },
  {
   "cell_type": "code",
   "execution_count": null,
   "metadata": {},
   "outputs": [],
   "source": []
  },
  {
   "cell_type": "markdown",
   "metadata": {},
   "source": [
    "**29. Napisz funkcję, która liczy, ile razy została wywołana przy użyciu dekoratora.**\n",
    "\n",
    "*Hint:* W dekoratorze dodaj atrybut do funkcji, który zwiększa się przy każdym wywołaniu.\n",
    "\n",
    "Przykład:\n",
    "\n",
    "```python\n",
    "@count_calls\n",
    "def example_function():\n",
    "    pass\n",
    "\n",
    "example_function()\n",
    "example_function()\n",
    "print(example_function.call_count)  # Powinno wyświetlić: 2\n",
    "```\n",
    "Trudniejsze, trzeba poszperac w internetach ;) \n",
    "\n",
    "\n",
    "---"
   ]
  },
  {
   "cell_type": "code",
   "execution_count": null,
   "metadata": {},
   "outputs": [],
   "source": []
  },
  {
   "cell_type": "markdown",
   "metadata": {},
   "source": [
    "\n",
    "\n",
    "\n",
    "\n",
    "\n",
    "\n",
    "\n",
    "**30. Napisz funkcję, która znajduje wszystkie liczby pierwsze w podanym zakresie.**\n",
    "\n",
    "Przykład: `find_primes(10, 20)` powinno zwrócić `[11, 13, 17, 19]`.\n",
    "\n",
    "---\n"
   ]
  },
  {
   "cell_type": "markdown",
   "metadata": {},
   "source": []
  }
 ],
 "metadata": {
  "kernelspec": {
   "display_name": "Python 3",
   "language": "python",
   "name": "python3"
  },
  "language_info": {
   "codemirror_mode": {
    "name": "ipython",
    "version": 3
   },
   "file_extension": ".py",
   "mimetype": "text/x-python",
   "name": "python",
   "nbconvert_exporter": "python",
   "pygments_lexer": "ipython3",
   "version": "3.13.3"
  }
 },
 "nbformat": 4,
 "nbformat_minor": 2
}
