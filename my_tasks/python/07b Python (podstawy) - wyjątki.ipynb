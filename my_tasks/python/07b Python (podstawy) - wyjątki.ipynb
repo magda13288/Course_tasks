{
 "cells": [
  {
   "cell_type": "markdown",
   "metadata": {
    "slideshow": {
     "slide_type": "slide"
    }
   },
   "source": [
    "# Python (podstawy) - wyjątki\n",
    "_Mikołaj Leszczuk_\n",
    "![](https://inventyourshit.com/wp-content/uploads/2020/11/4mfiyy.jpg)"
   ]
  },
  {
   "cell_type": "markdown",
   "metadata": {
    "slideshow": {
     "slide_type": "slide"
    }
   },
   "source": [
    "## Ćwiczenia"
   ]
  },
  {
   "cell_type": "markdown",
   "metadata": {
    "slideshow": {
     "slide_type": "slide"
    }
   },
   "source": [
    "### Błędy i wyjątki"
   ]
  },
  {
   "cell_type": "markdown",
   "metadata": {
    "slideshow": {
     "slide_type": "slide"
    }
   },
   "source": [
    "#### Ćwiczenie"
   ]
  },
  {
   "cell_type": "markdown",
   "metadata": {
    "slideshow": {
     "slide_type": "fragment"
    }
   },
   "source": [
    "Podczas pisania funkcji najlepiej jest przeprowadzić walidację liczb.\n",
    "\n",
    "Jeśli użytkownicy wprowadzą tekst, pojawi się błąd podczas próby konwersji na `int`.\n",
    "\n",
    "Napisz program, który poprosi użytkownika o podanie dwóch liczb.\n",
    "\n",
    "Dodaj i wydrukuj wynik.\n",
    "\n",
    "Jeśli nie zostanie wprowadzona liczba, zwróć komunikat o błędzie i poproś ponownie."
   ]
  },
  {
   "cell_type": "code",
   "execution_count": 67,
   "metadata": {},
   "outputs": [
    {
     "name": "stdout",
     "output_type": "stream",
     "text": [
      "Błędne dane! Podaj liczbę. invalid literal for int() with base 10: ''\n"
     ]
    },
    {
     "ename": "ValueError",
     "evalue": "invalid literal for int() with base 10: ''",
     "output_type": "error",
     "traceback": [
      "\u001b[31m---------------------------------------------------------------------------\u001b[39m",
      "\u001b[31mValueError\u001b[39m                                Traceback (most recent call last)",
      "\u001b[36mCell\u001b[39m\u001b[36m \u001b[39m\u001b[32mIn[67]\u001b[39m\u001b[32m, line 3\u001b[39m, in \u001b[36mfunc\u001b[39m\u001b[34m(a, b)\u001b[39m\n\u001b[32m      2\u001b[39m \u001b[38;5;28;01mtry\u001b[39;00m:\n\u001b[32m----> \u001b[39m\u001b[32m3\u001b[39m     result = \u001b[38;5;28;43mint\u001b[39;49m\u001b[43m(\u001b[49m\u001b[43ma\u001b[49m\u001b[43m)\u001b[49m+\u001b[38;5;28mint\u001b[39m(b)\n\u001b[32m      4\u001b[39m \u001b[38;5;28;01mexcept\u001b[39;00m \u001b[38;5;167;01mValueError\u001b[39;00m \u001b[38;5;28;01mas\u001b[39;00m ex:\n",
      "\u001b[31mValueError\u001b[39m: invalid literal for int() with base 10: ''",
      "\nDuring handling of the above exception, another exception occurred:\n",
      "\u001b[31mValueError\u001b[39m                                Traceback (most recent call last)",
      "\u001b[36mCell\u001b[39m\u001b[36m \u001b[39m\u001b[32mIn[67]\u001b[39m\u001b[32m, line 15\u001b[39m\n\u001b[32m     12\u001b[39m num_1 = \u001b[38;5;28minput\u001b[39m(\u001b[33m'\u001b[39m\u001b[33mPodaj pierwszą liczbę:\u001b[39m\u001b[33m'\u001b[39m)\n\u001b[32m     13\u001b[39m num_2 = \u001b[38;5;28minput\u001b[39m(\u001b[33m'\u001b[39m\u001b[33mPodaj drugą liczbę: \u001b[39m\u001b[33m'\u001b[39m)\n\u001b[32m---> \u001b[39m\u001b[32m15\u001b[39m \u001b[38;5;28mprint\u001b[39m(\u001b[33mf\u001b[39m\u001b[33m'\u001b[39m\u001b[33mSuma: \u001b[39m\u001b[38;5;132;01m{\u001b[39;00m\u001b[43mfunc\u001b[49m\u001b[43m(\u001b[49m\u001b[43mnum_1\u001b[49m\u001b[43m,\u001b[49m\u001b[43mnum_2\u001b[49m\u001b[43m)\u001b[49m\u001b[38;5;132;01m}\u001b[39;00m\u001b[33m'\u001b[39m)\n\u001b[32m     17\u001b[39m \u001b[38;5;66;03m# print(f'Suma: {func(num_1,num_2)}')\u001b[39;00m\n\u001b[32m     18\u001b[39m \n\u001b[32m     19\u001b[39m \u001b[38;5;66;03m# num_1 = input(\"Podaj pierwszą liczbę\")\u001b[39;00m\n\u001b[32m   (...)\u001b[39m\u001b[32m     25\u001b[39m \u001b[38;5;66;03m# else:\u001b[39;00m\n\u001b[32m     26\u001b[39m \u001b[38;5;66;03m#     print('Jest OK. Suma wartości to ', my_sum)\u001b[39;00m\n",
      "\u001b[36mCell\u001b[39m\u001b[36m \u001b[39m\u001b[32mIn[67]\u001b[39m\u001b[32m, line 8\u001b[39m, in \u001b[36mfunc\u001b[39m\u001b[34m(a, b)\u001b[39m\n\u001b[32m      6\u001b[39m     a = \u001b[38;5;28minput\u001b[39m(\u001b[33m'\u001b[39m\u001b[33mPodaj pierwszą liczbę:\u001b[39m\u001b[33m'\u001b[39m)\n\u001b[32m      7\u001b[39m     b = \u001b[38;5;28minput\u001b[39m(\u001b[33m'\u001b[39m\u001b[33mPodaj drugą liczbę\u001b[39m\u001b[33m'\u001b[39m)\n\u001b[32m----> \u001b[39m\u001b[32m8\u001b[39m     \u001b[38;5;28;01mreturn\u001b[39;00m \u001b[38;5;28;43mint\u001b[39;49m\u001b[43m(\u001b[49m\u001b[43ma\u001b[49m\u001b[43m)\u001b[49m+\u001b[38;5;28mint\u001b[39m(b)\n\u001b[32m      9\u001b[39m \u001b[38;5;28;01melse\u001b[39;00m:\n\u001b[32m     10\u001b[39m    \u001b[38;5;28;01mreturn\u001b[39;00m result\n",
      "\u001b[31mValueError\u001b[39m: invalid literal for int() with base 10: ''"
     ]
    }
   ],
   "source": [
    "def func(a:int, b:int)->int:\n",
    "    try:\n",
    "        result = int(a)+int(b)\n",
    "    except ValueError as ex:\n",
    "        print(f'Błędne dane! Podaj liczbę.', ex)\n",
    "        a = input('Podaj pierwszą liczbę:')\n",
    "        b = input('Podaj drugą liczbę')\n",
    "        return int(a)+int(b)\n",
    "    else:\n",
    "       return result\n",
    "\n",
    "num_1 = input('Podaj pierwszą liczbę:')\n",
    "num_2 = input('Podaj drugą liczbę: ')\n",
    "\n",
    "print(f'Suma: {func(num_1,num_2)}')\n",
    "\n",
    "# print(f'Suma: {func(num_1,num_2)}')\n",
    "\n",
    "# num_1 = input(\"Podaj pierwszą liczbę\")\n",
    "# num_2 = input(\"Podaj drugą liczbę\")\n",
    "# try:\n",
    "#     my_sum = int(num_1) + int(num_2)\n",
    "# except:\n",
    "#     print('Przynajmniej jedna z podanych wartości nie jest liczbą')\n",
    "# else:\n",
    "#     print('Jest OK. Suma wartości to ', my_sum)"
   ]
  },
  {
   "cell_type": "markdown",
   "metadata": {
    "slideshow": {
     "slide_type": "slide"
    }
   },
   "source": [
    "### Wyjątek `ZeroDivisionError` z instrukcjami `try except`"
   ]
  },
  {
   "cell_type": "markdown",
   "metadata": {
    "slideshow": {
     "slide_type": "slide"
    }
   },
   "source": [
    "#### Ćwiczenie"
   ]
  },
  {
   "cell_type": "markdown",
   "metadata": {
    "slideshow": {
     "slide_type": "fragment"
    }
   },
   "source": [
    "Podziel przez siebie dwie liczby, a wynik przypisz do `result`.\n",
    "\n",
    "Umieść:\n",
    "\n",
    "```python\n",
    "result = \"Nie możesz podzielić przez 0\"\n",
    "```\n",
    "\n",
    "we właściwym miejscu, aby program uniknął `ZeroDivisionError`\n",
    "\n",
    "* Podpowiedź 1: Po prostu umieść przypisanie wartości dla wyniku po linii `Except`\n",
    "* Podpowiedź 2: Zwróć uwagę na wcięcia"
   ]
  },
  {
   "cell_type": "code",
   "execution_count": null,
   "metadata": {},
   "outputs": [
    {
     "name": "stdout",
     "output_type": "stream",
     "text": [
      "Cannot divide by zero  division by zero\n",
      "Result: None\n"
     ]
    }
   ],
   "source": [
    "def divide_numbers(a:int, b:int)->int:\n",
    "    try:\n",
    "        return a/b\n",
    "    except ZeroDivisionError as e:\n",
    "        print('Cannot divide by zero ',e)\n",
    "    except Exception as e:\n",
    "        print('Exception: ', e)\n",
    "    else:\n",
    "        return a/b\n",
    "\n",
    "\n",
    "num_1 = int(input(\"Podaj pierwszą liczbę\"))\n",
    "num_2 = int(input(\"Podaj drugą liczbę\"))\n",
    "\n",
    "print(f'Result: {divide_numbers(num_1,num_2)}')\n"
   ]
  },
  {
   "cell_type": "markdown",
   "metadata": {
    "slideshow": {
     "slide_type": "slide"
    }
   },
   "source": [
    "### Polecenie `except`, który nic nie robi"
   ]
  },
  {
   "cell_type": "markdown",
   "metadata": {
    "slideshow": {
     "slide_type": "slide"
    }
   },
   "source": [
    "#### Ćwiczenie"
   ]
  },
  {
   "cell_type": "markdown",
   "metadata": {
    "slideshow": {
     "slide_type": "fragment"
    }
   },
   "source": [
    "Napisz dowolny kod.\n",
    "\n",
    "Wychwyć w nim wyjątek, ale nic nie rób."
   ]
  },
  {
   "cell_type": "code",
   "execution_count": null,
   "metadata": {},
   "outputs": [],
   "source": [
    "x=0\n",
    "try:\n",
    "    print(100/x)\n",
    "except Exception as e:\n",
    "    print(e)\n",
    "finally:\n",
    "    print(\"i tak nic nie rób\")"
   ]
  },
  {
   "cell_type": "markdown",
   "metadata": {
    "slideshow": {
     "slide_type": "slide"
    }
   },
   "source": [
    "### Wyjątek `Exception` z instrukcjami `try except`"
   ]
  },
  {
   "cell_type": "markdown",
   "metadata": {
    "slideshow": {
     "slide_type": "slide"
    }
   },
   "source": [
    "#### Ćwiczenie"
   ]
  },
  {
   "cell_type": "markdown",
   "metadata": {
    "slideshow": {
     "slide_type": "fragment"
    }
   },
   "source": [
    "Spróbuj dodać `int` do `str`, a wynik przypisać do `msg`.\n",
    "\n",
    "Umieść:\n",
    "\n",
    "```python\n",
    "msg = \"Nie możesz dodać int do str\"\n",
    "```\n",
    "\n",
    "aby program uniknął błędu `BaseException`.\n",
    "\n",
    "Możesz użyć wyjątku `Exception`, chociaż zwykle powinno się ostrożnie używać tak potężnych instrukcji wyjątków."
   ]
  },
  {
   "cell_type": "code",
   "execution_count": null,
   "metadata": {},
   "outputs": [
    {
     "name": "stdout",
     "output_type": "stream",
     "text": [
      "Nie możesz dodać int do str\n"
     ]
    }
   ],
   "source": [
    "try:\n",
    "    msg = 3+\"cokolwiek\"\n",
    "except BaseException:\n",
    "    msg = \"Nie możesz dodać int do str\"\n",
    "finally:\n",
    "    print(msg)"
   ]
  },
  {
   "cell_type": "markdown",
   "metadata": {
    "slideshow": {
     "slide_type": "slide"
    }
   },
   "source": [
    "### Wyjątek `IndexError` w instrukcjach `try except`"
   ]
  },
  {
   "cell_type": "markdown",
   "metadata": {
    "slideshow": {
     "slide_type": "slide"
    }
   },
   "source": [
    "#### Ćwiczenie"
   ]
  },
  {
   "cell_type": "markdown",
   "metadata": {
    "slideshow": {
     "slide_type": "fragment"
    }
   },
   "source": [
    "Stwórz trójelementową listę.\n",
    "\n",
    "Spróbuj do `msg` przypisać piąty element.\n",
    "\n",
    "Umieść:\n",
    "\n",
    "```python\n",
    "msg = \"Jesteś poza zakresem listy\"\n",
    "```\n",
    "\n",
    "aby uniknąć wyjątku `IndexError`."
   ]
  },
  {
   "cell_type": "code",
   "execution_count": null,
   "metadata": {},
   "outputs": [
    {
     "name": "stdout",
     "output_type": "stream",
     "text": [
      "Lista ma zbyt mało elementów\n"
     ]
    }
   ],
   "source": [
    "elements = [3,2,1]\n",
    "\n",
    "try:\n",
    "    msg = elements[4]\n",
    "except IndexError:\n",
    "    print('Lista ma zbyt mało elementów')"
   ]
  },
  {
   "cell_type": "markdown",
   "metadata": {
    "slideshow": {
     "slide_type": "slide"
    }
   },
   "source": [
    "### Słowo kluczowe `else`"
   ]
  },
  {
   "cell_type": "markdown",
   "metadata": {
    "slideshow": {
     "slide_type": "slide"
    }
   },
   "source": [
    "#### Ćwiczenie"
   ]
  },
  {
   "cell_type": "markdown",
   "metadata": {
    "slideshow": {
     "slide_type": "fragment"
    }
   },
   "source": [
    "Spróbuj otworzyć do czytania plik (podpowiedź: `f = open(arg, \"r\")`).\n",
    "\n",
    "W razie braku możliwości otwarcia pliku, obsłuż wyjątek.\n",
    "\n",
    "W przeciwnym przypadku wypisz:\n",
    "\n",
    "* Nazwę pliku;\n",
    "* Liczbę wierszy (podpowiedź: `len(f.readlines())`).\n",
    "\n",
    "Na koniec zamknij ten plik (podpowiedź: `f.close()`)."
   ]
  },
  {
   "cell_type": "code",
   "execution_count": null,
   "metadata": {},
   "outputs": [
    {
     "name": "stdout",
     "output_type": "stream",
     "text": [
      "Nie mozna otowrzyć pliku\n"
     ]
    }
   ],
   "source": [
    "try:\n",
    "    f=open(\"plik.txt\", \"r\")\n",
    "except:\n",
    "    print(\"Nie mozna otowrzyć pliku\")\n",
    "else:\n",
    "    print(len(f.readlines()))\n",
    "    f.close()"
   ]
  },
  {
   "cell_type": "markdown",
   "metadata": {
    "slideshow": {
     "slide_type": "slide"
    }
   },
   "source": [
    "### Słowo kluczowe `finally`"
   ]
  },
  {
   "cell_type": "markdown",
   "metadata": {
    "slideshow": {
     "slide_type": "slide"
    }
   },
   "source": [
    "#### Ćwiczenie"
   ]
  },
  {
   "cell_type": "markdown",
   "metadata": {
    "slideshow": {
     "slide_type": "fragment"
    }
   },
   "source": [
    "Użyj `finally` do zamykania obiektów i czyszczenia zasobów.\n",
    "\n",
    "Spróbuj otworzyć i zapisać (podpowiedź: `write`) w pliku, którego nie można zapisać.\n",
    "\n",
    "Zapewnij, aby program mógł kontynuować bez pozostawiania otwartego obiektu pliku."
   ]
  },
  {
   "cell_type": "code",
   "execution_count": null,
   "metadata": {},
   "outputs": [
    {
     "name": "stdout",
     "output_type": "stream",
     "text": [
      "Wystąpił błąd: [Errno 2] No such file or directory: 'plik.txt'\n"
     ]
    }
   ],
   "source": [
    "plik = 'plik.txt'\n",
    "\n",
    "try:\n",
    "    f = open(plik, \"r\")\n",
    "    try:\n",
    "        f.write(\"Test\")\n",
    "\n",
    "    except Exception as e:\n",
    "        print(e)\n",
    "\n",
    "    finally:\n",
    "        print(f\"Liczba linii w pliku: {len(f.readlines())}\")\n",
    "        f.close()\n",
    "    \n",
    "\n",
    "except BaseException as err:\n",
    "    print(f'Wystąpił błąd: {err}')\n",
    "\n",
    "else:\n",
    "    print(f\"Nazwa pliku: {plik}\")"
   ]
  },
  {
   "cell_type": "markdown",
   "metadata": {
    "slideshow": {
     "slide_type": "slide"
    }
   },
   "source": [
    "#### Ćwiczenie"
   ]
  },
  {
   "cell_type": "markdown",
   "metadata": {
    "slideshow": {
     "slide_type": "fragment"
    }
   },
   "source": [
    "Napisz funkcję dzielącą jej argument pierwszy przez drugi.\n",
    "\n",
    "Spróbuj wykonać działanie i zwrócić wynik.\n",
    "\n",
    "W przypadku błędu dzielenia przez zero, wypisz komunikat o błędzie.\n",
    "\n",
    "Wypisz komunikat, który zawsze się wypisze.\n",
    "\n",
    "Wywołaj funkcję z różnymi argumentami."
   ]
  },
  {
   "cell_type": "code",
   "execution_count": null,
   "metadata": {},
   "outputs": [
    {
     "name": "stdout",
     "output_type": "stream",
     "text": [
      "Everything ok\n",
      "Divide result: 0.5\n"
     ]
    }
   ],
   "source": [
    "def divide_func(a: float, b: float) -> float:\n",
    "    while True:\n",
    "        try:\n",
    "            result = a / b\n",
    "            return result\n",
    "        except ZeroDivisionError as e:\n",
    "            print(f\"Cannot divide by zero! {e}\")\n",
    "            a, b = enter_values()\n",
    "        finally:\n",
    "            print(\"Everything ok\")\n",
    "\n",
    "def enter_values() -> list[float]:\n",
    "    while True:\n",
    "        try:\n",
    "            val_1 = int(input(\"Enter first number: \"))\n",
    "            val_2 = int(input(\"Enter second number: \"))\n",
    "        except (ValueError, TypeError) as e:\n",
    "            print(f\"Please enter valid numbers int or float: {e}\")\n",
    "        else:\n",
    "            return val_1, val_2\n",
    "\n",
    "\n",
    "number_list = enter_values()\n",
    "divide_result = divide_func(number_list[0], number_list[1])\n",
    "print(f\"Divide result: {divide_result}\")\n"
   ]
  },
  {
   "cell_type": "markdown",
   "metadata": {
    "slideshow": {
     "slide_type": "skip"
    }
   },
   "source": [
    "#### Ćwiczenie"
   ]
  },
  {
   "cell_type": "markdown",
   "metadata": {
    "slideshow": {
     "slide_type": "skip"
    }
   },
   "source": [
    "Użyj wszystkie 4 elementy struktury obsługi wyjątków przy otwieraniu plików.\n",
    "\n",
    "Spróbuj otworzyć do czytania plik.\n",
    "\n",
    "W razie braku możliwości otwarcia pliku, obsłuż wyjątek.\n",
    "\n",
    "W przeciwnym przypadku wypisz:\n",
    "\n",
    "* Nazwę pliku;\n",
    "* Liczbę wierszy.\n",
    "\n",
    "Na koniec zamknij ten plik.\n",
    "\n",
    "Jeżeli dany plik nie jest zamknięty (podpowiedź: `f.closed`), to go zamknij."
   ]
  },
  {
   "cell_type": "code",
   "execution_count": null,
   "metadata": {
    "slideshow": {
     "slide_type": "skip"
    }
   },
   "outputs": [
    {
     "name": "stdout",
     "output_type": "stream",
     "text": [
      "File name: file.txt\n",
      "File has 6 lines\n"
     ]
    }
   ],
   "source": [
    "new_file=\"file.txt\"\n",
    "\n",
    "try:\n",
    "    f= open(new_file,\"r\")\n",
    "except OSError:\n",
    "    print('Cannot open ',new_file)\n",
    "else:\n",
    "    print(f'File name: {f.name}')\n",
    "    print(f'File has {len(f.readlines())} lines')\n",
    "    f.close()\n",
    "\n",
    "if f.closed == False:\n",
    "        f.close()"
   ]
  },
  {
   "cell_type": "markdown",
   "metadata": {},
   "source": [
    "##  Obsługa `KeyError` w słowniku\n",
    "\n",
    "**Opis**  \n",
    "- Stwórz słownik (np. `user_roles`) z kilkoma parami klucz-wartość.  \n",
    "- Napisz scenariusz, w którym próbujesz odczytać wartość spod klucza, który może nie istnieć.  \n",
    "- Jeśli klucza nie ma, powinien wystąpić `KeyError`.  \n",
    "- Obsłuż ten wyjątek, wypisując komunikat, np. „Nie znaleziono klucza w słowniku”.\n",
    "\n",
    "**Wskazówka**  \n",
    "- Zastanów się, czy w przypadku braku klucza chcesz zakończyć działanie, czy użyć jakiejś wartości domyślnej."
   ]
  },
  {
   "cell_type": "code",
   "execution_count": 15,
   "metadata": {},
   "outputs": [
    {
     "name": "stdout",
     "output_type": "stream",
     "text": [
      "User Role: Admin\n"
     ]
    }
   ],
   "source": [
    "user_roles = {1:\"Admin\", 2:\"Database admin\", 3:\"Private User\", 4:\"Customer\"}\n",
    "\n",
    "def enter_values() -> int:\n",
    "    while True:\n",
    "        try:\n",
    "            val_1 = int(input('Enter a value from 1 to 4 to get the user role: '))\n",
    "        except (ValueError, TypeError) as e:\n",
    "            print(f'Please enter valid numbers: {e}')\n",
    "        else:\n",
    "            return val_1\n",
    "\n",
    "def check_role(a:int)->dict:\n",
    "    try:\n",
    "       result = enter_values()\n",
    "    except KeyError as e:\n",
    "        print(f'Key not found in dictionary: {e}')\n",
    "    else:\n",
    "        return user_roles[result]\n",
    "\n",
    "print(f'User Role: {check_role(enter_values())}')      "
   ]
  },
  {
   "cell_type": "markdown",
   "metadata": {},
   "source": [
    "## Zadanie: Kalkulator z obsługą błędów typów danych\n",
    "\n",
    "Napisz funkcję `safe_divide(a, b)`, która wykonuje dzielenie dwóch liczb `a` i `b`. Funkcja powinna:\n",
    "\n",
    "1. Sprawdzić, czy oba argumenty są typu `int` lub `float`. Jeśli któryś z argumentów ma niepoprawny typ, wyrzuć wyjątek `TypeError` z komunikatem: \n",
    "   - `\"Both arguments must be int or float.\"`\n",
    "\n",
    "2. Obsłużyć wyjątek `TypeError` w taki sposób, aby program nie przerywał działania, a zamiast tego zwrócił komunikat:\n",
    "   - `\"Error: Both arguments must be int or float.\"`\n",
    "\n",
    "3. Dodatkowo, obsłużyć przypadek, gdy dzielenie przez zero nie jest możliwe, zwracając komunikat:\n",
    "   - `\"Error: Division by zero is not allowed.\"`\n",
    "\n",
    "4. Jeśli dzielenie powiedzie się, funkcja powinna zwrócić wynik operacji.\n",
    "\n",
    "### Przykład działania funkcji:\n",
    "```python\n",
    "print(safe_divide(10, 2))    # Output: 5.0\n",
    "print(safe_divide(10, 'a'))  # Output: \"Error: Both arguments must be int or float.\"\n",
    "print(safe_divide(10, 0))    # Output: \"Error: Division by zero is not allowed.\"\n",
    "print(safe_divide('x', 5))   # Output: \"Error: Both arguments must be int or float.\"\n"
   ]
  },
  {
   "cell_type": "code",
   "execution_count": 16,
   "metadata": {},
   "outputs": [
    {
     "name": "stdout",
     "output_type": "stream",
     "text": [
      "Divide result: 4.0\n"
     ]
    }
   ],
   "source": [
    "def divide_func(a: float, b: float) -> float:\n",
    "    while True:\n",
    "        try:\n",
    "            result = a / b\n",
    "        except ZeroDivisionError as e:\n",
    "            print(f\"Division by zero isn\\'t allowed: {e}\")\n",
    "            a, b = enter_values()\n",
    "        else:\n",
    "             return result\n",
    "\n",
    "def enter_values() -> list[float]:\n",
    "    while True:\n",
    "        try:\n",
    "            val_1 = float(input(\"Enter first number: \"))\n",
    "            val_2 = float(input(\"Enter second number: \"))\n",
    "        except (ValueError, TypeError) as e:\n",
    "            print(f\"Error both value must be int or float: {e}\")\n",
    "        else:\n",
    "            return val_1, val_2\n",
    "\n",
    "\n",
    "number_list = enter_values()\n",
    "divide_result = divide_func(number_list[0], number_list[1])\n",
    "print(f\"Divide result: {divide_result}\")"
   ]
  },
  {
   "cell_type": "markdown",
   "metadata": {},
   "source": [
    "## `ValueError` przy konwersji na liczbę zmiennoprzecinkową\n",
    "\n",
    "**Opis**  \n",
    "- Stwórz funkcję `convert_to_float(text)`, która próbuje przekształcić łańcuch znaków w liczbę zmiennoprzecinkową.  \n",
    "- Jeśli konwersja się nie uda (`ValueError`), przechwyć wyjątek i wypisz komunikat, np. „Nie można przekształcić w wartość typu float”.  \n",
    "- Przetestuj działanie z poprawnym i niepoprawnym łańcuchem (np. `\"3.14\"` oraz `\"abc\"`).\n",
    "\n",
    "**Wskazówka**  \n",
    "- Nie musisz pytać użytkownika w pętli, wystarczy jeden wywołany przykład ze złym tekstem.\n"
   ]
  },
  {
   "cell_type": "code",
   "execution_count": 11,
   "metadata": {},
   "outputs": [
    {
     "name": "stdout",
     "output_type": "stream",
     "text": [
      "3.14\n",
      "Nie można przekształcić w wartość typu float  could not convert string to float: 'abc'\n",
      "None\n"
     ]
    }
   ],
   "source": [
    "def convert_tofloat(text:str)->float:\n",
    "    try:\n",
    "        return float(text)\n",
    "    except ValueError as e:\n",
    "        print('Nie można przekształcić w wartość typu float ',e)\n",
    "\n",
    "print(convert_tofloat(3.14))\n",
    "print(convert_tofloat(\"abc\"))"
   ]
  },
  {
   "cell_type": "markdown",
   "metadata": {},
   "source": [
    "## `AttributeError` przy wywołaniu nieistniejącej metody\n",
    "\n",
    "**Opis**  \n",
    "- Stwórz obiekt listy, np. `lst = [1, 2, 3]`.  \n",
    "- Spróbuj wywołać na nim metodę, która nie istnieje (np. `lst.non_existent_method()`).  \n",
    "- Obsłuż `AttributeError`, wypisując komunikat, np. „Nie znaleziono metody w obiekcie”.\n",
    "\n",
    "**Wskazówka**  \n",
    "- Metody listy w Pythonie to m.in. `append`, `extend`, `pop`. Każda inna nazwa może wywołać błąd."
   ]
  },
  {
   "cell_type": "code",
   "execution_count": 12,
   "metadata": {},
   "outputs": [
    {
     "name": "stdout",
     "output_type": "stream",
     "text": [
      "Nie znaleziono metody w obiekcie  'list' object has no attribute 'non_exist_method'\n"
     ]
    }
   ],
   "source": [
    "lst = [1,2,3]\n",
    "\n",
    "try:\n",
    "    lst.non_exist_method()\n",
    "except AttributeError as e:\n",
    "    print('Nie znaleziono metody w obiekcie ',e)"
   ]
  },
  {
   "cell_type": "markdown",
   "metadata": {},
   "source": [
    "\n",
    "## Zastosowanie `try-except-else` (bez plików)\n",
    "\n",
    "**Opis**  \n",
    "- Napisz kod, który w `try` próbuje zamienić łańcuch na liczbę całkowitą i dzieli ją przez jakąś inną liczbę.  \n",
    "- Jeśli wszystko się uda, w bloku `else` wypisz komunikat „Operacja zakończona pomyślnie, wynik to …”.  \n",
    "- Jeśli wystąpi błąd (np. `ValueError` przy konwersji lub inny), obsłuż go w `except`.\n",
    "\n",
    "**Wskazówka**  \n",
    "- Blok `else` w obsłudze wyjątków wykonuje się tylko wtedy, gdy nie było błędu w części `try`."
   ]
  },
  {
   "cell_type": "code",
   "execution_count": 17,
   "metadata": {},
   "outputs": [
    {
     "name": "stdout",
     "output_type": "stream",
     "text": [
      "The operation was completed successfully, the result is 5.0\n"
     ]
    }
   ],
   "source": [
    "def divide_func(a: float, b: float) -> float:\n",
    "    while True:\n",
    "        try:\n",
    "            result = a / b\n",
    "        except ZeroDivisionError as e:\n",
    "            print(f\"Division by zero isn\\'t allowed: {e}\")\n",
    "            a, b = enter_values()\n",
    "        else:\n",
    "             return print(f'The operation was completed successfully, the result is {result}')\n",
    "\n",
    "def enter_values() -> list[float]:\n",
    "    while True:\n",
    "        try:\n",
    "            val_1 = float(input(\"Enter first number: \"))\n",
    "            val_2 = float(input(\"Enter second number: \"))\n",
    "        except (ValueError, TypeError) as e:\n",
    "            print(f\"Error both value must be int or float: {e}\")\n",
    "        else:\n",
    "            return val_1, val_2\n",
    "\n",
    "\n",
    "number_list = enter_values()\n",
    "divide_func(number_list[0], number_list[1])"
   ]
  },
  {
   "cell_type": "markdown",
   "metadata": {},
   "source": [
    "## Zastosowanie `try-except-finally` (bez plików)\n",
    "\n",
    "**Opis**  \n",
    "- Napisz kod, w którym w `try` przeprowadzisz kilka operacji (np. konkatenację dwóch łańcuchów).  \n",
    "- W `except` wyświetl informację o błędzie, jeśli operacja się nie powiedzie.  \n",
    "- W `finally` wyświetl komunikat „Zawsze się wykonuje, niezależnie od błędu”.\n",
    "\n",
    "**Wskazówka**  \n",
    "- Możesz celowo spowodować `TypeError` lub inny błąd, by sprawdzić, czy część `finally` faktycznie zawsze się wywołuje.\n"
   ]
  },
  {
   "cell_type": "code",
   "execution_count": 26,
   "metadata": {},
   "outputs": [
    {
     "name": "stdout",
     "output_type": "stream",
     "text": [
      "Wynik konkatenacji: Hello World!\n",
      "Zawsze się wykonuje, niezależnie od błędu.\n",
      "\n",
      "Wystąpił błąd: can only concatenate str (not \"int\") to str\n",
      "Zawsze się wykonuje, niezależnie od błędu.\n",
      "\n"
     ]
    }
   ],
   "source": [
    "def concatenation(val_1:str, val_2:str)->str:\n",
    "    try:\n",
    "        result =  val_1 + \" \" + val_2       \n",
    "    except Exception as e:\n",
    "        print(\"Wystąpił błąd:\", e)\n",
    "    else:\n",
    "         return print(\"Wynik konkatenacji:\", result)\n",
    "    finally:\n",
    "        print(\"Zawsze się wykonuje, niezależnie od błędu.\\n\")\n",
    "\n",
    "concatenation(\"Hello\", \"World!\")\n",
    "concatenation(\"Hello\", 123)"
   ]
  },
  {
   "cell_type": "markdown",
   "metadata": {},
   "source": [
    "##  Re-raise – ponowne rzucenie wyjątku\n",
    "\n",
    "**Opis**  \n",
    "- Napisz scenariusz, w którym w `try` występuje błąd (np. `TypeError`).  \n",
    "- W `except` przechwyć ten błąd, wypisz krótki komunikat i użyj `raise` (bez argumentów) do ponownego rzucenia tego samego wyjątku.  \n",
    "- Na wyższym poziomie (zewnętrzny blok `try-except` lub główny kod) złap go ponownie i wypisz ostateczny komunikat błędu.\n",
    "\n",
    "**Wskazówka**  \n",
    "- `raise` w `except` bez typu wyjątku ponownie wywołuje aktualnie przechwycony wyjątek.\n",
    "\n"
   ]
  },
  {
   "cell_type": "code",
   "execution_count": 1,
   "metadata": {},
   "outputs": [
    {
     "name": "stdout",
     "output_type": "stream",
     "text": [
      "Error in concatenation: can only concatenate str (not \"int\") to str\n",
      "Final error message: can only concatenate str (not \"int\") to str\n"
     ]
    }
   ],
   "source": [
    "def concatenation():\n",
    "    try:\n",
    "        result = 'abc' + 123\n",
    "    except TypeError as e:\n",
    "        print(\"Error in concatenation:\", e)\n",
    "        raise \n",
    "    else:\n",
    "        return result\n",
    "\n",
    "try:\n",
    "    concatenation()\n",
    "except TypeError as final_error:\n",
    "    print(\"Final error message:\", final_error)\n",
    "    "
   ]
  },
  {
   "cell_type": "markdown",
   "metadata": {},
   "source": [
    "## Zagnieżdżone bloki `try-except`\n",
    "\n",
    "**Opis**  \n",
    "- Rozważ sytuację, w której wewnątrz `try` wykonywany jest kolejny fragment kodu z osobnym `try-except`.  \n",
    "- Pokaż, jak można najpierw złapać błąd wewnętrzny (np. przy rzutowaniu na `int`), a jeśli tam się nie uda, to błąd przechodzi do zewnętrznego `try-except`.  \n",
    "- Wypisz w osobnych komunikatach, który blok obsłużył błąd.\n",
    "\n",
    "**Wskazówka**  \n",
    "- Możesz użyć dwóch poziomów `try`. Najpierw „zewnętrznego”, a w nim wewnątrz kolejny `try"
   ]
  },
  {
   "cell_type": "code",
   "execution_count": 2,
   "metadata": {},
   "outputs": [
    {
     "name": "stdout",
     "output_type": "stream",
     "text": [
      "Błąd obsłużony wewnątrz funkcji inner_operation: invalid literal for int() with base 10: 'abc'\n",
      "Błąd przechwycony na zewnętrznym poziomie w main_operation(): invalid literal for int() with base 10: 'abc'\n"
     ]
    }
   ],
   "source": [
    "def inner_operation():\n",
    "    try:\n",
    "        value = int(\"abc\")\n",
    "        print(\"Konwersja zakończona sukcesem:\", value)\n",
    "    except ValueError as e:\n",
    "        print(\"Błąd obsłużony wewnątrz funkcji inner_operation:\", e)\n",
    "        raise\n",
    "\n",
    "def main_operation():\n",
    "    try:\n",
    "        inner_operation()\n",
    "    except ValueError as e:\n",
    "        print(\"Błąd przechwycony na zewnętrznym poziomie w main_operation():\", e)\n",
    "\n",
    "main_operation()"
   ]
  },
  {
   "cell_type": "markdown",
   "metadata": {},
   "source": [
    "## Obsługa wielu typów błędów w jednym bloku `except`\n",
    "\n",
    "**Opis**  \n",
    "- Napisz przykład, w którym ta sama operacja może wywołać przynajmniej dwa różne wyjątki (np. `ValueError` i `TypeError`).  \n",
    "- Użyj konstrukcji `except (ValueError, TypeError) as e:` do złapania obu naraz i wypisz, co się stało.  \n",
    "- Możesz dodatkowo sprawdzić typ błędu (`type(e)`) w kodzie, jeśli chcesz różnicować komunikat.\n",
    "\n",
    "**Wskazówka**  \n",
    "- Jedna operacja może rzucać różne błędy w zależności od rodzaju danych przekazanych do funkcji."
   ]
  },
  {
   "cell_type": "code",
   "execution_count": null,
   "metadata": {},
   "outputs": [],
   "source": [
    "try:\n",
    "    # Próba rzutowania tekstu na int i dodania do liczby\n",
    "    invalid_conversion = int(\"abc\")  # To spowoduje ValueError\n",
    "    result = invalid_conversion + result  # To spowoduje TypeError\n",
    "except (ValueError, TypeError) as e:\n",
    "    print(f\"Wystąpił błąd: {e}\")\n",
    "    print(f\"Typ błędu: {type(e)}\")"
   ]
  },
  {
   "cell_type": "markdown",
   "metadata": {},
   "source": [
    "## Obsługa błędu przy importowaniu modułu\n",
    "\n",
    "**Opis**  \n",
    "- Zasymuluj lub opisz próbę zaimportowania modułu, który może nie istnieć (np. `import something_unknown`).  \n",
    "- Jeśli moduł nie zostanie znaleziony, pojawi się `ModuleNotFoundError`.  \n",
    "- Obsłuż go w `except`, wypisując komunikat „Moduł jest niedostępny – sprawdź nazwę lub instalację”.\n",
    "\n",
    "**Wskazówka**  \n",
    "- Taka sytuacja może się przydarzyć np. gdy moduł jest zainstalowany w innej wersji lub w ogóle nie został zainstalowany."
   ]
  },
  {
   "cell_type": "code",
   "execution_count": 1,
   "metadata": {},
   "outputs": [
    {
     "name": "stdout",
     "output_type": "stream",
     "text": [
      "Moduł jest niedostępny – sprawdź nazwę lub instalację\n"
     ]
    }
   ],
   "source": [
    "try:\n",
    "    import something_unknown\n",
    "except ModuleNotFoundError:\n",
    "    print(\"Moduł jest niedostępny – sprawdź nazwę lub instalację\")"
   ]
  }
 ],
 "metadata": {
  "celltoolbar": "Slideshow",
  "kernelspec": {
   "display_name": "Python 3",
   "language": "python",
   "name": "python3"
  },
  "language_info": {
   "codemirror_mode": {
    "name": "ipython",
    "version": 3
   },
   "file_extension": ".py",
   "mimetype": "text/x-python",
   "name": "python",
   "nbconvert_exporter": "python",
   "pygments_lexer": "ipython3",
   "version": "3.13.3"
  }
 },
 "nbformat": 4,
 "nbformat_minor": 4
}
