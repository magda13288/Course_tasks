{
 "cells": [
  {
   "cell_type": "markdown",
   "metadata": {
    "slideshow": {
     "slide_type": "slide"
    }
   },
   "source": [
    "# Python (podstawy) - pliki i moduły\n",
    "_Mikołaj Leszczuk_\n",
    "![](https://inventyourshit.com/wp-content/uploads/2020/11/4lmoe3.jpg)"
   ]
  },
  {
   "cell_type": "markdown",
   "metadata": {
    "slideshow": {
     "slide_type": "slide"
    }
   },
   "source": [
    "## Ćwiczenia"
   ]
  },
  {
   "cell_type": "markdown",
   "metadata": {
    "slideshow": {
     "slide_type": "slide"
    }
   },
   "source": [
    "### Odczytywanie i wyświetlanie całego pliku tekstowego"
   ]
  },
  {
   "cell_type": "markdown",
   "metadata": {
    "slideshow": {
     "slide_type": "slide"
    }
   },
   "source": [
    "#### Ćwiczenie"
   ]
  },
  {
   "cell_type": "markdown",
   "metadata": {
    "slideshow": {
     "slide_type": "fragment"
    }
   },
   "source": [
    "Napisz program w Pythonie, aby odczytać i wyświetlić cały plik tekstowy `text.txt` . \n"
   ]
  },
  {
   "cell_type": "code",
   "execution_count": 4,
   "metadata": {},
   "outputs": [
    {
     "name": "stdout",
     "output_type": "stream",
     "text": [
      "Ala ma kota\n",
      "Kot lubi Alę\n",
      "Ale tylko wtedy, gdy Ala spełnia jego widzi mi się\n",
      "Gdy tego nie robi, kot psoci\n",
      "Wtedy Ala nie lubi kota\n",
      "I jest smuteczek\n",
      "\n"
     ]
    }
   ],
   "source": [
    "with open('text.txt', 'r', encoding=\"UTF-8\") as f:\n",
    "    text = f.read()\n",
    "    print(text)"
   ]
  },
  {
   "cell_type": "markdown",
   "metadata": {
    "slideshow": {
     "slide_type": "slide"
    }
   },
   "source": [
    "### Odczytywanie pliku wiersz po wierszu i zapisywanie go na liście"
   ]
  },
  {
   "cell_type": "markdown",
   "metadata": {
    "slideshow": {
     "slide_type": "slide"
    }
   },
   "source": [
    "#### Ćwiczenie"
   ]
  },
  {
   "cell_type": "markdown",
   "metadata": {
    "slideshow": {
     "slide_type": "fragment"
    }
   },
   "source": [
    "Napisz program w Pythonie, który odczyta plik tekstowy wiersz po wierszu i zapisze go na liście `content_list`.\n",
    "\n",
    "`content_list` to lista zawierająca przeczytane wiersze.\n",
    "\n",
    "Możesz skorzystać z podpowiedzi (podanej dalej)."
   ]
  },
  {
   "cell_type": "markdown",
   "metadata": {
    "slideshow": {
     "slide_type": "slide"
    }
   },
   "source": [
    "#### Podpowiedź"
   ]
  },
  {
   "cell_type": "markdown",
   "metadata": {
    "slideshow": {
     "slide_type": "fragment"
    }
   },
   "source": [
    "Instrukcja `with` w Pythonie jest używana w obsłudze wyjątków, aby kod był czystszy i bardziej czytelny. Upraszcza zarządzanie wspólnymi zasobami, takimi jak strumienie plików. Zwróć uwagę na następujący przykład kodu, w jaki sposób użycie instrukcji `with` sprawia, że kod jest czystszy."
   ]
  },
  {
   "cell_type": "code",
   "execution_count": 2,
   "metadata": {},
   "outputs": [
    {
     "name": "stdout",
     "output_type": "stream",
     "text": [
      "['Ala ma kota', 'Kot lubi Alę', 'Ale tylko wtedy, gdy Ala spełnia jego widzi mi się', 'Gdy tego nie robi, kot psoci', 'Wtedy Ala nie lubi kota', 'I jest smuteczek']\n"
     ]
    }
   ],
   "source": [
    "\n",
    "content_list =[]\n",
    "with open(\"text.txt\", \"r\", encoding=\"UTF-8\") as f:\n",
    "    for line in f:\n",
    "        content_list.append(line.strip())\n",
    "\n",
    "print(content_list)"
   ]
  },
  {
   "cell_type": "markdown",
   "metadata": {
    "slideshow": {
     "slide_type": "subslide"
    }
   },
   "source": [
    "Zauważ, że w przeciwieństwie do pierwszych dwóch implementacji, nie ma potrzeby wywoływania `file.close()` podczas używania instrukcji `with`. Sama instrukcja `with` zapewnia właściwe pozyskiwanie i uwalnianie zasobów. Wyjątek podczas wywołania `file` w pierwszej implementacji może uniemożliwić poprawne zamknięcie pliku, co może wprowadzić kilka błędów w kodzie, np. wiele zmian w plikach nie będzie obowiązywać, dopóki plik nie zostanie poprawnie zamknięty."
   ]
  },
  {
   "cell_type": "code",
   "execution_count": null,
   "metadata": {},
   "outputs": [
    {
     "name": "stdout",
     "output_type": "stream",
     "text": [
      "['Ala ma kota\\n', 'Kot lubi Alę\\n', 'Ale tylko wtedy, gdy Ala spełnia jego widzi mi się\\n', 'Gdy tego nie robi, kot psoci\\n', 'Wtedy Ala nie lubi kota\\n', 'I jest smuteczek\\n']\n"
     ]
    }
   ],
   "source": []
  },
  {
   "cell_type": "markdown",
   "metadata": {
    "slideshow": {
     "slide_type": "slide"
    }
   },
   "source": [
    "### Odczytywanie wszystkich wierszy pliku i zapisywanie go w zmiennej"
   ]
  },
  {
   "cell_type": "markdown",
   "metadata": {
    "slideshow": {
     "slide_type": "slide"
    }
   },
   "source": [
    "#### Ćwiczenie"
   ]
  },
  {
   "cell_type": "markdown",
   "metadata": {
    "slideshow": {
     "slide_type": "fragment"
    }
   },
   "source": [
    "Napisz program w Pythonie, który odczyta wszystkie wiersze pliku tekstowego, zapisz go w zmiennej."
   ]
  },
  {
   "cell_type": "code",
   "execution_count": null,
   "metadata": {},
   "outputs": [],
   "source": [
    "with open(\"text.txt\",\"r\",encoding=\"UTF-8\") as file:\n",
    "    file_text = file.readlines()\n",
    "\n",
    "print(file_text)"
   ]
  },
  {
   "cell_type": "markdown",
   "metadata": {
    "slideshow": {
     "slide_type": "slide"
    }
   },
   "source": [
    "### Odczytywanie pliku wiersz po wierszu i zapisywanie go w tablicy"
   ]
  },
  {
   "cell_type": "markdown",
   "metadata": {
    "slideshow": {
     "slide_type": "slide"
    }
   },
   "source": [
    "#### Ćwiczenie"
   ]
  },
  {
   "cell_type": "markdown",
   "metadata": {
    "slideshow": {
     "slide_type": "fragment"
    }
   },
   "source": [
    "Napisz program w Pythonie, który odczyta plik tekstowy wiersz po wierszu, zapisz go w tablicy `content_array`.\n",
    "\n",
    "`content_array` to lista zawierająca przeczytane wiersze."
   ]
  },
  {
   "cell_type": "code",
   "execution_count": null,
   "metadata": {},
   "outputs": [],
   "source": [
    "content_array =[]\n",
    "\n",
    "with open(\"text.txt\", \"r\", encoding=\"UTF-8\") as file:\n",
    "    for line in file:\n",
    "        content_array.append(line.strip())\n",
    "\n",
    "print(content_array)"
   ]
  },
  {
   "cell_type": "markdown",
   "metadata": {
    "slideshow": {
     "slide_type": "slide"
    }
   },
   "source": [
    "### Przeczytaj pierwsze n wierszy pliku *"
   ]
  },
  {
   "cell_type": "markdown",
   "metadata": {
    "slideshow": {
     "slide_type": "slide"
    }
   },
   "source": [
    "#### Ćwiczenie"
   ]
  },
  {
   "cell_type": "markdown",
   "metadata": {
    "slideshow": {
     "slide_type": "fragment"
    }
   },
   "source": [
    "Napisz program w Pythonie, który odczyta pierwsze n wierszy pliku. Użyj funkcji [`itertools.islice`](https://docs.python.org/3/library/itertools.html#itertools.islice)."
   ]
  },
  {
   "cell_type": "code",
   "execution_count": null,
   "metadata": {},
   "outputs": [
    {
     "name": "stdout",
     "output_type": "stream",
     "text": [
      "['Ala ma kota\\n', 'Kot lubi Alę\\n', 'Ale tylko wtedy, gdy Ala spełnia jego widzi mi się\\n']\n"
     ]
    }
   ],
   "source": [
    "# n = 4\n",
    "# with open(\"text.txt\", \"r\", encoding=\"UTF-8\") as f:\n",
    "#     for n in range(n+1):\n",
    "#         line = f.readline().strip()\n",
    "#         print(line)\n",
    "\n",
    "import itertools\n",
    "\n",
    "def read_first_n_lines(filename:str,n:int)->list[str]:\n",
    "    with open(filename,'r',encoding=\"UTF-8\") as file:\n",
    "        first_n_lines = list(itertools.islice(file,n))\n",
    "    return first_n_lines\n",
    "\n",
    "print(read_first_n_lines(\"text.txt\",3))"
   ]
  },
  {
   "cell_type": "markdown",
   "metadata": {
    "slideshow": {
     "slide_type": "slide"
    }
   },
   "source": [
    "### Znajdywanie najdłuższych słów w pliku"
   ]
  },
  {
   "cell_type": "markdown",
   "metadata": {
    "slideshow": {
     "slide_type": "slide"
    }
   },
   "source": [
    "#### Ćwiczenie"
   ]
  },
  {
   "cell_type": "markdown",
   "metadata": {
    "slideshow": {
     "slide_type": "fragment"
    }
   },
   "source": [
    "Napisz program w Pythonie, który znajdzie najdłuższe słowa w pliku tekstowym."
   ]
  },
  {
   "cell_type": "code",
   "execution_count": null,
   "metadata": {},
   "outputs": [
    {
     "name": "stdout",
     "output_type": "stream",
     "text": [
      "The longest word in file is: ['smuteczek']\n"
     ]
    }
   ],
   "source": [
    "def find_longest_words(filename:str)->list[str]:\n",
    "    with open(filename, 'r') as file:\n",
    "        words = file.read().split()\n",
    "    \n",
    "    max_length = len(max(words, key=len))\n",
    "    longest_words = [word for word in words if len(word) == max_length]\n",
    "    \n",
    "    return longest_words\n",
    "\n",
    "print(\"The longest word in file is:\", find_longest_words(\"text.txt\"))\n",
    "    "
   ]
  },
  {
   "cell_type": "markdown",
   "metadata": {
    "slideshow": {
     "slide_type": "slide"
    }
   },
   "source": [
    "### Policz liczbę wierszy w pliku tekstowym *"
   ]
  },
  {
   "cell_type": "code",
   "execution_count": null,
   "metadata": {},
   "outputs": [],
   "source": []
  },
  {
   "cell_type": "markdown",
   "metadata": {
    "slideshow": {
     "slide_type": "slide"
    }
   },
   "source": [
    "#### Ćwiczenie"
   ]
  },
  {
   "cell_type": "markdown",
   "metadata": {
    "slideshow": {
     "slide_type": "fragment"
    }
   },
   "source": [
    "Napisz program w Pythonie, który zlicza liczbę wierszy w pliku tekstowym."
   ]
  },
  {
   "cell_type": "code",
   "execution_count": 11,
   "metadata": {},
   "outputs": [
    {
     "name": "stdout",
     "output_type": "stream",
     "text": [
      "Count of lines in file: 6\n"
     ]
    }
   ],
   "source": [
    "def count_file_lines(filename:str)->int:\n",
    "    with open(filename,'r') as file:\n",
    "        lines = file.readlines()\n",
    "    return len(lines)\n",
    "\n",
    "print(f'Count of lines in file: {count_file_lines(\"text.txt\")}')"
   ]
  },
  {
   "cell_type": "markdown",
   "metadata": {
    "slideshow": {
     "slide_type": "slide"
    }
   },
   "source": [
    "### Zapisywanie listy do pliku"
   ]
  },
  {
   "cell_type": "markdown",
   "metadata": {
    "slideshow": {
     "slide_type": "slide"
    }
   },
   "source": [
    "#### Ćwiczenie"
   ]
  },
  {
   "cell_type": "markdown",
   "metadata": {
    "slideshow": {
     "slide_type": "fragment"
    }
   },
   "source": [
    "Napisz program w Pythonie, który zapisze listę do pliku."
   ]
  },
  {
   "cell_type": "code",
   "execution_count": 15,
   "metadata": {},
   "outputs": [],
   "source": [
    "def save_list_to_file(filename, data_list):\n",
    "    with open(filename, 'a') as file:\n",
    "        for item in data_list:\n",
    "            file.write(f\"{item}\\n\")\n",
    "\n",
    "data_list = [\n",
    "'Ala ma kota',\n",
    "'Kot lubi Alę'\n",
    "'Ale tylko wtedy, gdy Ala spełnia jego widzi mi się',\n",
    "'Gdy tego nie robi, kot psoci',\n",
    "'Wtedy Ala nie lubi kota',\n",
    "'I jest smuteczek']\n",
    "\n",
    "save_list_to_file(\"text.txt\",data_list)"
   ]
  },
  {
   "cell_type": "markdown",
   "metadata": {
    "slideshow": {
     "slide_type": "slide"
    }
   },
   "source": [
    "### Dołącz tekst do pliku i wyświetl tekst *"
   ]
  },
  {
   "cell_type": "markdown",
   "metadata": {
    "slideshow": {
     "slide_type": "slide"
    }
   },
   "source": [
    "#### Ćwiczenie"
   ]
  },
  {
   "cell_type": "markdown",
   "metadata": {
    "slideshow": {
     "slide_type": "fragment"
    }
   },
   "source": [
    "Napisz program w Pythonie, który doda tekst do pliku i wyświetli go."
   ]
  },
  {
   "cell_type": "code",
   "execution_count": null,
   "metadata": {},
   "outputs": [],
   "source": []
  },
  {
   "cell_type": "markdown",
   "metadata": {
    "slideshow": {
     "slide_type": "slide"
    }
   },
   "source": [
    "### Uzyskaj statystyki zwykłego pliku *"
   ]
  },
  {
   "cell_type": "markdown",
   "metadata": {
    "slideshow": {
     "slide_type": "slide"
    }
   },
   "source": [
    "#### Ćwiczenie"
   ]
  },
  {
   "cell_type": "markdown",
   "metadata": {
    "slideshow": {
     "slide_type": "fragment"
    }
   },
   "source": [
    "Napisz program w Pythonie, aby uzyskać statystyki zwykłego pliku."
   ]
  },
  {
   "cell_type": "code",
   "execution_count": null,
   "metadata": {},
   "outputs": [],
   "source": []
  },
  {
   "cell_type": "markdown",
   "metadata": {
    "slideshow": {
     "slide_type": "slide"
    }
   },
   "source": [
    "### Skopiuj zawartość pliku do innego pliku *"
   ]
  },
  {
   "cell_type": "markdown",
   "metadata": {
    "slideshow": {
     "slide_type": "slide"
    }
   },
   "source": [
    "#### Ćwiczenie"
   ]
  },
  {
   "cell_type": "markdown",
   "metadata": {
    "slideshow": {
     "slide_type": "fragment"
    }
   },
   "source": [
    "Napisz program w Pythonie, aby skopiować zawartość pliku do innego pliku."
   ]
  },
  {
   "cell_type": "code",
   "execution_count": null,
   "metadata": {},
   "outputs": [],
   "source": []
  },
  {
   "cell_type": "markdown",
   "metadata": {
    "slideshow": {
     "slide_type": "slide"
    }
   },
   "source": [
    "### Ocenianie, czy plik jest zamknięty, czy nie"
   ]
  },
  {
   "cell_type": "markdown",
   "metadata": {
    "slideshow": {
     "slide_type": "slide"
    }
   },
   "source": [
    "#### Ćwiczenie"
   ]
  },
  {
   "cell_type": "markdown",
   "metadata": {
    "slideshow": {
     "slide_type": "fragment"
    }
   },
   "source": [
    "Napisz program w Pythonie, aby ocenić, czy plik jest zamknięty, czy nie."
   ]
  },
  {
   "cell_type": "code",
   "execution_count": null,
   "metadata": {},
   "outputs": [],
   "source": []
  },
  {
   "cell_type": "markdown",
   "metadata": {
    "slideshow": {
     "slide_type": "slide"
    }
   },
   "source": [
    "### Zautomatyzowany dostęp do pliku"
   ]
  },
  {
   "cell_type": "markdown",
   "metadata": {
    "slideshow": {
     "slide_type": "slide"
    }
   },
   "source": [
    "#### Zadanie"
   ]
  },
  {
   "cell_type": "markdown",
   "metadata": {
    "slideshow": {
     "slide_type": "fragment"
    }
   },
   "source": [
    "* Napisz program, który otworzy plik `sonety.txt` i sprawdzi liczbę słów w całym tekście\n",
    "* Dodatkowo, napisz funkcję, która zlicza słowa tylko w co 7 linijce tekstu"
   ]
  },
  {
   "cell_type": "code",
   "execution_count": null,
   "metadata": {},
   "outputs": [],
   "source": []
  },
  {
   "cell_type": "markdown",
   "metadata": {
    "slideshow": {
     "slide_type": "slide"
    }
   },
   "source": [
    "### Importowanie modułu"
   ]
  },
  {
   "cell_type": "markdown",
   "metadata": {
    "slideshow": {
     "slide_type": "slide"
    }
   },
   "source": [
    "#### Ćwiczenie"
   ]
  },
  {
   "cell_type": "markdown",
   "metadata": {
    "slideshow": {
     "slide_type": "fragment"
    }
   },
   "source": [
    "Zaimportuj moduł matematyczny i wywołaj funkcję sinusoidalną."
   ]
  },
  {
   "cell_type": "markdown",
   "metadata": {},
   "source": [
    "##  Tworzenie i odczyt pliku z zapisem wierszy\n",
    "1. Utwórz (jeżeli nie istnieje) plik tekstowy o nazwie `lines.txt`.\n",
    "2. Zapisz w nim kilka wierszy (po jednej linii tekstu).\n",
    "3. Odczytaj zawartość pliku linia po linii (np. w pętli `for`).\n",
    "4. Wyświetl wszystkie linie na ekranie wraz z ich numerami (indeksem wiersza).\n",
    "\n",
    "**Wskazówka**: Użyj konstrukcji `with open(...) as f:` do bezpiecznej obsługi pliku."
   ]
  },
  {
   "cell_type": "code",
   "execution_count": null,
   "metadata": {},
   "outputs": [],
   "source": []
  },
  {
   "cell_type": "markdown",
   "metadata": {},
   "source": [
    "## Sumowanie liczb z pliku (operacje na wierszach)\n",
    "1. Przygotuj plik tekstowy `numbers.txt` zawierający po jednej liczbie (całkowitej lub zmiennoprzecinkowej) w wierszu.\n",
    "2. Wczytaj zawartość pliku, konwertując każdą linię na odpowiedni typ liczbowy.\n",
    "3. Zsumuj wszystkie odczytane liczby i wyświetl wynik.\n",
    "4. Pamiętaj, by uwzględnić możliwość, że plik może zawierać puste wiersze lub wiersze z białymi znakami (trzeba je pominąć).\n",
    "\n",
    "**Wskazówka**: Ewentualne problemy konwersji obsłuż w prosty sposób (np. pomijaj błędne wiersze), ale nie duplikuj tutaj rozbudowanej obsługi wyjątków z poprzednich ćwiczeń."
   ]
  },
  {
   "cell_type": "code",
   "execution_count": null,
   "metadata": {},
   "outputs": [],
   "source": []
  },
  {
   "cell_type": "markdown",
   "metadata": {},
   "source": [
    "##  Zmiana nazwy pliku przy pomocy modułu `os`\n",
    "1. Załóż, że masz plik o nazwie `old_name.txt`. Przy pomocy modułu `os` sprawdź, czy taki plik istnieje.\n",
    "2. Jeśli istnieje, zmień jego nazwę na `new_name.txt`.\n",
    "3. Jeśli nie istnieje, wyświetl komunikat informujący o braku pliku.\n",
    "\n",
    "**Wskazówka**: Skorzystaj z `os.rename(stara_nazwa, nowa_nazwa)` i funkcji sprawdzających istnienie pliku (`os.path.exists()`).\n"
   ]
  },
  {
   "cell_type": "code",
   "execution_count": null,
   "metadata": {},
   "outputs": [],
   "source": []
  },
  {
   "cell_type": "markdown",
   "metadata": {},
   "source": [
    "## Scalanie zawartości wielu plików tekstowych\n",
    "1. Przygotuj kilka plików tekstowych, np. `part1.txt`, `part2.txt`, `part3.txt`.\n",
    "2. Napisz skrypt, który wczyta zawartość wszystkich tych plików w ustalonej kolejności i zapisze je do jednego pliku `merged.txt`.\n",
    "3. Wypisz komunikat, gdzie została zapisana finalna scalenia zawartość.\n",
    "\n",
    "**Wskazówka**: Użyj trybu `a` (`append`), aby dopisywać do pliku docelowego w kolejnych krokach."
   ]
  },
  {
   "cell_type": "code",
   "execution_count": null,
   "metadata": {},
   "outputs": [],
   "source": []
  },
  {
   "cell_type": "markdown",
   "metadata": {},
   "source": [
    "##  Tworzenie modułu z własnymi funkcjami\n",
    "1. Utwórz własny moduł (np. `text_utils.py`) i umieść w nim dwie funkcje:\n",
    "   - `count_lines_in_file(filename)`: zwraca liczbę wierszy w pliku.\n",
    "   - `count_words_in_file(filename)`: zwraca liczbę słów w pliku (zdefiniuj samodzielnie, jak dzielisz słowa).\n",
    "2. W skrypcie głównym (np. `main.py`) zaimportuj te funkcje i wywołaj je na przykładowym pliku, wyświetlając wyniki.\n",
    "\n",
    "**Wskazówka**: Zwróć uwagę na odpowiednią strukturę katalogów i ścieżek, by import zadziałał poprawnie."
   ]
  },
  {
   "cell_type": "code",
   "execution_count": null,
   "metadata": {},
   "outputs": [],
   "source": []
  },
  {
   "cell_type": "markdown",
   "metadata": {},
   "source": [
    "## Generowanie plików raportu i katalogu na wyniki\n",
    "1. Sprawdź, czy istnieje katalog `reports`. Jeśli nie, utwórz go (np. `os.mkdir()` lub `os.makedirs()`).\n",
    "2. Wewnątrz tego katalogu utwórz plik tekstowy `report_1.txt`.\n",
    "3. Zapisz w nim jakiś tekst symulujący raport (np. bieżącą datę, krótkie podsumowanie).\n",
    "4. Wyświetl komunikat z pełną ścieżką do utworzonego raportu.\n",
    "\n",
    "**Wskazówka**: Do wygenerowania pełnej ścieżki użyj `os.path.join()`."
   ]
  },
  {
   "cell_type": "code",
   "execution_count": null,
   "metadata": {},
   "outputs": [],
   "source": []
  },
  {
   "cell_type": "markdown",
   "metadata": {},
   "source": [
    "## Odczyt plików JSON (bez powtórki rozbudowanej obsługi wyjątków)\n",
    "1. Stwórz plik JSON `data.json` z prostą strukturą (np. listą obiektów).\n",
    "2. Wczytaj ten plik za pomocą modułu `json` (funkcja `json.load()`).\n",
    "3. Wyświetl wczytane dane (np. w formie listy słowników).\n",
    "4. Zrób krótkie podsumowanie, np. ile obiektów jest w liście.\n",
    "\n"
   ]
  },
  {
   "cell_type": "code",
   "execution_count": null,
   "metadata": {},
   "outputs": [],
   "source": []
  },
  {
   "cell_type": "markdown",
   "metadata": {},
   "source": [
    "## Wykorzystanie modułu `glob` do wyszukiwania plików\n",
    "1. Przygotuj folder z plikami o różnym rozszerzeniu (np. `.txt`, `.json`, `.csv`).\n",
    "2. Użyj modułu `glob`, aby znaleźć wszystkie pliki `.txt` w tym folderze.\n",
    "3. Wyświetl listę znalezionych plików.\n",
    "4. Rozszerz wyszukiwanie do plików z więcej niż jednym rozszerzeniem (np. `.txt` lub `.csv`).\n",
    "\n",
    "**Wskazówka**: Funkcja `glob.glob('*.txt')` pozwala na wyszukanie plików z wybranym rozszerzeniem w danym katalogu.\n"
   ]
  },
  {
   "cell_type": "code",
   "execution_count": null,
   "metadata": {},
   "outputs": [],
   "source": []
  },
  {
   "cell_type": "markdown",
   "metadata": {},
   "source": [
    "## Łączenie funkcji z modułu `os` i `shutil` (kopiowanie plików)\n",
    "1. Przygotuj dowolny plik, np. `source.txt`.\n",
    "2. Sprawdź, czy istnieje katalog `backup`. Jeśli nie, utwórz go.\n",
    "3. Skopiuj plik `source.txt` do katalogu `backup` jako `backup.txt`.\n",
    "4. Wyświetl komunikat o powodzeniu operacji lub poinformuj, jeśli coś nie poszło zgodnie z planem (nawet w prostej formie, bez pełnej obsługi wyjątków).\n",
    "\n",
    "**Wskazówka**: Skorzystaj z `shutil.copyfile()` lub `shutil.copy()`."
   ]
  },
  {
   "cell_type": "code",
   "execution_count": null,
   "metadata": {},
   "outputs": [],
   "source": []
  },
  {
   "cell_type": "markdown",
   "metadata": {},
   "source": [
    "## Uruchamianie modułu jako skrypt\n",
    "1. Stwórz plik `runner_module.py`, w którym zdefiniujesz funkcję `main()`, wypisującą np. „Moduł uruchomiony jako skrypt”.\n",
    "2. Dodaj w nim na końcu:\n",
    "   ```python\n",
    "   if __name__ == \"__main__\":\n",
    "       main()"
   ]
  },
  {
   "cell_type": "code",
   "execution_count": null,
   "metadata": {},
   "outputs": [],
   "source": []
  }
 ],
 "metadata": {
  "celltoolbar": "Slideshow",
  "kernelspec": {
   "display_name": "Python 3",
   "language": "python",
   "name": "python3"
  },
  "language_info": {
   "codemirror_mode": {
    "name": "ipython",
    "version": 3
   },
   "file_extension": ".py",
   "mimetype": "text/x-python",
   "name": "python",
   "nbconvert_exporter": "python",
   "pygments_lexer": "ipython3",
   "version": "3.13.3"
  }
 },
 "nbformat": 4,
 "nbformat_minor": 4
}
