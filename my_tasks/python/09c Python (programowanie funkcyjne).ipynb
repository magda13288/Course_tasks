{
 "cells": [
  {
   "cell_type": "markdown",
   "metadata": {},
   "source": [
    "# Zadania z programowania funkcyjnego w Pythonie\n",
    "\n",
    "Poniżej znajduje się 30 zadań dotyczących funkcji lambda, funkcji wyższego rzędu, list/generator/dictionary comprehensions oraz generatorów z `yield`."
   ]
  },
  {
   "cell_type": "markdown",
   "metadata": {},
   "source": [
    "## Zadanie 1: Lambda do kwadratu\n",
    "\n",
    "**Treść zadania:** Napisz funkcję lambda, która przyjmuje liczbę i zwraca jej kwadrat.\n",
    "\n",
    "**Wskazówka:** Użyj operatora `**` do potęgowania."
   ]
  },
  {
   "cell_type": "code",
   "execution_count": 3,
   "metadata": {},
   "outputs": [
    {
     "name": "stdout",
     "output_type": "stream",
     "text": [
      "25\n"
     ]
    }
   ],
   "source": [
    "# Przykładowe wywołanie:\n",
    "\n",
    "square = lambda x: x ** 2\n",
    "print(square(5))  # Oczekiwany wynik: 25\n"
   ]
  },
  {
   "cell_type": "markdown",
   "metadata": {},
   "source": [
    "## Zadanie 2: Porównanie funkcji lambda i funkcji definiowanej za pomocą `def`\n",
    "\n",
    "**Treść zadania:** Zdefiniuj funkcję, która oblicza sześcian liczby. Najpierw stwórz wersję używającą `def`, a potem wersję przy pomocy funkcji lambda. Następnie porównaj wyniki obu funkcji dla tej samej liczby.\n",
    "\n",
    "**Wskazówka:** Użyj operatora `**` (np. `x ** 3`)."
   ]
  },
  {
   "cell_type": "code",
   "execution_count": 4,
   "metadata": {},
   "outputs": [
    {
     "name": "stdout",
     "output_type": "stream",
     "text": [
      "27\n",
      "27\n"
     ]
    }
   ],
   "source": [
    "# Rozwiązanie:\n",
    "def cube_def(x):\n",
    "    return x ** 3\n",
    "\n",
    "cube_lambda = lambda x: x ** 3\n",
    "\n",
    "# Test:\n",
    "print(cube_def(3))\n",
    "print(cube_lambda(3))"
   ]
  },
  {
   "cell_type": "markdown",
   "metadata": {},
   "source": [
    "## Zadanie 3: Map do obliczania kwadratów\n",
    "\n",
    "**Treść zadania:** Dla danej listy liczb, użyj funkcji `map()` wraz z funkcją lambda, aby obliczyć kwadraty wszystkich liczb.\n",
    "\n",
    "**Wskazówka:** Pamiętaj, aby wynik `map()` przekonwertować na listę, używając `list()`."
   ]
  },
  {
   "cell_type": "code",
   "execution_count": 5,
   "metadata": {},
   "outputs": [
    {
     "name": "stdout",
     "output_type": "stream",
     "text": [
      "[1, 16, 36, 625]\n"
     ]
    }
   ],
   "source": [
    "# Przykładowa lista:\n",
    "numbers = [1,4,6,25]\n",
    "kwadraty = list(map(lambda x: x ** 2,numbers))\n",
    "print(kwadraty)"
   ]
  },
  {
   "cell_type": "markdown",
   "metadata": {},
   "source": [
    "## Zadanie 4: Filter dla liczb parzystych\n",
    "\n",
    "**Treść zadania:** Dla listy liczb od 1 do 20, użyj funkcji `filter()` i lambda, aby wybrać tylko liczby parzyste.\n",
    "\n",
    "**Wskazówka:** Użyj warunku `x % 2 == 0`."
   ]
  },
  {
   "cell_type": "code",
   "execution_count": 6,
   "metadata": {},
   "outputs": [
    {
     "name": "stdout",
     "output_type": "stream",
     "text": [
      "[2, 4, 6, 8, 10, 12, 14, 16, 18, 20]\n"
     ]
    }
   ],
   "source": [
    "numbers = list(range(1, 21))\n",
    "parzyste = list(filter(lambda x: x % 2 == 0,numbers))\n",
    "print(parzyste)"
   ]
  },
  {
   "cell_type": "markdown",
   "metadata": {},
   "source": [
    "## Zadanie 5: Reduce do obliczenia iloczynu elementów\n",
    "\n",
    "**Treść zadania:** Dla listy `[1, 2, 3, 4, 5]`, użyj funkcji `reduce()` oraz lambda, aby obliczyć iloczyn wszystkich elementów.\n",
    "\n",
    "**Wskazówka:** Zaimportuj `reduce` z modułu `functools`."
   ]
  },
  {
   "cell_type": "code",
   "execution_count": 8,
   "metadata": {},
   "outputs": [
    {
     "name": "stdout",
     "output_type": "stream",
     "text": [
      "120\n"
     ]
    }
   ],
   "source": [
    "from functools import reduce\n",
    "numbers = [1, 2, 3, 4, 5]\n",
    "iloczyn = reduce(lambda a, b: a*b, numbers)\n",
    "print(iloczyn)  # Oczekiwany wynik: 120"
   ]
  },
  {
   "cell_type": "markdown",
   "metadata": {},
   "source": [
    "## Zadanie 6: List comprehension – lista sześcianów\n",
    "\n",
    "**Treść zadania:** Użyj list comprehension, aby stworzyć listę sześcianów liczb od 0 do 9.\n",
    "\n",
    "**Wskazówka:** Użyj operatora `** 3`."
   ]
  },
  {
   "cell_type": "code",
   "execution_count": 9,
   "metadata": {},
   "outputs": [
    {
     "name": "stdout",
     "output_type": "stream",
     "text": [
      "[0, 1, 8, 27, 64, 125, 216, 343, 512, 729]\n"
     ]
    }
   ],
   "source": [
    "sześciany = [x**3 for x in range(10)]\n",
    "print(sześciany)"
   ]
  },
  {
   "cell_type": "markdown",
   "metadata": {},
   "source": [
    "## Zadanie 7: List comprehension z warunkiem\n",
    "\n",
    "**Treść zadania:** Stwórz list comprehension, która zwraca kwadraty tylko tych liczb z zakresu 1-20, które są parzyste.\n",
    "\n",
    "**Wskazówka:** Dodaj warunek `if x % 2 == 0` na końcu wyrażenia."
   ]
  },
  {
   "cell_type": "code",
   "execution_count": 48,
   "metadata": {},
   "outputs": [
    {
     "name": "stdout",
     "output_type": "stream",
     "text": [
      "[4, 16, 36, 64, 100, 144, 196, 256, 324, 400]\n"
     ]
    }
   ],
   "source": [
    "kwadraty_parzystych = [x**2 for x in range(1,21) if x %2 == 0]\n",
    "print(kwadraty_parzystych)"
   ]
  },
  {
   "cell_type": "markdown",
   "metadata": {},
   "source": [
    "## Zadanie 8: Generator expression dla liczb parzystych\n",
    "\n",
    "**Treść zadania:** Utwórz generator expression, który generuje parzyste liczby z zakresu 0 do 50.\n",
    "\n",
    "**Wskazówka:** Użyj nawiasów okrągłych `(...)` zamiast nawiasów kwadratowych."
   ]
  },
  {
   "cell_type": "code",
   "execution_count": null,
   "metadata": {},
   "outputs": [
    {
     "name": "stdout",
     "output_type": "stream",
     "text": [
      "0 2 4 6 8 10 12 14 16 18 20 22 24 26 28 30 32 34 36 38 40 42 44 46 48 50 "
     ]
    }
   ],
   "source": [
    "from itertools import islice\n",
    "\n",
    "gen_parzyste = (x for x in range(0, 51) if x % 2 == 0)\n",
    "\n",
    "for num in gen_parzyste:\n",
    "    print(num,end=' ')\n",
    "\n",
    "# for num in islice(gen_parzyste,1,5):\n",
    "#     print(num,end=' ')"
   ]
  },
  {
   "cell_type": "markdown",
   "metadata": {},
   "source": [
    "## Zadanie 9: Dictionary comprehension – liczba do jej kwadratu\n",
    "\n",
    "**Treść zadania:** Dla liczb od 0 do 9, użyj dictionary comprehension, aby utworzyć słownik, w którym kluczem jest liczba, a wartością jej kwadrat.\n",
    "\n",
    "**Wskazówka:** Składnia: `{x: x**2 for x in range(10)}`."
   ]
  },
  {
   "cell_type": "code",
   "execution_count": 20,
   "metadata": {},
   "outputs": [
    {
     "name": "stdout",
     "output_type": "stream",
     "text": [
      "{0: 0, 1: 1, 2: 4, 3: 9, 4: 16, 5: 25, 6: 36, 7: 49, 8: 64, 9: 81}\n"
     ]
    }
   ],
   "source": [
    "squares_dict = {x: x**2 for x in range(10)}\n",
    "print(squares_dict)"
   ]
  },
  {
   "cell_type": "markdown",
   "metadata": {},
   "source": [
    "## Zadanie 10: Lambda z operatorem warunkowym\n",
    "\n",
    "**Treść zadania:** Napisz funkcję lambda, która przyjmuje liczbę i zwraca napis \"even\" jeśli liczba jest parzysta oraz \"odd\" w przeciwnym przypadku.\n",
    "\n",
    "**Wskazówka:** Użyj wyrażenia `\"even\" if x % 2 == 0 else \"odd\"`."
   ]
  },
  {
   "cell_type": "code",
   "execution_count": 29,
   "metadata": {},
   "outputs": [
    {
     "name": "stdout",
     "output_type": "stream",
     "text": [
      "even\n",
      "odd\n"
     ]
    }
   ],
   "source": [
    "check_parity = lambda x: 'even' if x % 2 == 0 else 'odd'\n",
    "print(check_parity(4))  # Oczekiwany wynik: 'even'\n",
    "print(check_parity(5))  # Oczekiwany wynik: 'odd'"
   ]
  },
  {
   "cell_type": "markdown",
   "metadata": {},
   "source": [
    "## Zadanie 11: Lambda z wieloma argumentami\n",
    "\n",
    "**Treść zadania:** Napisz funkcję lambda, która przyjmuje dwa argumenty i zwraca krotkę zawierającą ich sumę oraz różnicę (tj. `(a+b, a-b)`).\n",
    "\n",
    "**Wskazówka:** Zwracaj krotkę, np. `(a+b, a-b)`."
   ]
  },
  {
   "cell_type": "code",
   "execution_count": 31,
   "metadata": {},
   "outputs": [
    {
     "name": "stdout",
     "output_type": "stream",
     "text": [
      "(13, 7)\n"
     ]
    }
   ],
   "source": [
    "operacje = lambda a,b: (a+b,a-b)\n",
    "print(operacje(10, 3))  # Oczekiwany wynik: (13, 7)"
   ]
  },
  {
   "cell_type": "markdown",
   "metadata": {},
   "source": [
    "## Zadanie 12: Lambda dla konkatenacji łańcuchów\n",
    "\n",
    "**Treść zadania:** Napisz funkcję lambda, która przyjmuje dwa łańcuchy znaków i zwraca ich konkatenację oddzieloną pojedynczą spacją.\n",
    "\n",
    "**Wskazówka:** Użyj operatora `+` oraz dodaj spację między łańcuchami."
   ]
  },
  {
   "cell_type": "code",
   "execution_count": 35,
   "metadata": {},
   "outputs": [
    {
     "name": "stdout",
     "output_type": "stream",
     "text": [
      "Hello World\n"
     ]
    }
   ],
   "source": [
    "concat = lambda a,b: \" \".join((a,b))\n",
    "print(concat('Hello', 'World'))  # Oczekiwany wynik: 'Hello World'"
   ]
  },
  {
   "cell_type": "markdown",
   "metadata": {},
   "source": [
    "## Zadanie 13: Map do zmiany łańcuchów na wielkie litery\n",
    "\n",
    "**Treść zadania:** Dla danej listy łańcuchów znaków, użyj funkcji `map()` i lambda, aby każdy łańcuch został zamieniony na wersję z wielkimi literami.\n",
    "\n",
    "**Wskazówka:** Użyj metody `.upper()`."
   ]
  },
  {
   "cell_type": "code",
   "execution_count": 38,
   "metadata": {},
   "outputs": [
    {
     "name": "stdout",
     "output_type": "stream",
     "text": [
      "['PYTHON', 'PROGRAMOWANIE', 'LAMBDA']\n"
     ]
    }
   ],
   "source": [
    "words = ['python', 'programowanie', 'lambda']\n",
    "words_upper = list(map(lambda x: x.upper(), words))\n",
    "print(list(words_upper))"
   ]
  },
  {
   "cell_type": "markdown",
   "metadata": {},
   "source": [
    "## Zadanie 14: Filter do odrzucenia liczb ujemnych\n",
    "\n",
    "**Treść zadania:** Dla danej listy liczb, użyj funkcji `filter()` i lambda, aby wybrać tylko liczby nieujemne.\n",
    "\n",
    "**Wskazówka:** Sprawdź warunek `x >= 0`."
   ]
  },
  {
   "cell_type": "code",
   "execution_count": 39,
   "metadata": {},
   "outputs": [
    {
     "name": "stdout",
     "output_type": "stream",
     "text": [
      "[0, 5, 10]\n"
     ]
    }
   ],
   "source": [
    "numbers = [-10, -5, 0, 5, 10]\n",
    "non_negative = list(filter(lambda x: x>=0, numbers))\n",
    "print(list(non_negative))"
   ]
  },
  {
   "cell_type": "markdown",
   "metadata": {},
   "source": [
    "## Zadanie 15: Reduce do konkatenacji łańcuchów\n",
    "\n",
    "**Treść zadania:** Dla listy łańcuchów znaków, użyj funkcji `reduce()` i lambda, aby połączyć je w jeden łańcuch.\n",
    "\n",
    "**Wskazówka:** Zaimportuj `reduce` z modułu `functools` i użyj operatora `+` do łączenia łańcuchów."
   ]
  },
  {
   "cell_type": "code",
   "execution_count": null,
   "metadata": {},
   "outputs": [
    {
     "name": "stdout",
     "output_type": "stream",
     "text": [
      "Functional Programming in Python\n"
     ]
    }
   ],
   "source": [
    "from functools import reduce\n",
    "words = ['Functional', 'Programming', 'in', 'Python']\n",
    "result = reduce(lambda x,y: x +\" \" + y ,words)\n",
    "print(result)"
   ]
  },
  {
   "cell_type": "markdown",
   "metadata": {},
   "source": [
    "## Zadanie 16: Generator z `yield` – ciąg Fibonacciego\n",
    "\n",
    "**Treść zadania:** Napisz funkcję generatora, która przy użyciu `yield` generuje ciąg Fibonacciego do n-tego elementu (włącznie).\n",
    "\n",
    "**Wskazówka:** Użyj zmiennych do przechowywania dwóch poprzednich wartości; zacznij od 0 i 1."
   ]
  },
  {
   "cell_type": "code",
   "execution_count": null,
   "metadata": {},
   "outputs": [
    {
     "name": "stdout",
     "output_type": "stream",
     "text": [
      "0 1 1 2 3 5 8 13 21 34 55 "
     ]
    }
   ],
   "source": [
    "# def fibonacci(n:int)->list[int]:\n",
    "#     a, b = 0, 1\n",
    "#     result = []\n",
    "#     for i in range(n + 1):\n",
    "#         result.append(a)\n",
    "#         a, b = b, a + b\n",
    "#     return result\n",
    "\n",
    "def fibonacci(n:int):\n",
    "    a, b = 0, 1 \n",
    "    for i in range(n + 1):\n",
    "        yield a \n",
    "        a, b = b, a + b\n",
    "\n",
    "for num in fibonacci(10):\n",
    "    print(num, end=' ')\n"
   ]
  },
  {
   "cell_type": "markdown",
   "metadata": {},
   "source": [
    "## Zadanie 17: Porównanie wydajności – list comprehension vs generator expression\n",
    "\n",
    "**Treść zadania:** Dla dużego zakresu danych (np. `10**6` elementów), zmierz czas wykonania sumowania elementów wygenerowanych za pomocą list comprehension oraz generator expression.\n",
    "\n",
    "**Wskazówka:** Możesz użyć modułu `time` lub `timeit` do zmierzenia czasu wykonania."
   ]
  },
  {
   "cell_type": "code",
   "execution_count": 61,
   "metadata": {},
   "outputs": [
    {
     "name": "stdout",
     "output_type": "stream",
     "text": [
      "\n",
      "Czas wykonywania:\n",
      "List Comprehension: 0.007175922393798828 s\n",
      "Generator Expression: 0.030464887619018555 s\n"
     ]
    }
   ],
   "source": [
    "import time\n",
    "\n",
    "def measure_time(func):\n",
    "    start = time.time()\n",
    "    sum(func) \n",
    "    end = time.time()\n",
    "    return end - start \n",
    "\n",
    "N = 10**6\n",
    "\n",
    "list_comp = [x for x in range(N)]\n",
    "gen_expr = (x for x in range(N))\n",
    "\n",
    "print(\"\\nCzas wykonywania:\")\n",
    "print(f\"List Comprehension: {measure_time(list_comp)} s\") \n",
    "print(f\"Generator Expression: {measure_time(gen_expr)} s\") \n"
   ]
  },
  {
   "cell_type": "markdown",
   "metadata": {},
   "source": [
    "## Zadanie 18: Lambda sprawdzająca liczbę pierwszą\n",
    "\n",
    "**Treść zadania:** Napisz funkcję lambda, która przyjmuje liczbę i zwraca `True`, jeśli liczba jest pierwsza, lub `False` w przeciwnym przypadku.\n",
    "\n",
    "**Wskazówka:** Możesz użyć funkcji `all()` oraz iterować po liczbach od 2 do `int(sqrt(n)) + 1`. Jeśli potrzebujesz, zaimportuj `math.sqrt`."
   ]
  },
  {
   "cell_type": "code",
   "execution_count": 62,
   "metadata": {},
   "outputs": [
    {
     "name": "stdout",
     "output_type": "stream",
     "text": [
      "True\n",
      "False\n"
     ]
    }
   ],
   "source": [
    "import math\n",
    "is_prime = lambda n: n>1 and all(n % i !=0 for i in range(2, int(math.sqrt(n)+1)))\n",
    "\n",
    "# Test:\n",
    "print(is_prime(11))  # True\n",
    "print(is_prime(12))  # False"
   ]
  },
  {
   "cell_type": "markdown",
   "metadata": {},
   "source": [
    "## Zadanie 19: Konwersja temperatur z Celsjusza do Fahrenheita\n",
    "\n",
    "**Treść zadania:** Dla listy temperatur w stopniach Celsjusza, użyj funkcji `map()` i lambda, aby przekonwertować je na stopnie Fahrenheita według wzoru: `F = (C * 9/5) + 32`.\n",
    "\n",
    "**Wskazówka:** Zastosuj odpowiedni wzór konwersji."
   ]
  },
  {
   "cell_type": "code",
   "execution_count": 63,
   "metadata": {},
   "outputs": [
    {
     "name": "stdout",
     "output_type": "stream",
     "text": [
      "[32.0, 68.0, 98.6, 212.0]\n"
     ]
    }
   ],
   "source": [
    "temperatures_c = [0, 20, 37, 100]\n",
    "temperatures_f = list(map(lambda x: (x * 9/5) +32, temperatures_c))\n",
    "print(list(temperatures_f))"
   ]
  },
  {
   "cell_type": "markdown",
   "metadata": {},
   "source": [
    "## Zadanie 20: Filter dla temperatur poniżej zera\n",
    "\n",
    "**Treść zadania:** Dla danej listy temperatur w stopniach Celsjusza, użyj funkcji `filter()` i lambda, aby wybrać te temperatury, które są poniżej 0°C.\n",
    "\n",
    "**Wskazówka:** Użyj warunku `x < 0`."
   ]
  },
  {
   "cell_type": "code",
   "execution_count": 64,
   "metadata": {},
   "outputs": [
    {
     "name": "stdout",
     "output_type": "stream",
     "text": [
      "[-5, -3]\n"
     ]
    }
   ],
   "source": [
    "temperatures = [-5, 0, 10, -3, 15]\n",
    "below_freezing = list(filter(lambda x: x<0,temperatures))\n",
    "print(list(below_freezing))"
   ]
  },
  {
   "cell_type": "markdown",
   "metadata": {},
   "source": [
    "## Zadanie 21: List comprehension – kwadraty parzystych liczb\n",
    "\n",
    "**Treść zadania:** Stwórz list comprehension, która zwraca kwadraty liczb z zakresu 1 do 50, ale tylko dla liczb parzystych.\n",
    "\n",
    "**Wskazówka:** Dodaj warunek `if x % 2 == 0` w wyrażeniu."
   ]
  },
  {
   "cell_type": "code",
   "execution_count": 65,
   "metadata": {},
   "outputs": [
    {
     "name": "stdout",
     "output_type": "stream",
     "text": [
      "[4, 16, 36, 64, 100, 144, 196, 256, 324, 400, 484, 576, 676, 784, 900, 1024, 1156, 1296, 1444, 1600, 1764, 1936, 2116, 2304, 2500]\n"
     ]
    }
   ],
   "source": [
    "squares_even = [x ** 2 for x in range(1,51) if x % 2 == 0]\n",
    "print(squares_even)"
   ]
  },
  {
   "cell_type": "markdown",
   "metadata": {},
   "source": [
    "## Zadanie 22: Dictionary comprehension – zamiana kluczy i wartości\n",
    "\n",
    "**Treść zadania:** Dla zadanego słownika, użyj dictionary comprehension, aby stworzyć nowy słownik, w którym klucze i wartości są zamienione miejscami.\n",
    "\n",
    "**Wskazówka:** Upewnij się, że oryginalne wartości są unikalne, aby mogły stać się kluczami."
   ]
  },
  {
   "cell_type": "code",
   "execution_count": null,
   "metadata": {},
   "outputs": [
    {
     "ename": "ValueError",
     "evalue": "Duplikat wartości: 1",
     "output_type": "error",
     "traceback": [
      "\u001b[31m---------------------------------------------------------------------------\u001b[39m",
      "\u001b[31mValueError\u001b[39m                                Traceback (most recent call last)",
      "\u001b[36mCell\u001b[39m\u001b[36m \u001b[39m\u001b[32mIn[72]\u001b[39m\u001b[32m, line 10\u001b[39m\n\u001b[32m      7\u001b[39m     \u001b[38;5;28;01mreturn\u001b[39;00m inverted\n\u001b[32m      9\u001b[39m original = {\u001b[33m'\u001b[39m\u001b[33ma\u001b[39m\u001b[33m'\u001b[39m: \u001b[32m1\u001b[39m, \u001b[33m'\u001b[39m\u001b[33mb\u001b[39m\u001b[33m'\u001b[39m: \u001b[32m1\u001b[39m, \u001b[33m'\u001b[39m\u001b[33mc\u001b[39m\u001b[33m'\u001b[39m: \u001b[32m3\u001b[39m}\n\u001b[32m---> \u001b[39m\u001b[32m10\u001b[39m \u001b[38;5;28mprint\u001b[39m(\u001b[43minvert_dict\u001b[49m\u001b[43m(\u001b[49m\u001b[43moriginal\u001b[49m\u001b[43m)\u001b[49m)\n",
      "\u001b[36mCell\u001b[39m\u001b[36m \u001b[39m\u001b[32mIn[72]\u001b[39m\u001b[32m, line 5\u001b[39m, in \u001b[36minvert_dict\u001b[39m\u001b[34m(d)\u001b[39m\n\u001b[32m      3\u001b[39m \u001b[38;5;28;01mfor\u001b[39;00m k, v \u001b[38;5;129;01min\u001b[39;00m d.items():\n\u001b[32m      4\u001b[39m     \u001b[38;5;28;01mif\u001b[39;00m v \u001b[38;5;129;01min\u001b[39;00m inverted:\n\u001b[32m----> \u001b[39m\u001b[32m5\u001b[39m         \u001b[38;5;28;01mraise\u001b[39;00m \u001b[38;5;167;01mValueError\u001b[39;00m(\u001b[33mf\u001b[39m\u001b[33m\"\u001b[39m\u001b[33mDuplikat wartości: \u001b[39m\u001b[38;5;132;01m{\u001b[39;00mv\u001b[38;5;132;01m}\u001b[39;00m\u001b[33m\"\u001b[39m)\n\u001b[32m      6\u001b[39m     inverted[v] = k\n\u001b[32m      7\u001b[39m \u001b[38;5;28;01mreturn\u001b[39;00m inverted\n",
      "\u001b[31mValueError\u001b[39m: Duplikat wartości: 1"
     ]
    }
   ],
   "source": [
    "def invert_dict(d):\n",
    "    inverted = {}\n",
    "    for k, v in d.items():\n",
    "        if v in inverted:\n",
    "            raise ValueError(f\"Duplikat wartości: {v}\")\n",
    "        inverted[v] = k\n",
    "    return inverted\n",
    "\n",
    "original = {'a': 1, 'b': 2, 'c': 3}\n",
    "print(invert_dict(original))"
   ]
  },
  {
   "cell_type": "markdown",
   "metadata": {},
   "source": [
    "## Zadanie 23: Generator expression – kwadraty liczb nieparzystych\n",
    "\n",
    "**Treść zadania:** Utwórz generator expression, który generuje kwadraty liczb nieparzystych z zakresu 1 do 100.\n",
    "\n"
   ]
  },
  {
   "cell_type": "code",
   "execution_count": 73,
   "metadata": {},
   "outputs": [
    {
     "name": "stdout",
     "output_type": "stream",
     "text": [
      "1 4 9 16 25 36 49 64 81 100 121 144 169 196 225 256 289 324 361 400 441 484 529 576 625 676 729 784 841 900 961 1024 1089 1156 1225 1296 1369 1444 1521 1600 1681 1764 1849 1936 2025 2116 2209 2304 2401 2500 2601 2704 2809 2916 3025 3136 3249 3364 3481 3600 3721 3844 3969 4096 4225 4356 4489 4624 4761 4900 5041 5184 5329 5476 5625 5776 5929 6084 6241 6400 6561 6724 6889 7056 7225 7396 7569 7744 7921 8100 8281 8464 8649 8836 9025 9216 9409 9604 9801 10000 \n"
     ]
    }
   ],
   "source": [
    "gen_squares_odd = (x**2 for x in range(1,101))\n",
    "for val in gen_squares_odd:\n",
    "    print(val, end=' ')\n",
    "print()"
   ]
  },
  {
   "cell_type": "markdown",
   "metadata": {},
   "source": [
    "## Zadanie 24: Reduce do znalezienia maksimum\n",
    "\n",
    "**Treść zadania:** Użyj funkcji `reduce()` oraz lambda, aby znaleźć maksymalną wartość w danej liście liczb.\n",
    "\n",
    "**Wskazówka:** Lambda może wyglądać następująco: `lambda a, b: a if a > b else b`."
   ]
  },
  {
   "cell_type": "code",
   "execution_count": 74,
   "metadata": {},
   "outputs": [
    {
     "name": "stdout",
     "output_type": "stream",
     "text": [
      "99\n"
     ]
    }
   ],
   "source": [
    "from functools import reduce\n",
    "numbers = [3, 17, 2, 99, 23]\n",
    "maximum = reduce(lambda a,b: a if a > b else b ,numbers)\n",
    "print(maximum)"
   ]
  },
  {
   "cell_type": "markdown",
   "metadata": {},
   "source": [
    "## Zadanie 25: Lambda zwracająca funkcję mnożenia\n",
    "\n",
    "**Treść zadania:** Napisz funkcję lambda, która przyjmuje liczbę `n` i zwraca funkcję, która mnoży swoje wejście przez `n`.\n",
    "\n",
    "**Wskazówka:** Zwróć kolejną funkcję lambda, np. `lambda x: x * n`."
   ]
  },
  {
   "cell_type": "code",
   "execution_count": 78,
   "metadata": {},
   "outputs": [
    {
     "name": "stdout",
     "output_type": "stream",
     "text": [
      "30\n"
     ]
    }
   ],
   "source": [
    "multiplier = lambda n: (lambda x: x * n)\n",
    "times3 = multiplier(3)\n",
    "print(times3(10))  # Oczekiwany wynik: 30"
   ]
  },
  {
   "cell_type": "markdown",
   "metadata": {},
   "source": [
    "## Zadanie 26: Lambda tworząca słownik\n",
    "\n",
    "**Treść zadania:** Napisz funkcję lambda, która przyjmuje listę liczb i zwraca słownik, w którym kluczem jest liczba, a wartością jej kwadrat.\n",
    "\n",
    "**Wskazówka:** Możesz użyć dictionary comprehension wewnątrz lambdy."
   ]
  },
  {
   "cell_type": "code",
   "execution_count": 80,
   "metadata": {},
   "outputs": [
    {
     "name": "stdout",
     "output_type": "stream",
     "text": [
      "{'1': 1, '2': 4, '3': 9, '4': 16}\n"
     ]
    }
   ],
   "source": [
    "create_dict = lambda lista: {str(x): x**2 for x in lista}\n",
    "print(create_dict([1, 2, 3, 4]))  # Oczekiwany wynik: {1: 1, 2: 4, 3: 9, 4: 16}"
   ]
  },
  {
   "cell_type": "markdown",
   "metadata": {},
   "source": [
    "## Zadanie 27: List comprehension – lista krotek (liczba, sześcian)\n",
    "\n",
    "**Treść zadania:** Utwórz list comprehension, która generuje listę krotek, gdzie każda krotka zawiera liczbę od 1 do 10 oraz jej sześcian.\n",
    "\n",
    "**Wskazówka:** Każda krotka powinna mieć postać `(x, x**3)`."
   ]
  },
  {
   "cell_type": "code",
   "execution_count": null,
   "metadata": {},
   "outputs": [
    {
     "name": "stdout",
     "output_type": "stream",
     "text": [
      "[(1, 1), (2, 8), (3, 27), (4, 64), (5, 125), (6, 216), (7, 343), (8, 512), (9, 729), (10, 1000)]\n",
      "(1, 1) (2, 8) (3, 27) (4, 64) (5, 125) (6, 216) (7, 343) (8, 512) (9, 729) (10, 1000) "
     ]
    }
   ],
   "source": [
    "cubes_tuples = [(x,x**3) for x in range(1,11)]\n",
    "cubes_generator = (((x,x**3) for x in range(1,11)))\n",
    "\n",
    "print(cubes_tuples)\n",
    "for num in cubes_generator:\n",
    "    print(num, end=\" \")"
   ]
  },
  {
   "cell_type": "markdown",
   "metadata": {},
   "source": [
    "## Zadanie 28: Generator z `yield` – wybieranie liczb parzystych\n",
    "\n",
    "**Treść zadania:** Napisz funkcję generatora, która przyjmuje listę liczb i za pomocą `yield` zwraca tylko te liczby, które są parzyste.\n",
    "\n",
    "**Wskazówka:** Użyj warunku `if x % 2 == 0` w pętli iterującej po liście."
   ]
  },
  {
   "cell_type": "code",
   "execution_count": null,
   "metadata": {},
   "outputs": [
    {
     "name": "stdout",
     "output_type": "stream",
     "text": [
      "2 4 6 "
     ]
    }
   ],
   "source": [
    "def even_numbers(numbers):\n",
    "   for x in numbers:\n",
    "       if x % 2 == 0:\n",
    "           yield x\n",
    "    \n",
    "# Test:\n",
    "for num in even_numbers([1, 2, 3, 4, 5, 6]):\n",
    "    print(num, end=' ')\n",
    "print()"
   ]
  },
  {
   "cell_type": "markdown",
   "metadata": {},
   "source": [
    "## Zadanie 29: Lambda z zagnieżdżonym operatorem warunkowym\n",
    "\n",
    "**Treść zadania:** Napisz funkcję lambda, która przyjmuje liczbę i zwraca:\n",
    "- \"positive\" jeśli liczba jest większa od 0,\n",
    "- \"zero\" jeśli liczba jest równa 0,\n",
    "- \"negative\" w przeciwnym przypadku.\n",
    "\n",
    "**Wskazówka:** Użyj zagnieżdżonych wyrażeń warunkowych, np. `\"positive\" if x > 0 else (\"zero\" if x == 0 else \"negative\")`."
   ]
  },
  {
   "cell_type": "code",
   "execution_count": 84,
   "metadata": {},
   "outputs": [
    {
     "name": "stdout",
     "output_type": "stream",
     "text": [
      "positive\n",
      "zero\n",
      "negative\n"
     ]
    }
   ],
   "source": [
    "check_number = lambda x: \"positive\" if x > 0 else (\"zero\" if x == 0 else \"negative\")\n",
    "print(check_number(10))  # Oczekiwany wynik: 'positive'\n",
    "print(check_number(0))   # Oczekiwany wynik: 'zero'\n",
    "print(check_number(-5))  # Oczekiwany wynik: 'negative'"
   ]
  },
  {
   "cell_type": "markdown",
   "metadata": {},
   "source": [
    "## Zadanie 30: Dictionary comprehension z filtrowaniem\n",
    "\n",
    "**Treść zadania:** Dla danego słownika, w którym kluczami są nazwy, a wartościami liczby, użyj dictionary comprehension, aby stworzyć nowy słownik zawierający tylko te pary, gdzie wartość jest większa niż 10.\n",
    "\n",
    "**Wskazówka:** Dodaj warunek `if value > 10` w comprehensions."
   ]
  },
  {
   "cell_type": "code",
   "execution_count": 87,
   "metadata": {},
   "outputs": [
    {
     "name": "stdout",
     "output_type": "stream",
     "text": [
      "{'b': 15, 'd': 20}\n"
     ]
    }
   ],
   "source": [
    "data = { 'a': 5, 'b': 15, 'c': 8, 'd': 20 }\n",
    "filtered_data={k: v for k, v in data.items() if v > 10}\n",
    "print(filtered_data)  # Oczekiwany wynik: {'b': 15, 'd': 20}"
   ]
  }
 ],
 "metadata": {
  "kernelspec": {
   "display_name": "Python 3",
   "language": "python",
   "name": "python3"
  },
  "language_info": {
   "codemirror_mode": {
    "name": "ipython",
    "version": 3
   },
   "file_extension": ".py",
   "mimetype": "text/x-python",
   "name": "python",
   "nbconvert_exporter": "python",
   "pygments_lexer": "ipython3",
   "version": "3.13.3"
  }
 },
 "nbformat": 4,
 "nbformat_minor": 4
}
