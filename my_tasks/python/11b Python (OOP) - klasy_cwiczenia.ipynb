{
 "cells": [
  {
   "cell_type": "markdown",
   "metadata": {
    "slideshow": {
     "slide_type": "slide"
    }
   },
   "source": [
    "**Blok 1: Klasa Car - Zadanie 1: Definicja klasy i konstruktora**\n",
    "\n",
    "Utwórz klasę `Car` z metodą `__init__()`, która przyjmuje argumenty: `make`, `model` oraz `year` i przypisuje je do atrybutów instancyjnych."
   ]
  },
  {
   "cell_type": "code",
   "execution_count": null,
   "metadata": {
    "slideshow": {
     "slide_type": "slide"
    }
   },
   "outputs": [
    {
     "name": "stdout",
     "output_type": "stream",
     "text": [
      "Citroen\n",
      "DS\n",
      "2020\n"
     ]
    }
   ],
   "source": [
    "class Car:\n",
    "\n",
    "    def __init__(self, make:str,model:str,year:int):\n",
    "        self.make =  make\n",
    "        self.model = model\n",
    "        self.year = year\n",
    "\n",
    "my_car = Car(\"Citroen\",\"DS\",\"2020\")\n",
    "\n",
    "print(my_car.make)  \n",
    "print(my_car.model)  \n",
    "print(my_car.year)   "
   ]
  },
  {
   "cell_type": "markdown",
   "metadata": {
    "slideshow": {
     "slide_type": "slide"
    }
   },
   "source": [
    "**Blok 1: Klasa Car - Zadanie 2: Metoda wyświetlająca informacje**\n",
    "\n",
    "Dodaj do klasy `Car` metodę `display_info()`, która wypisuje informacje w formacie:\n",
    "\"Samochód: [make] [model], rok produkcji: [year]\"."
   ]
  },
  {
   "cell_type": "code",
   "execution_count": null,
   "metadata": {
    "slideshow": {
     "slide_type": "slide"
    }
   },
   "outputs": [
    {
     "name": "stdout",
     "output_type": "stream",
     "text": [
      "Samochód: Citroen DS\n",
      "Rok produkcji: 2020 \n"
     ]
    }
   ],
   "source": [
    "class Car:\n",
    "    \n",
    "    def __init__(self, make:str,model:str,year:int):\n",
    "        self.make =  make\n",
    "        self.model = model\n",
    "        self.year = year\n",
    "\n",
    "    def display_info(self):\n",
    "        return print(f\"Samochód: {self.make} {self.model}\\nRok produkcji: {self.year} \")\n",
    "    \n",
    "\n",
    "my_car = Car(\"Citroen\",\"DS\",\"2020\")\n",
    "my_car.display_info()\n",
    "        "
   ]
  },
  {
   "cell_type": "markdown",
   "metadata": {
    "slideshow": {
     "slide_type": "slide"
    }
   },
   "source": [
    "**Blok 1: Klasa Car - Zadanie 3: Atrybut klasowy**\n",
    "\n",
    "Dodaj atrybut klasowy `wheels` o wartości `4` do klasy `Car`."
   ]
  },
  {
   "cell_type": "code",
   "execution_count": null,
   "metadata": {
    "slideshow": {
     "slide_type": "slide"
    }
   },
   "outputs": [],
   "source": [
    "# import datetime\n",
    "\n",
    "class Car:\n",
    "    \n",
    "    def __init__(self, make:str,model:str,year:int, wheels:int):\n",
    "        self.make =  make\n",
    "        self.model = model\n",
    "        self.year = year\n",
    "        self.wheels = wheels\n",
    "\n",
    "    def display_info(self):\n",
    "        return print(f\"Samochód: {self.make} {self.model}\\nRok produkcji: {self.year}\\nKoła: {self.wheels} \")\n",
    "    \n",
    "    # def get_age(self):\n",
    "    #     current_year = datetime.datetime.now().year\n",
    "    #     age = current_year - self.year\n",
    "    #     return age\n"
   ]
  },
  {
   "cell_type": "markdown",
   "metadata": {
    "slideshow": {
     "slide_type": "slide"
    }
   },
   "source": [
    "**Blok 1: Klasa Car - Zadanie 4: Tworzenie instancji i wywoływanie metody**\n",
    "\n",
    "Utwórz instancję `car1 = Car(\"Toyota\", \"Corolla\", 2010)` i wywołaj metodę `display_info()`. Następnie wypisz wartość atrybutu `wheels` zarówno z instancji, jak i z klasy."
   ]
  },
  {
   "cell_type": "code",
   "execution_count": 67,
   "metadata": {
    "slideshow": {
     "slide_type": "slide"
    }
   },
   "outputs": [
    {
     "name": "stdout",
     "output_type": "stream",
     "text": [
      "Samochód: Toyota Corolla\n",
      "Rok produkcji: 2010\n",
      "Koła: 4 \n",
      "4\n",
      "4\n"
     ]
    }
   ],
   "source": [
    "class Car:\n",
    "    \n",
    "    wheels = 4\n",
    "\n",
    "    def __init__(self, make:str,model:str,year:int):\n",
    "        self.make =  make\n",
    "        self.model = model\n",
    "        self.year = year\n",
    "\n",
    "    def display_info(self):\n",
    "        return print(f\"Samochód: {self.make} {self.model}\\nRok produkcji: {self.year}\\nKoła: {self.wheels} \")\n",
    "    \n",
    "car1 = Car(\"Toyota\",\"Corolla\",2010)\n",
    "car1.display_info()\n",
    "print(f\"{car1.wheels}\")\n",
    "print(Car.wheels)"
   ]
  },
  {
   "cell_type": "markdown",
   "metadata": {
    "slideshow": {
     "slide_type": "slide"
    }
   },
   "source": [
    "**Blok 1: Klasa Car - Zadanie 5: Modyfikacja atrybutu instancyjnego**\n",
    "\n",
    "Zmień wartość `year` instancji `car1` na `2015` i ponownie wywołaj metodę `display_info()`."
   ]
  },
  {
   "cell_type": "code",
   "execution_count": 43,
   "metadata": {
    "slideshow": {
     "slide_type": "slide"
    }
   },
   "outputs": [
    {
     "name": "stdout",
     "output_type": "stream",
     "text": [
      "Samochód: Toyota Corolla\n",
      "Rok produkcji: 2015\n",
      "Koła: 4 \n"
     ]
    }
   ],
   "source": [
    "car1.year = 2015\n",
    "car1.display_info()"
   ]
  },
  {
   "cell_type": "markdown",
   "metadata": {
    "slideshow": {
     "slide_type": "slide"
    }
   },
   "source": [
    "**Blok 1: Klasa Car - Zadanie 6: Obliczanie wieku samochodu**\n",
    "\n",
    "Dodaj metodę `age()`, która zwraca wiek samochodu jako różnicę między 2025 a rokiem produkcji. Przetestuj tę metodę na instancji `car1`."
   ]
  },
  {
   "cell_type": "code",
   "execution_count": 44,
   "metadata": {
    "slideshow": {
     "slide_type": "slide"
    }
   },
   "outputs": [
    {
     "name": "stdout",
     "output_type": "stream",
     "text": [
      "Wiek: 10\n"
     ]
    }
   ],
   "source": [
    "import datetime\n",
    "\n",
    "class Car:\n",
    "    \n",
    "    def __init__(self, make:str,model:str,year:int, wheels:int):\n",
    "        self.make =  make\n",
    "        self.model = model\n",
    "        self.year = year\n",
    "        self.wheels = wheels\n",
    "\n",
    "    def display_info(self):\n",
    "        return print(f\"Samochód: {self.make} {self.model}\\nRok produkcji: {self.year}\\nKoła: {self.wheels} \")\n",
    "    \n",
    "    def get_age(self):\n",
    "        current_year = datetime.datetime.now().year\n",
    "        age = current_year - self.year\n",
    "        return age\n",
    "    \n",
    "print(f\"Wiek: {car1.get_age()}\")"
   ]
  },
  {
   "cell_type": "markdown",
   "metadata": {
    "slideshow": {
     "slide_type": "slide"
    }
   },
   "source": [
    "**Blok 1: Klasa Car - Zadanie 7: Usuwanie atrybutu i obsługa wyjątku**\n",
    "\n",
    "Usuń atrybut `model` z instancji `car1` i spróbuj go wypisać. Obsłuż wyjątek `AttributeError` i wypisz komunikat: \"Atrybut 'model' nie istnieje!\"."
   ]
  },
  {
   "cell_type": "code",
   "execution_count": 45,
   "metadata": {
    "slideshow": {
     "slide_type": "slide"
    }
   },
   "outputs": [
    {
     "name": "stdout",
     "output_type": "stream",
     "text": [
      "Atrybut 'model' nie istnieje!\n"
     ]
    }
   ],
   "source": [
    "del car1.model\n",
    "\n",
    "try:\n",
    "    print(car1.model)\n",
    "except AttributeError as e:\n",
    "    print(\"Atrybut 'model' nie istnieje!\")"
   ]
  },
  {
   "cell_type": "markdown",
   "metadata": {
    "slideshow": {
     "slide_type": "slide"
    }
   },
   "source": [
    "**Blok 2: Klasa BankAccount - Zadanie 1: Definicja klasy i konstruktora**\n",
    "\n",
    "Utwórz klasę `BankAccount` z metodą `__init__()`, która przyjmuje argumenty: `owner` oraz opcjonalny `balance` (domyślnie 0)."
   ]
  },
  {
   "cell_type": "code",
   "execution_count": 47,
   "metadata": {
    "slideshow": {
     "slide_type": "slide"
    }
   },
   "outputs": [],
   "source": [
    "class BankAccount:\n",
    "\n",
    "    def __init__(self, owner: str, balance:float = 0):\n",
    "        self.owner = owner\n",
    "        self.balance = balance"
   ]
  },
  {
   "cell_type": "markdown",
   "metadata": {
    "slideshow": {
     "slide_type": "slide"
    }
   },
   "source": [
    "**Blok 2: Klasa BankAccount - Zadanie 2: Metoda wpłaty środków**\n",
    "\n",
    "Dodaj metodę `deposit(amount)`, która zwiększa wartość `balance` o podaną kwotę."
   ]
  },
  {
   "cell_type": "code",
   "execution_count": 48,
   "metadata": {
    "slideshow": {
     "slide_type": "slide"
    }
   },
   "outputs": [],
   "source": [
    "class BankAccount:\n",
    "\n",
    "    def __init__(self, owner: str, balance:float = 0):\n",
    "        self.owner = owner\n",
    "        self.balance = balance\n",
    "    \n",
    "    def deposit(self,amount):\n",
    "        self.balance += amount\n",
    "        return self.balance"
   ]
  },
  {
   "cell_type": "markdown",
   "metadata": {
    "slideshow": {
     "slide_type": "slide"
    }
   },
   "source": [
    "**Blok 2: Klasa BankAccount - Zadanie 3: Metoda wypłaty środków**\n",
    "\n",
    "Dodaj metodę `withdraw(amount)`, która zmniejsza `balance` o podaną wartość, ale tylko jeśli środki są wystarczające. W przeciwnym razie wypisz komunikat: \"Niewystarczające środki na koncie.\""
   ]
  },
  {
   "cell_type": "code",
   "execution_count": 58,
   "metadata": {
    "slideshow": {
     "slide_type": "slide"
    }
   },
   "outputs": [
    {
     "name": "stdout",
     "output_type": "stream",
     "text": [
      "Stan konta po operacji: 5500\n"
     ]
    }
   ],
   "source": [
    "class BankAccount:\n",
    "\n",
    "    def __init__(self, owner: str, balance:float = 0):\n",
    "        self.owner = owner\n",
    "        self.balance = balance\n",
    "    \n",
    "    def deposit(self,amount):\n",
    "        self.balance += amount\n",
    "        return self.balance\n",
    "    \n",
    "    def withdraw(self,amount):\n",
    "        if self.balance >= amount:\n",
    "            self.balance -= amount\n",
    "        else:\n",
    "            print(\"Niewystarczające środki na koncie\")\n",
    "        return print(f\"Stan konta po operacji: {self.balance}\")\n",
    "    \n",
    "    def display_balance(self):\n",
    "        return print(f\"Właściciel: {self.owner}\\nStan konta: {self.balance}\")\n",
    "\n",
    "my_account = BankAccount(\"Magda\", 6000)\n",
    "my_account.withdraw(500)"
   ]
  },
  {
   "cell_type": "markdown",
   "metadata": {
    "slideshow": {
     "slide_type": "slide"
    }
   },
   "source": [
    "**Blok 2: Klasa BankAccount - Zadanie 4: Metoda wyświetlająca stan konta**\n",
    "\n",
    "Dodaj metodę `display_balance()`, która wypisuje: \"Właściciel: [owner], Stan konta: [balance]\"."
   ]
  },
  {
   "cell_type": "code",
   "execution_count": 64,
   "metadata": {
    "slideshow": {
     "slide_type": "slide"
    }
   },
   "outputs": [
    {
     "name": "stdout",
     "output_type": "stream",
     "text": [
      "Właściciel: Magda\n",
      "Stan konta: 6000\n"
     ]
    }
   ],
   "source": [
    "class BankAccount:\n",
    "\n",
    "    def __init__(self, owner: str, balance:float = 0):\n",
    "        self.owner = owner\n",
    "        self.balance = balance\n",
    "    \n",
    "    def deposit(self,amount):\n",
    "        self.balance += amount\n",
    "        return self.balance\n",
    "    \n",
    "    def withdraw(self,amount):\n",
    "        if self.balance >= amount:\n",
    "            self.balance -= amount\n",
    "        else:\n",
    "            print(\"Niewystarczające środki na koncie\")\n",
    "        return self.balance\n",
    "    \n",
    "    def display_balance(self):\n",
    "        return print(f\"Właściciel: {self.owner}\\nStan konta: {self.balance}\")\n",
    "    \n",
    "my_account = BankAccount(\"Magda\", 6000)\n",
    "my_account.display_balance()"
   ]
  },
  {
   "cell_type": "markdown",
   "metadata": {
    "slideshow": {
     "slide_type": "slide"
    }
   },
   "source": [
    "**Blok 2: Klasa BankAccount - Zadanie 5: Tworzenie i testowanie instancji**\n",
    "\n",
    "Utwórz instancję `account1 = BankAccount(\"Anna\", 1000)`, wykonaj wpłatę 500, wypłatę 300 i wyświetl stan konta."
   ]
  },
  {
   "cell_type": "code",
   "execution_count": 65,
   "metadata": {
    "slideshow": {
     "slide_type": "slide"
    }
   },
   "outputs": [
    {
     "name": "stdout",
     "output_type": "stream",
     "text": [
      "Właściciel: Anna\n",
      "Stan konta: 1200\n"
     ]
    }
   ],
   "source": [
    "account1 = BankAccount(\"Anna\", 1000)\n",
    "account1.deposit(500)\n",
    "account1.withdraw(300)\n",
    "account1.display_balance()"
   ]
  },
  {
   "cell_type": "markdown",
   "metadata": {
    "slideshow": {
     "slide_type": "slide"
    }
   },
   "source": [
    "**Blok 2: Klasa BankAccount - Zadanie 6: Atrybut klasowy**\n",
    "\n",
    "Dodaj atrybut klasowy `bank_name` o wartości \"PyBank\" i wypisz go z instancji oraz z klasy."
   ]
  },
  {
   "cell_type": "code",
   "execution_count": null,
   "metadata": {
    "slideshow": {
     "slide_type": "slide"
    }
   },
   "outputs": [
    {
     "name": "stdout",
     "output_type": "stream",
     "text": [
      "Bank name from instance: PyBank\n",
      "Bank name from clas: PyBank\n"
     ]
    }
   ],
   "source": [
    "class BankAccount:\n",
    "\n",
    "    bank_name = \"PayBank\"\n",
    "\n",
    "    def __init__(self, owner: str, balance:float = 0):\n",
    "        self.owner = owner\n",
    "        self.balance = balance\n",
    "    \n",
    "    def deposit(self,amount):\n",
    "        self.balance += amount\n",
    "        return self.balance\n",
    "    \n",
    "    def withdraw(self,amount):\n",
    "        if self.balance >= amount:\n",
    "            self.balance -= amount\n",
    "        else:\n",
    "            print(\"Niewystarczające środki na koncie\")\n",
    "        return self.balance\n",
    "    \n",
    "    def display_balance(self):\n",
    "        return print(f\"Właściciel: {self.owner}\\nStan konta: {self.balance}\")\n",
    "\n",
    "bank = BankAccount(\"Magda\")\n",
    "print(f\"Bank name from instance: {bank.bank_name}\")\n",
    "print(f\"Bank name from clas: {BankAccount.bank_name}\")"
   ]
  },
  {
   "cell_type": "markdown",
   "metadata": {
    "slideshow": {
     "slide_type": "slide"
    }
   },
   "source": [
    "**Blok 2: Klasa BankAccount - Zadanie 7: Modyfikacja atrybutu klasowego i usuwanie atrybutu**\n",
    "\n",
    "Zmień `bank_name` na \"SecureBank\", a następnie usuń atrybut `owner` z instancji i spróbuj go wypisać. Obsłuż wyjątek `AttributeError`."
   ]
  },
  {
   "cell_type": "code",
   "execution_count": 86,
   "metadata": {
    "slideshow": {
     "slide_type": "slide"
    }
   },
   "outputs": [
    {
     "name": "stdout",
     "output_type": "stream",
     "text": [
      "Atrybut nie istnieje!\n"
     ]
    }
   ],
   "source": [
    "BankAccount.bank_name = \"SecureBank\"\n",
    "\n",
    "try:\n",
    "    del bank.owner\n",
    "    print(bank.owner)\n",
    "except AttributeError as e:\n",
    "    print(\"Atrybut nie istnieje!\")\n"
   ]
  },
  {
   "cell_type": "markdown",
   "metadata": {
    "slideshow": {
     "slide_type": "slide"
    }
   },
   "source": [
    "**Blok 3: Klasa Robot - Zadanie 1: Inicjalizacja klasy**\n",
    "\n",
    "Utwórz klasę `Robot` z metodą `__init__()`, która przyjmuje argument `name` i ustawia atrybut `energy` na 100."
   ]
  },
  {
   "cell_type": "code",
   "execution_count": null,
   "metadata": {
    "slideshow": {
     "slide_type": "slide"
    }
   },
   "outputs": [],
   "source": [
    "class Robot:\n",
    "\n",
    "    def __init__(self, name:str):\n",
    "        self.name = name\n",
    "        self.energy = 100\n",
    "\n"
   ]
  },
  {
   "cell_type": "markdown",
   "metadata": {
    "slideshow": {
     "slide_type": "slide"
    }
   },
   "source": [
    "**Blok 3: Klasa Robot - Zadanie 2: Metoda powitania**\n",
    "\n",
    "Dodaj metodę `greet()`, która wypisuje: \"Cześć, jestem [name]!\"."
   ]
  },
  {
   "cell_type": "code",
   "execution_count": null,
   "metadata": {
    "slideshow": {
     "slide_type": "slide"
    }
   },
   "outputs": [],
   "source": [
    "class Robot:\n",
    "\n",
    "    def __init__(self, name:str):\n",
    "        self.name = name\n",
    "        self.energy = 100\n",
    "\n",
    "    def greet(self):\n",
    "        return print(f\"Cześć, jestem {self.name}\")"
   ]
  },
  {
   "cell_type": "markdown",
   "metadata": {
    "slideshow": {
     "slide_type": "slide"
    }
   },
   "source": [
    "**Blok 3: Klasa Robot - Zadanie 3: Symulacja pracy**\n",
    "\n",
    "Dodaj metodę `work(hours)`, która zmniejsza atrybut `energy` o `hours * 10` (nie pozwól, aby spadła poniżej 0) i wypisuje pozostałą energię."
   ]
  },
  {
   "cell_type": "code",
   "execution_count": 88,
   "metadata": {
    "slideshow": {
     "slide_type": "slide"
    }
   },
   "outputs": [
    {
     "name": "stdout",
     "output_type": "stream",
     "text": [
      "Cześć, jestem Robot\n",
      "Pozostała energia: 70 %\n"
     ]
    }
   ],
   "source": [
    "class Robot:\n",
    "\n",
    "    def __init__(self, name:str):\n",
    "        self.name = name\n",
    "        self.energy = 100\n",
    "\n",
    "    def greet(self):\n",
    "        return print(f\"Cześć, jestem {self.name}\")\n",
    "    \n",
    "    def work(self,hours):\n",
    "        self.energy -= hours * 10\n",
    "        if self.energy > 0:\n",
    "            return print(f\"Pozostała energia: {self.energy} %\")\n",
    "        else:\n",
    "            return print(\"Za mało energii!!\")\n",
    "\n",
    "robot = Robot(\"Robot\")\n",
    "robot.greet()\n",
    "robot.work(3)"
   ]
  },
  {
   "cell_type": "markdown",
   "metadata": {
    "slideshow": {
     "slide_type": "slide"
    }
   },
   "source": [
    "**Blok 3: Klasa Robot - Zadanie 4: Metoda ładowania**\n",
    "\n",
    "Dodaj metodę `recharge()`, która ustawia `energy` z powrotem do 100 i wypisuje komunikat o naładowaniu."
   ]
  },
  {
   "cell_type": "code",
   "execution_count": 89,
   "metadata": {
    "slideshow": {
     "slide_type": "slide"
    }
   },
   "outputs": [
    {
     "name": "stdout",
     "output_type": "stream",
     "text": [
      "Naładowano do 100 % \n"
     ]
    }
   ],
   "source": [
    "class Robot:\n",
    "\n",
    "    def __init__(self, name:str):\n",
    "        self.name = name\n",
    "        self.energy = 100\n",
    "\n",
    "    def greet(self):\n",
    "        return print(f\"Cześć, jestem {self.name}\")\n",
    "    \n",
    "    def work(self,hours):\n",
    "        self.energy -= hours * 10\n",
    "        if self.energy > 0:\n",
    "            return print(f\"Pozostała energia: {self.energy} %\")\n",
    "        else:\n",
    "            return print(\"Za mało energii!!\")\n",
    "        \n",
    "    def recharge(self):\n",
    "        self.energy = 100\n",
    "        return print(f\"Naładowano do {self.energy} % \")\n",
    "\n",
    "robot = Robot(\"Robot\")\n",
    "robot.recharge()"
   ]
  },
  {
   "cell_type": "markdown",
   "metadata": {
    "slideshow": {
     "slide_type": "slide"
    }
   },
   "source": [
    "**Blok 3: Klasa Robot - Zadanie 5: Testowanie zachowania**\n",
    "\n",
    "Utwórz instancję `r1 = Robot(\"R2-D2\")`, wywołaj `greet()`, `work(3)` i `recharge()`."
   ]
  },
  {
   "cell_type": "code",
   "execution_count": 90,
   "metadata": {
    "slideshow": {
     "slide_type": "slide"
    }
   },
   "outputs": [
    {
     "name": "stdout",
     "output_type": "stream",
     "text": [
      "Cześć, jestem R2-D2\n",
      "Pozostała energia: 70 %\n",
      "Naładowano do 100 % \n"
     ]
    }
   ],
   "source": [
    "r1 = Robot(\"R2-D2\")\n",
    "r1.greet()\n",
    "r1.work(3)\n",
    "r1.recharge()"
   ]
  },
  {
   "cell_type": "markdown",
   "metadata": {
    "slideshow": {
     "slide_type": "slide"
    }
   },
   "source": [
    "**Blok 3: Klasa Robot - Zadanie 6: Atrybut zliczający instancje**\n",
    "\n",
    "Dodaj atrybut klasowy `robot_count` inicjalizowany na 0 i zwiększaj go w metodzie `__init__()`. Utwórz dodatkową instancję i wypisz wartość `robot_count`."
   ]
  },
  {
   "cell_type": "code",
   "execution_count": 96,
   "metadata": {
    "slideshow": {
     "slide_type": "slide"
    }
   },
   "outputs": [
    {
     "name": "stdout",
     "output_type": "stream",
     "text": [
      "Liczba robotów: 1\n"
     ]
    }
   ],
   "source": [
    "class Robot:\n",
    "\n",
    "    robot_count = 0\n",
    "    \n",
    "    def __init__(self, name:str):\n",
    "        self.name = name\n",
    "        self.energy = 100\n",
    "        self.robot_count += 1\n",
    "\n",
    "    def greet(self):\n",
    "        return print(f\"Cześć, jestem {self.name}\")\n",
    "    \n",
    "    def work(self,hours):\n",
    "        self.energy -= hours * 10\n",
    "        if self.energy > 0:\n",
    "            return print(f\"Pozostała energia: {self.energy} %\")\n",
    "        else:\n",
    "            return print(\"Za mało energii!!\")\n",
    "        \n",
    "    def recharge(self):\n",
    "        self.energy = 100\n",
    "        return print(f\"Naładowano do {self.energy} % \")\n",
    "    \n",
    "r2 = Robot(\"X\")\n",
    "print(f\"Liczba robotów: {r2.robot_count}\")"
   ]
  },
  {
   "cell_type": "markdown",
   "metadata": {
    "slideshow": {
     "slide_type": "slide"
    }
   },
   "source": [
    "**Blok 3: Klasa Robot - Zadanie 7: Usuwanie atrybutu i obsługa błędu**\n",
    "\n",
    "Usuń atrybut `name` z instancji `r1` i spróbuj wywołać metodę `greet()`. Obsłuż wyjątek `AttributeError` i wypisz komunikat: \"Nie można powitać – atrybut 'name' został usunięty!\"."
   ]
  },
  {
   "cell_type": "code",
   "execution_count": 97,
   "metadata": {
    "slideshow": {
     "slide_type": "slide"
    }
   },
   "outputs": [
    {
     "name": "stdout",
     "output_type": "stream",
     "text": [
      "Nie można powitać - atrybut 'name' został usunięty!\n"
     ]
    }
   ],
   "source": [
    "try:\n",
    "    del r1.name\n",
    "    r1.greet()\n",
    "except AttributeError as e:\n",
    "    print(\"Nie można powitać - atrybut 'name' został usunięty!\")"
   ]
  },
  {
   "cell_type": "markdown",
   "metadata": {
    "slideshow": {
     "slide_type": "slide"
    }
   },
   "source": [
    "**Blok 4: Klasa Book - Zadanie 1: Konstruktor klasy**\n",
    "\n",
    "Utwórz klasę `Book` z metodą `__init__()`, która przyjmuje argumenty: `title`, `author` oraz `pages`."
   ]
  },
  {
   "cell_type": "code",
   "execution_count": 98,
   "metadata": {
    "slideshow": {
     "slide_type": "slide"
    }
   },
   "outputs": [],
   "source": [
    "class Book:\n",
    "\n",
    "    def __init__(self,title:str,author:str,pages:int):\n",
    "        self.title = title\n",
    "        self.author = author\n",
    "        self.pages = pages"
   ]
  },
  {
   "cell_type": "markdown",
   "metadata": {
    "slideshow": {
     "slide_type": "slide"
    }
   },
   "source": [
    "**Blok 4: Klasa Book - Zadanie 2: Metoda opisu książki**\n",
    "\n",
    "Dodaj metodę `description()`, która zwraca łańcuch znaków w formacie:\n",
    "\"Tytuł: [title], Autor: [author], Liczba stron: [pages]\"."
   ]
  },
  {
   "cell_type": "code",
   "execution_count": 17,
   "metadata": {
    "slideshow": {
     "slide_type": "slide"
    }
   },
   "outputs": [
    {
     "data": {
      "text/plain": [
       "'Tytuł: Problem Trzech ciał, Autor: Cixin Liu, Liczba stron: 1000'"
      ]
     },
     "execution_count": 17,
     "metadata": {},
     "output_type": "execute_result"
    }
   ],
   "source": [
    "class Book:\n",
    "\n",
    "    def __init__(self,title:str,author:str,pages:int):\n",
    "        self.title = title\n",
    "        self.author = author\n",
    "        self.pages = pages\n",
    "\n",
    "    def description(self):\n",
    "        return \"Tytuł: \" +  self.title + \", Autor: \" + self.author + \", Liczba stron: \" + str(self.pages)\n",
    "\n",
    "book1 = Book(\"Problem Trzech ciał\",\"Cixin Liu\", 1000)\n",
    "book1.description()"
   ]
  },
  {
   "cell_type": "markdown",
   "metadata": {
    "slideshow": {
     "slide_type": "slide"
    }
   },
   "source": [
    "**Blok 4: Klasa Book - Zadanie 3: Atrybut klasowy**\n",
    "\n",
    "Dodaj atrybut klasowy `genre` o wartości \"Literatura\"."
   ]
  },
  {
   "cell_type": "code",
   "execution_count": null,
   "metadata": {
    "slideshow": {
     "slide_type": "slide"
    }
   },
   "outputs": [],
   "source": [
    "class Book:\n",
    "\n",
    "    genre = \"Literatura\"\n",
    "    \n",
    "    def __init__(self,title:str,author:str,pages:int):\n",
    "        self.title = title\n",
    "        self.author = author\n",
    "        self.pages = pages\n",
    "\n",
    "    def description(self):\n",
    "        return \"Tytuł: \" +  self.title + \", Autor: \" + self.author + \", Liczba stron: \" + str(self.pages)"
   ]
  },
  {
   "cell_type": "markdown",
   "metadata": {
    "slideshow": {
     "slide_type": "slide"
    }
   },
   "source": [
    "**Blok 4: Klasa Book - Zadanie 4: Aktualizacja liczby stron**\n",
    "\n",
    "Dodaj metodę `update_pages(new_page_count)`, która aktualizuje wartość `pages` i wypisuje komunikat o zmianie."
   ]
  },
  {
   "cell_type": "code",
   "execution_count": 3,
   "metadata": {
    "slideshow": {
     "slide_type": "slide"
    }
   },
   "outputs": [
    {
     "name": "stdout",
     "output_type": "stream",
     "text": [
      "Zaktualizowano liczbę stron na: 1200\n",
      "Tytuł: Problem Trzech ciał, Autor: Cixin Liu, Liczba stron: 1200\n"
     ]
    }
   ],
   "source": [
    "class Book:\n",
    "\n",
    "    genre = \"Literatura\"\n",
    "    \n",
    "    def __init__(self,title:str,author:str,pages:int):\n",
    "        self.title = title\n",
    "        self.author = author\n",
    "        self.pages = pages\n",
    "\n",
    "    def description(self):\n",
    "        return \"Tytuł: \" +  self.title + \", Autor: \" + self.author + \", Liczba stron: \" + str(self.pages)\n",
    "    \n",
    "    def update_pages(self, new_page_count:int):\n",
    "        self.pages = new_page_count\n",
    "        return print(f\"Zaktualizowano liczbę stron na: {self.pages}\")\n",
    "    \n",
    "book1 = Book(\"Problem Trzech ciał\",\"Cixin Liu\", 1000)\n",
    "book1.update_pages(1200)\n",
    "print(book1.description())\n"
   ]
  },
  {
   "cell_type": "markdown",
   "metadata": {
    "slideshow": {
     "slide_type": "slide"
    }
   },
   "source": [
    "**Blok 4: Klasa Book - Zadanie 5: Tworzenie instancji i prezentacja opisu**\n",
    "\n",
    "Utwórz instancję `book1 = Book(\"Python w praktyce\", \"Jan Kowalski\", 350)` i wypisz wynik metody `description()`."
   ]
  },
  {
   "cell_type": "code",
   "execution_count": 4,
   "metadata": {
    "slideshow": {
     "slide_type": "slide"
    }
   },
   "outputs": [
    {
     "name": "stdout",
     "output_type": "stream",
     "text": [
      "Tytuł: Python w praktyce, Autor: Jan Kowalski, Liczba stron: 350\n"
     ]
    }
   ],
   "source": [
    "book1 = Book(\"Python w praktyce\", \"Jan Kowalski\", 350)\n",
    "print(book1.description())"
   ]
  },
  {
   "cell_type": "markdown",
   "metadata": {
    "slideshow": {
     "slide_type": "slide"
    }
   },
   "source": [
    "**Blok 4: Klasa Book - Zadanie 6: Modyfikacja atrybutu klasowego**\n",
    "\n",
    "Zmień wartość `genre` na \"Edukacyjna\" i wypisz ją dla instancji `book1`."
   ]
  },
  {
   "cell_type": "code",
   "execution_count": 5,
   "metadata": {
    "slideshow": {
     "slide_type": "slide"
    }
   },
   "outputs": [
    {
     "name": "stdout",
     "output_type": "stream",
     "text": [
      "Edukacja\n"
     ]
    }
   ],
   "source": [
    "Book.genre=\"Edukacja\"\n",
    "print(book1.genre)"
   ]
  },
  {
   "cell_type": "markdown",
   "metadata": {
    "slideshow": {
     "slide_type": "slide"
    }
   },
   "source": [
    "**Blok 4: Klasa Book - Zadanie 7: Usuwanie atrybutu i obsługa wyjątku**\n",
    "\n",
    "Usuń atrybut `author` z instancji `book1` i spróbuj wywołać metodę `description()`. W razie wystąpienia wyjątku wypisz komunikat: \"Atrybut 'author' nie istnieje – nie można wyświetlić pełnego opisu!\"."
   ]
  },
  {
   "cell_type": "code",
   "execution_count": 6,
   "metadata": {
    "slideshow": {
     "slide_type": "slide"
    }
   },
   "outputs": [
    {
     "name": "stdout",
     "output_type": "stream",
     "text": [
      "Atrybut 'autor' nie istnieje - nie można wyświetlić pełnego opisu!\n"
     ]
    }
   ],
   "source": [
    "try:\n",
    "    del book1.author\n",
    "    book1.description()\n",
    "except AttributeError as e:\n",
    "    print(\"Atrybut 'autor' nie istnieje - nie można wyświetlić pełnego opisu!\")"
   ]
  },
  {
   "cell_type": "markdown",
   "metadata": {
    "slideshow": {
     "slide_type": "slide"
    }
   },
   "source": [
    "**Blok 5: Klasa CoffeeMachine - Zadanie 1: Definicja klasy i konstruktora**\n",
    "\n",
    "Utwórz klasę `CoffeeMachine` z metodą `__init__()`, która przyjmuje argumenty: `brand`, `water` (poziom wody w ml) oraz `beans` (ilość kawy w gramach)."
   ]
  },
  {
   "cell_type": "code",
   "execution_count": null,
   "metadata": {
    "slideshow": {
     "slide_type": "slide"
    }
   },
   "outputs": [],
   "source": [
    "class CoffeMachine:\n",
    "\n",
    "    def __init__(self,brand:str,water:float, beans:float):\n",
    "        self.brand = brand\n",
    "        self.water = water\n",
    "        self.beans = beans"
   ]
  },
  {
   "cell_type": "markdown",
   "metadata": {
    "slideshow": {
     "slide_type": "slide"
    }
   },
   "source": [
    "**Blok 5: Klasa CoffeeMachine - Zadanie 2: Metoda wyświetlająca status**\n",
    "\n",
    "Dodaj metodę `display_status()`, która wypisuje stan maszyny w formacie:\n",
    "\"Marka: [brand], Woda: [water] ml, Kawa: [beans] g\"."
   ]
  },
  {
   "cell_type": "code",
   "execution_count": null,
   "metadata": {
    "slideshow": {
     "slide_type": "slide"
    }
   },
   "outputs": [],
   "source": [
    "class CoffeMachine:\n",
    "\n",
    "    def __init__(self,brand:str,water:float, beans:float):\n",
    "        self.brand = brand\n",
    "        self.water = water\n",
    "        self.beans = beans\n",
    "\n"
   ]
  },
  {
   "cell_type": "markdown",
   "metadata": {
    "slideshow": {
     "slide_type": "slide"
    }
   },
   "source": [
    "**Blok 5: Klasa CoffeeMachine - Zadanie 3: Atrybut klasowy**\n",
    "\n",
    "Dodaj atrybut klasowy `machine_type` o wartości \"Automatyczna\"."
   ]
  },
  {
   "cell_type": "code",
   "execution_count": 32,
   "metadata": {
    "slideshow": {
     "slide_type": "slide"
    }
   },
   "outputs": [],
   "source": []
  },
  {
   "cell_type": "markdown",
   "metadata": {
    "slideshow": {
     "slide_type": "slide"
    }
   },
   "source": [
    "**Blok 5: Klasa CoffeeMachine - Zadanie 4: Metoda do parzenia kawy**\n",
    "\n",
    "Dodaj metodę `brew_coffee()`, która sprawdza, czy w maszynie jest co najmniej 50 ml wody i 10 g kawy. Jeśli tak, zmniejsz oba zasoby odpowiednio i wypisz \"Twoja kawa jest gotowa!\". W przeciwnym razie wypisz komunikat o braku zasobów."
   ]
  },
  {
   "cell_type": "code",
   "execution_count": 33,
   "metadata": {
    "slideshow": {
     "slide_type": "slide"
    }
   },
   "outputs": [],
   "source": [
    "    "
   ]
  },
  {
   "cell_type": "markdown",
   "metadata": {
    "slideshow": {
     "slide_type": "slide"
    }
   },
   "source": [
    "**Blok 5: Klasa CoffeeMachine - Zadanie 5: Testowanie metody parzenia kawy**\n",
    "\n",
    "Utwórz instancję `machine1 = CoffeeMachine(\"Nespresso\", 200, 50)`, wywołaj metodę `brew_coffee()` a następnie `display_status()`."
   ]
  },
  {
   "cell_type": "code",
   "execution_count": 34,
   "metadata": {
    "slideshow": {
     "slide_type": "slide"
    }
   },
   "outputs": [
    {
     "name": "stdout",
     "output_type": "stream",
     "text": [
      "Twoja kawa jest gotowa!\n",
      "Marka: Nespresso, Woda: 150 ml, Kawa: 40 g\n"
     ]
    }
   ],
   "source": []
  },
  {
   "cell_type": "markdown",
   "metadata": {
    "slideshow": {
     "slide_type": "slide"
    }
   },
   "source": [
    "**Blok 5: Klasa CoffeeMachine - Zadanie 6: Metoda uzupełniania wody**\n",
    "\n",
    "Dodaj metodę `refill_water(amount)`, która zwiększa wartość `water` o podaną ilość i wypisuje komunikat."
   ]
  },
  {
   "cell_type": "code",
   "execution_count": 35,
   "metadata": {
    "slideshow": {
     "slide_type": "slide"
    }
   },
   "outputs": [],
   "source": []
  },
  {
   "cell_type": "markdown",
   "metadata": {
    "slideshow": {
     "slide_type": "slide"
    }
   },
   "source": [
    "**Blok 5: Klasa CoffeeMachine - Zadanie 7: Obsługa usunięcia atrybutu**\n",
    "\n",
    "Usuń atrybut `beans` z instancji `machine1` i spróbuj wywołać metodę `brew_coffee()`. Obsłuż wyjątek `AttributeError` i wypisz komunikat: \"Atrybut 'beans' został usunięty – nie można zaparzyć kawy!\"."
   ]
  },
  {
   "cell_type": "code",
   "execution_count": 36,
   "metadata": {
    "slideshow": {
     "slide_type": "slide"
    }
   },
   "outputs": [
    {
     "name": "stdout",
     "output_type": "stream",
     "text": [
      "Atrybut 'beans' został usunięty – nie można zaparzyć kawy!\n"
     ]
    }
   ],
   "source": []
  },
  {
   "cell_type": "markdown",
   "metadata": {
    "slideshow": {
     "slide_type": "slide"
    }
   },
   "source": [
    "**Blok 6: Klasa Movie - Zadanie 1: Definicja klasy i konstruktora**\n",
    "\n",
    "Utwórz klasę `Movie` z metodą `__init__()`, która przyjmuje argumenty: `title`, `director` oraz `duration` (czas trwania w minutach)."
   ]
  },
  {
   "cell_type": "code",
   "execution_count": 37,
   "metadata": {
    "slideshow": {
     "slide_type": "slide"
    }
   },
   "outputs": [],
   "source": []
  },
  {
   "cell_type": "markdown",
   "metadata": {
    "slideshow": {
     "slide_type": "slide"
    }
   },
   "source": [
    "**Blok 6: Klasa Movie - Zadanie 2: Metoda opisu filmu**\n",
    "\n",
    "Dodaj metodę `description()`, która zwraca łańcuch znaków w formacie:\n",
    "\"Film: [title], Reżyser: [director], Czas trwania: [duration] minut\"."
   ]
  },
  {
   "cell_type": "code",
   "execution_count": 38,
   "metadata": {
    "slideshow": {
     "slide_type": "slide"
    }
   },
   "outputs": [],
   "source": []
  },
  {
   "cell_type": "markdown",
   "metadata": {
    "slideshow": {
     "slide_type": "slide"
    }
   },
   "source": [
    "**Blok 6: Klasa Movie - Zadanie 3: Atrybut klasowy**\n",
    "\n",
    "Dodaj atrybut klasowy `rating_scale` o wartości \"PG-13\"."
   ]
  },
  {
   "cell_type": "code",
   "execution_count": 39,
   "metadata": {
    "slideshow": {
     "slide_type": "slide"
    }
   },
   "outputs": [],
   "source": []
  },
  {
   "cell_type": "markdown",
   "metadata": {
    "slideshow": {
     "slide_type": "slide"
    }
   },
   "source": [
    "**Blok 6: Klasa Movie - Zadanie 4: Metoda aktualizacji czasu trwania**\n",
    "\n",
    "Dodaj metodę `update_duration(new_duration)`, która aktualizuje wartość `duration` i wypisuje komunikat o zmianie."
   ]
  },
  {
   "cell_type": "code",
   "execution_count": 40,
   "metadata": {
    "slideshow": {
     "slide_type": "slide"
    }
   },
   "outputs": [],
   "source": []
  },
  {
   "cell_type": "markdown",
   "metadata": {
    "slideshow": {
     "slide_type": "slide"
    }
   },
   "source": [
    "**Blok 6: Klasa Movie - Zadanie 5: Testowanie instancji**\n",
    "\n",
    "Utwórz instancję `movie1 = Movie(\"Przygoda\", \"Jan Nowak\", 120)` i wypisz wynik metody `description()`."
   ]
  },
  {
   "cell_type": "code",
   "execution_count": 41,
   "metadata": {
    "slideshow": {
     "slide_type": "slide"
    }
   },
   "outputs": [
    {
     "name": "stdout",
     "output_type": "stream",
     "text": [
      "Film: Przygoda, Reżyser: Jan Nowak, Czas trwania: 120 minut\n"
     ]
    }
   ],
   "source": []
  },
  {
   "cell_type": "markdown",
   "metadata": {
    "slideshow": {
     "slide_type": "slide"
    }
   },
   "source": [
    "**Blok 6: Klasa Movie - Zadanie 6: Modyfikacja atrybutu klasowego**\n",
    "\n",
    "Zmień wartość `rating_scale` na \"R\" i wypisz ją przy użyciu instancji `movie1`."
   ]
  },
  {
   "cell_type": "code",
   "execution_count": 42,
   "metadata": {
    "slideshow": {
     "slide_type": "slide"
    }
   },
   "outputs": [
    {
     "name": "stdout",
     "output_type": "stream",
     "text": [
      "Rating: R\n"
     ]
    }
   ],
   "source": []
  },
  {
   "cell_type": "markdown",
   "metadata": {
    "slideshow": {
     "slide_type": "slide"
    }
   },
   "source": [
    "**Blok 6: Klasa Movie - Zadanie 7: Obsługa usunięcia atrybutu**\n",
    "\n",
    "Usuń atrybut `director` z instancji `movie1` i spróbuj wywołać metodę `description()`. Obsłuż wyjątek `AttributeError` i wypisz komunikat: \"Informacje o reżyserze są niedostępne – nie można wyświetlić pełnego opisu!\"."
   ]
  },
  {
   "cell_type": "code",
   "execution_count": 43,
   "metadata": {
    "slideshow": {
     "slide_type": "slide"
    }
   },
   "outputs": [
    {
     "name": "stdout",
     "output_type": "stream",
     "text": [
      "Informacje o reżyserze są niedostępne – nie można wyświetlić pełnego opisu!\n"
     ]
    }
   ],
   "source": []
  }
 ],
 "metadata": {
  "celltoolbar": "Slideshow",
  "kernelspec": {
   "display_name": "Python 3",
   "language": "python",
   "name": "python3"
  },
  "language_info": {
   "codemirror_mode": {
    "name": "ipython",
    "version": 3
   },
   "file_extension": ".py",
   "mimetype": "text/x-python",
   "name": "python",
   "nbconvert_exporter": "python",
   "pygments_lexer": "ipython3",
   "version": "3.13.3"
  }
 },
 "nbformat": 4,
 "nbformat_minor": 4
}
