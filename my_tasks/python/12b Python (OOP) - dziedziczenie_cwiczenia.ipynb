{
 "cells": [
  {
   "cell_type": "markdown",
   "metadata": {
    "slideshow": {
     "slide_type": "slide"
    }
   },
   "source": [
    "# Zadania z dziedziczenia w Pythonie\n",
    "\n",
    "Notebook zawiera **24 zadania** podzielone na **4 bloki** (po 6 zadań w bloku). Każdy blok rozwija bazową klasę i stopniowo dodaje nowe klasy, metody, atrybuty oraz interakcje między nimi.\n",
    "\n",
    "Powodzenia!"
   ]
  },
  {
   "cell_type": "markdown",
   "metadata": {
    "slideshow": {
     "slide_type": "slide"
    }
   },
   "source": [
    "## Blok 1: Konto bankowe i transakcje"
   ]
  },
  {
   "cell_type": "markdown",
   "metadata": {},
   "source": [
    "**Zadanie 1:** Stwórz klasę bazową `KontoBankowe` z atrybutami: `nazwa`, `stan` (domyślnie 0) oraz metodami: `info()`, `wplac(ilosc)` i `wyplac(ilosc)`."
   ]
  },
  {
   "cell_type": "code",
   "execution_count": 4,
   "metadata": {},
   "outputs": [],
   "source": [
    "class KontoBankowe():\n",
    "    def __init__(self,nazwa:str,stan:float = 0):\n",
    "        self.nazwa = nazwa\n",
    "        self.stan = stan\n",
    "    \n",
    "    def info(self):\n",
    "        return self.stan\n",
    "    \n",
    "    def wplac(self,ilosc:float):\n",
    "        return self.stan + ilosc\n",
    "    \n",
    "    def wyplac(self,ilosc:float):\n",
    "        # if self.stan >= ilosc:\n",
    "        return self.stan - ilosc\n",
    "        # else:\n",
    "        #     print(f\"Za mało środków na koncie! Stan konta: {self.stan}\")"
   ]
  },
  {
   "cell_type": "markdown",
   "metadata": {},
   "source": [
    "**Zadanie 2:** Stwórz klasę pochodną `KontoDebetowe`, dziedziczącą po `KontoBankowe`. Dodaj atrybut `limit` (domyślnie 0) i nadpisz metodę `wyplac(ilosc)`, aby umożliwić korzystanie z debetu (stan może być ujemny do wartości limitu)."
   ]
  },
  {
   "cell_type": "code",
   "execution_count": null,
   "metadata": {},
   "outputs": [
    {
     "name": "stdout",
     "output_type": "stream",
     "text": [
      "Brak wystarczających środków na koncie\n"
     ]
    }
   ],
   "source": [
    "class KontoDebetowe(KontoBankowe):\n",
    "    def __init__(self, nazwa, stan=0, limit=0):\n",
    "       super().__init__(nazwa,stan)\n",
    "       self.limit = limit\n",
    "    \n",
    "    def wyplac(self, ilosc: float):\n",
    "        if (self.stan - ilosc) < (-self.limit):\n",
    "            print(\"Brak wystarczających środków na koncie\")\n",
    "        else:\n",
    "            return super().wyplac()\n",
    "\n",
    "account = KontoDebetowe(\"Jan Kowalski\", 0, 1000)\n",
    "account.info()\n",
    "account.wyplac(1200)"
   ]
  },
  {
   "cell_type": "markdown",
   "metadata": {},
   "source": [
    "**Zadanie 3:** Rozwiń klasę `KontoDebetowe`, dodając atrybut `history` (lista) do zapisywania operacji oraz metodę `print_history()`, która wypisuje historię transakcji."
   ]
  },
  {
   "cell_type": "code",
   "execution_count": null,
   "metadata": {},
   "outputs": [
    {
     "name": "stdout",
     "output_type": "stream",
     "text": [
      "Historia transakcji:\n",
      "- Wypłacono: 500 PLN\n",
      "- Wpłacono: 1000 PLN\n"
     ]
    }
   ],
   "source": [
    "class KontoDebetowe(KontoBankowe):\n",
    "    def __init__(self, nazwa, stan=0, limit=0):\n",
    "       super().__init__(nazwa,stan)\n",
    "       self.limit = limit\n",
    "       self.history = []\n",
    "    \n",
    "    def wyplac(self, ilosc: float):\n",
    "        if ilosc <= 0:\n",
    "            self.history.append(f\"Nieudana próba wypłaty: {ilosc} PLN (wartość nieprawidłowa)\")\n",
    "            return\n",
    "        if (self.stan - ilosc) < (-self.limit):\n",
    "            print(\"Brak wystarczających środków na koncie\")\n",
    "            self.history.append(f\"Nieudana wypłata: {ilosc} PLN (przekroczono limit debetu)\")\n",
    "        else:\n",
    "            self.stan -= ilosc\n",
    "            self.history.append(f\"Wpłacono: {ilosc} PLN\")\n",
    "        \n",
    "    def wplac(self, ilosc: float):\n",
    "        self.stan += ilosc\n",
    "        self.history.append(f\"Wpłacono: {ilosc} PLN\")\n",
    "\n",
    "    def print_history(self):\n",
    "        if not self.history:\n",
    "            print(\"Brak historii transakcji.\")\n",
    "        else:\n",
    "            print(\"Historia transakcji:\")\n",
    "            for operacja in self.history:\n",
    "                print(\"-\", operacja)\n",
    "    \n",
    "account = KontoDebetowe(\"Jan Kowalski\", 0, 1000)\n",
    "account.info()\n",
    "account.wyplac(500)\n",
    "account.wplac(1000)\n",
    "account.print_history()"
   ]
  },
  {
   "cell_type": "markdown",
   "metadata": {},
   "source": [
    "**Zadanie 4:** Zmodyfikuj metody `wplac()` i `wyplac()` w klasie `KontoBankowe` tak, aby przy każdej operacji (jeśli obiekt posiada atrybut `history`) zapisywać tę operację w historii. (Jeśli obiekt posiada atrybut `history`, zapisz operację.)"
   ]
  },
  {
   "cell_type": "code",
   "execution_count": null,
   "metadata": {},
   "outputs": [],
   "source": [
    "class KontoBankowe():\n",
    "    def __init__(self,nazwa:str,stan:float = 0):\n",
    "        self.nazwa = nazwa\n",
    "        self.stan = stan\n",
    "    \n",
    "    def info(self):\n",
    "        return self.stan\n",
    "    \n",
    "    def wplac(self,ilosc:float):\n",
    "        try:\n",
    "            if hasattr(self,\"history\"):\n",
    "                self.history.appeand(f\"Wpłacono kowtę: {ilosc} PLN\")\n",
    "                return self.stan + ilosc\n",
    "        except AttributeError as e:\n",
    "            print(f\"Atrybur histroy nie istnieje\")\n",
    "             \n",
    "    def wyplac(self,ilosc:float):\n",
    "        if hasattr(self,\"history\"):\n",
    "            self.history.appeand(f\"Wypłacono kowtę: {ilosc} PLN\")\n",
    "        return self.stan - ilosc\n",
    "        # else:\n",
    "        #     print(f\"Za mało środków na koncie! Stan konta: {self.stan}\")\n",
    "    \n",
    "account = KontoBankowe(\"Jan Kowalski\", 0)\n",
    "account.info()\n",
    "account.wyplac(500)\n",
    "account.wplac(1000)\n",
    "# account.print_history()"
   ]
  },
  {
   "cell_type": "markdown",
   "metadata": {},
   "source": [
    "**Zadanie 5:** Stwórz funkcję `simulate_transactions()`, która tworzy obiekt klasy `KontoDebetowe`, wykonuje serię wpłat i wypłat, a następnie wypisuje stan konta oraz historię transakcji."
   ]
  },
  {
   "cell_type": "code",
   "execution_count": 23,
   "metadata": {},
   "outputs": [
    {
     "name": "stdout",
     "output_type": "stream",
     "text": [
      "Historia transakcji:\n",
      "- Wpłacono: 2000 PLN\n",
      "- Wypłacono: 500 PLN\n",
      "- Wpłacono: 1000 PLN\n",
      "- Wypłacono: 1200 PLN\n"
     ]
    }
   ],
   "source": [
    "def simulate_transactions(object:KontoDebetowe):\n",
    "    object.wplac(2000)\n",
    "    object.wyplac(500)\n",
    "    object.wplac(1000)\n",
    "    object.wyplac(1200)\n",
    "    object.print_history()\n",
    "\n",
    "account2 = KontoDebetowe(\"Magda P\",1000)\n",
    "simulate_transactions(account2)   "
   ]
  },
  {
   "cell_type": "markdown",
   "metadata": {},
   "source": [
    "**Zadanie 6:** Stwórz klasę `KontoPremium`, dziedziczącą po `KontoDebetowe`, która posiada dodatkowy atrybut `premium_features` (lista) oraz metodę `add_feature(feature)`, umożliwiającą dodanie funkcji premium."
   ]
  },
  {
   "cell_type": "code",
   "execution_count": null,
   "metadata": {},
   "outputs": [
    {
     "name": "stdout",
     "output_type": "stream",
     "text": [
      "Dodano fukncję: Premium\n"
     ]
    }
   ],
   "source": [
    "class KontoPremium(KontoDebetowe):\n",
    "    def __init__(self, nazwa, stan=0, limit=0):\n",
    "        super().__init__(nazwa, stan, limit)\n",
    "        self.premium_features = []\n",
    "    \n",
    "    def add_feature(self,feature):\n",
    "        self.premium_features.append(feature)\n",
    "        print(f\"Dodano funkcję: {feature}\")\n",
    "    \n",
    "account3 = KontoPremium(\"Magda K\",1000)\n",
    "account3.add_feature(\"Premium\")\n"
   ]
  },
  {
   "cell_type": "markdown",
   "metadata": {
    "slideshow": {
     "slide_type": "slide"
    }
   },
   "source": [
    "## Blok 2: System sklepu internetowego"
   ]
  },
  {
   "cell_type": "markdown",
   "metadata": {},
   "source": [
    "**Zadanie 7:** Stwórz klasę bazową `Product` z atrybutami: `name`, `price` oraz metodą `info()`, która wypisuje informacje o produkcie."
   ]
  },
  {
   "cell_type": "code",
   "execution_count": 26,
   "metadata": {},
   "outputs": [
    {
     "name": "stdout",
     "output_type": "stream",
     "text": [
      "Nazwa produktu: Nasiona pomidora Kiwi \n",
      "Cena: 2.99\n"
     ]
    }
   ],
   "source": [
    "class Product:\n",
    "    def __init__(self, name: str, price: float):\n",
    "        self.name = name\n",
    "        self.price = price\n",
    "\n",
    "    def info(self):\n",
    "        print(f\"Nazwa produktu: {self.name} \\nCena: {self.price}\")\n",
    "\n",
    "product = Product(\"Nasiona pomidora Kiwi\", 2.99)\n",
    "product.info()"
   ]
  },
  {
   "cell_type": "markdown",
   "metadata": {},
   "source": [
    "**Zadanie 8:** Stwórz klasę pochodną `DigitalProduct`, dziedziczącą po `Product`, dodającą atrybut `file_size` oraz metodę `download()`, która symuluje pobieranie produktu."
   ]
  },
  {
   "cell_type": "code",
   "execution_count": null,
   "metadata": {},
   "outputs": [
    {
     "name": "stdout",
     "output_type": "stream",
     "text": [
      "Pobrano produkt: Produkt\n",
      "Rozmiar pliku: 10\n"
     ]
    }
   ],
   "source": [
    "class DigitalProduct(Product):\n",
    "    def __init__(self, name, price, file_size:float):\n",
    "        super().__init__(name, price)\n",
    "        self.file_size = file_size\n",
    "    \n",
    "    def download(self):\n",
    "        print(f\"Pobrano produkt: {self.name}\\nRozmiar pliku: {self.file_size}\")\n",
    "\n",
    "product2 = DigitalProduct(\"Produkt\", 23.90, 10)\n",
    "product2.download()"
   ]
  },
  {
   "cell_type": "markdown",
   "metadata": {},
   "source": [
    "**Zadanie 9:** Stwórz klasę pochodną `PhysicalProduct`, dziedziczącą po `Product`, dodającą atrybuty `weight` oraz `dimensions`, oraz metodę `calculate_shipping_cost()`, która oblicza koszt wysyłki (np. koszt = waga * 5)."
   ]
  },
  {
   "cell_type": "code",
   "execution_count": null,
   "metadata": {},
   "outputs": [
    {
     "name": "stdout",
     "output_type": "stream",
     "text": [
      "Koszt wysyłki: 64.0 PLN\n"
     ]
    }
   ],
   "source": [
    "class PhysicalProduct(Product):\n",
    "    def __init__(self, name, price, weight: float, dimension: tuple):\n",
    "        super().__init__(name, price)\n",
    "        self.weight = weight\n",
    "        self.dimension = dimension\n",
    "    \n",
    "    def calculate_shipping_cost(self):\n",
    "        shipping_cost = self.weight * 5\n",
    "        return shipping_cost\n",
    "\n",
    "product4 = PhysicalProduct(\"Produkt\", 24.99, 12.8, (2,5,6))\n",
    "print(f\"Koszt wysyłki: {product4.calculate_shipping_cost()} PLN\")"
   ]
  },
  {
   "cell_type": "markdown",
   "metadata": {},
   "source": [
    "**Zadanie 10:** Dodaj do klasy `Product` metodę `apply_discount(discount)`, która zmniejsza cenę produktu o zadany procent."
   ]
  },
  {
   "cell_type": "code",
   "execution_count": 35,
   "metadata": {},
   "outputs": [
    {
     "name": "stdout",
     "output_type": "stream",
     "text": [
      "Cena po rabacie: 10.0\n"
     ]
    }
   ],
   "source": [
    "class Product:\n",
    "    def __init__(self, name: str, price: float):\n",
    "        self.name = name\n",
    "        self.price = price\n",
    "\n",
    "    def info(self):\n",
    "        print(f\"Nazwa produktu: {self.name} \\nCena: {self.price}\")\n",
    "    \n",
    "    def apply_discount(self, discount: int):\n",
    "        return (discount/100) * self.price\n",
    "\n",
    "product5 = Product(\"Produkt\", 100)\n",
    "print(f\"Cena po rabacie: {product5.apply_discount(10)}\")"
   ]
  },
  {
   "cell_type": "markdown",
   "metadata": {},
   "source": [
    "**Zadanie 11:** Stwórz klasę `ShoppingCart` z atrybutem `products` (lista) oraz metodami `add_product(product)`, `remove_product(product)` i `total_price()`, która oblicza łączną cenę produktów w koszyku."
   ]
  },
  {
   "cell_type": "code",
   "execution_count": null,
   "metadata": {},
   "outputs": [
    {
     "data": {
      "text/plain": [
       "100"
      ]
     },
     "execution_count": 41,
     "metadata": {},
     "output_type": "execute_result"
    }
   ],
   "source": [
    "class ShoppingCart:\n",
    "    def __init__(self):\n",
    "        self.products = []\n",
    "    \n",
    "    def add_product(self, product):\n",
    "        return self.products.append(product)\n",
    "    def remove_product(self,product):\n",
    "        pass\n",
    "    def total_price(self):\n",
    "       try:\n",
    "         total = sum(x.price for x in self.products)\n",
    "         return total\n",
    "       except ArithmeticError as e:\n",
    "           print(f\"Parametr 'price' nie istenieje! Nie można zsumować koszyka!\")\n",
    "           \n",
    "cards = ShoppingCart()\n",
    "cards.add_product(product5)\n",
    "cards.total_price()           "
   ]
  },
  {
   "cell_type": "markdown",
   "metadata": {},
   "source": [
    "**Zadanie 12:** Stwórz funkcję `checkout()`, która tworzy obiekt `ShoppingCart`, dodaje kilka produktów (zarówno cyfrowych, jak i fizycznych) i wypisuje końcową kwotę do zapłaty."
   ]
  },
  {
   "cell_type": "code",
   "execution_count": 2,
   "metadata": {},
   "outputs": [
    {
     "ename": "NameError",
     "evalue": "name 'Product' is not defined",
     "output_type": "error",
     "traceback": [
      "\u001b[31m---------------------------------------------------------------------------\u001b[39m",
      "\u001b[31mNameError\u001b[39m                                 Traceback (most recent call last)",
      "\u001b[36mCell\u001b[39m\u001b[36m \u001b[39m\u001b[32mIn[2]\u001b[39m\u001b[32m, line 29\u001b[39m\n\u001b[32m     26\u001b[39m         \u001b[38;5;28mprint\u001b[39m(\u001b[33mf\u001b[39m\u001b[33m\"\u001b[39m\u001b[33mCałkowity koszt koszyka: \u001b[39m\u001b[38;5;132;01m{\u001b[39;00mproduct_card.total_price()\u001b[38;5;132;01m}\u001b[39;00m\u001b[33m\"\u001b[39m)\n\u001b[32m     28\u001b[39m product_card = ShoppingCart()\n\u001b[32m---> \u001b[39m\u001b[32m29\u001b[39m \u001b[43mproduct_card\u001b[49m\u001b[43m.\u001b[49m\u001b[43mcheckout\u001b[49m\u001b[43m(\u001b[49m\u001b[43m)\u001b[49m\n",
      "\u001b[36mCell\u001b[39m\u001b[36m \u001b[39m\u001b[32mIn[2]\u001b[39m\u001b[32m, line 16\u001b[39m, in \u001b[36mShoppingCart.checkout\u001b[39m\u001b[34m(self)\u001b[39m\n\u001b[32m     15\u001b[39m \u001b[38;5;28;01mdef\u001b[39;00m\u001b[38;5;250m \u001b[39m\u001b[34mcheckout\u001b[39m(\u001b[38;5;28mself\u001b[39m):\n\u001b[32m---> \u001b[39m\u001b[32m16\u001b[39m     produkt_card1 = \u001b[43mProduct\u001b[49m(\u001b[33m\"\u001b[39m\u001b[33mE-Book\u001b[39m\u001b[33m\"\u001b[39m, \u001b[32m20.98\u001b[39m)\n\u001b[32m     17\u001b[39m     produkt_card2 = Product(\u001b[33m\"\u001b[39m\u001b[33mLaptop\u001b[39m\u001b[33m\"\u001b[39m, \u001b[32m2350\u001b[39m)\n\u001b[32m     18\u001b[39m     produkt_card3 = Product(\u001b[33m\"\u001b[39m\u001b[33mMouse\u001b[39m\u001b[33m\"\u001b[39m, \u001b[32m50.50\u001b[39m)\n",
      "\u001b[31mNameError\u001b[39m: name 'Product' is not defined"
     ]
    }
   ],
   "source": [
    "class ShoppingCart:\n",
    "    def __init__(self):\n",
    "        self.products = []\n",
    "    \n",
    "    def add_product(self, product):\n",
    "        return self.products.append(product)\n",
    "    def remove_product(self,product):\n",
    "        pass\n",
    "    def total_price(self):\n",
    "       try:\n",
    "         total = sum(x.price for x in self.products)\n",
    "         return total\n",
    "       except AttributeError as e:\n",
    "           print(f\"Parametr 'price' nie istenieje! Nie można zsumować koszyka!\")\n",
    "    def checkout(self):\n",
    "        produkt_card1 = Product(\"E-Book\", 20.98)\n",
    "        produkt_card2 = Product(\"Laptop\", 2350)\n",
    "        produkt_card3 = Product(\"Mouse\", 50.50)\n",
    "        product_card = ShoppingCart()\n",
    "        product_card.add_product(produkt_card1)\n",
    "        print(f\"Dodano: {produkt_card1.name}\")\n",
    "        product_card.add_product(produkt_card2)\n",
    "        print(f\"Dodano: {produkt_card2.name}\")\n",
    "        product_card.add_product(produkt_card3)\n",
    "        print(f\"Dodano: {produkt_card3.name}\")\n",
    "        print(f\"Całkowity koszt koszyka: {product_card.total_price()}\")\n",
    "        \n",
    "product_card = ShoppingCart()\n",
    "product_card.checkout()\n"
   ]
  },
  {
   "cell_type": "markdown",
   "metadata": {
    "slideshow": {
     "slide_type": "slide"
    }
   },
   "source": [
    "## Blok 3: Pojazdy i mobilność"
   ]
  },
  {
   "cell_type": "markdown",
   "metadata": {},
   "source": [
    "**Zadanie 13:** Stwórz klasę bazową `Vehicle` z atrybutami: `name`, `max_speed`, `mileage` oraz metodą `info()`, która wypisuje te dane."
   ]
  },
  {
   "cell_type": "code",
   "execution_count": 13,
   "metadata": {},
   "outputs": [
    {
     "name": "stdout",
     "output_type": "stream",
     "text": [
      "Pojazd: Generic Vehicle, Maks. prędkość: 150 km/h, Przebieg: 100000 km\n"
     ]
    }
   ],
   "source": []
  },
  {
   "cell_type": "markdown",
   "metadata": {},
   "source": [
    "**Zadanie 14:** Stwórz klasę pochodną `Car`, dziedziczącą po `Vehicle`, która dodaje metodę `honk()`, wypisującą komunikat o trąbieniu."
   ]
  },
  {
   "cell_type": "code",
   "execution_count": 14,
   "metadata": {},
   "outputs": [
    {
     "name": "stdout",
     "output_type": "stream",
     "text": [
      "Pojazd: Toyota, Maks. prędkość: 180 km/h, Przebieg: 50000 km\n",
      "Toyota trąbi: Beep beep!\n"
     ]
    }
   ],
   "source": []
  },
  {
   "cell_type": "markdown",
   "metadata": {},
   "source": [
    "**Zadanie 15:** Stwórz klasę `Bus`, dziedziczącą po `Vehicle`, która posiada dodatkowy atrybut `seating_capacity` (domyślnie 50) oraz nadpisaną metodę `info()`, która wypisuje również liczbę miejsc."
   ]
  },
  {
   "cell_type": "code",
   "execution_count": 15,
   "metadata": {},
   "outputs": [
    {
     "name": "stdout",
     "output_type": "stream",
     "text": [
      "Pojazd: Volvo Bus, Maks. prędkość: 120 km/h, Przebieg: 150000 km\n",
      "Liczba miejsc: 60\n"
     ]
    }
   ],
   "source": []
  },
  {
   "cell_type": "markdown",
   "metadata": {},
   "source": [
    "**Zadanie 16:** Stwórz funkcję `simulate_drive()`, która tworzy instancję klasy `Car`, symuluje jazdę i wywołuje metodę `honk()`."
   ]
  },
  {
   "cell_type": "code",
   "execution_count": 16,
   "metadata": {},
   "outputs": [
    {
     "name": "stdout",
     "output_type": "stream",
     "text": [
      "Pojazd: Honda Civic, Maks. prędkość: 200 km/h, Przebieg: 30000 km\n",
      "Honda Civic trąbi: Beep beep!\n"
     ]
    }
   ],
   "source": []
  },
  {
   "cell_type": "markdown",
   "metadata": {},
   "source": [
    "**Zadanie 17:** Stwórz klasę `Truck`, dziedziczącą po `Vehicle`, z dodatkowym atrybutem `load_capacity` oraz metodą `load_info()`, która wypisuje informacje o ładowności."
   ]
  },
  {
   "cell_type": "code",
   "execution_count": 17,
   "metadata": {},
   "outputs": [
    {
     "name": "stdout",
     "output_type": "stream",
     "text": [
      "Pojazd: MAN Truck, Maks. prędkość: 90 km/h, Przebieg: 200000 km\n",
      "MAN Truck może przewieźć 15 ton ładunku.\n"
     ]
    }
   ],
   "source": []
  },
  {
   "cell_type": "markdown",
   "metadata": {},
   "source": [
    "**Zadanie 18:** Stwórz funkcję `test_vehicles()`, która tworzy instancje klas `Car`, `Bus` i `Truck` oraz wypisuje ich informacje."
   ]
  },
  {
   "cell_type": "code",
   "execution_count": 18,
   "metadata": {},
   "outputs": [
    {
     "name": "stdout",
     "output_type": "stream",
     "text": [
      "Pojazd: Honda Civic, Maks. prędkość: 200 km/h, Przebieg: 30000 km\n",
      "Honda Civic trąbi: Beep beep!\n",
      "Pojazd: Volvo Bus, Maks. prędkość: 120 km/h, Przebieg: 150000 km\n",
      "Liczba miejsc: 60\n",
      "Pojazd: MAN Truck, Maks. prędkość: 90 km/h, Przebieg: 200000 km\n",
      "MAN Truck może przewieźć 15 ton ładunku.\n"
     ]
    }
   ],
   "source": []
  },
  {
   "cell_type": "markdown",
   "metadata": {
    "slideshow": {
     "slide_type": "slide"
    }
   },
   "source": [
    "## Blok 4: System edukacyjny i pracowniczy"
   ]
  },
  {
   "cell_type": "markdown",
   "metadata": {},
   "source": [
    "**Zadanie 19:** Stwórz klasę bazową `Person` z atrybutami: `name` i `age` oraz metodą `info()`, która wypisuje te informacje."
   ]
  },
  {
   "cell_type": "code",
   "execution_count": 19,
   "metadata": {},
   "outputs": [
    {
     "name": "stdout",
     "output_type": "stream",
     "text": [
      "Imię: Kasia, Wiek: 25\n"
     ]
    }
   ],
   "source": []
  },
  {
   "cell_type": "markdown",
   "metadata": {},
   "source": [
    "**Zadanie 20:** Stwórz klasę `Student`, dziedziczącą po `Person`, dodającą atrybut `student_id` oraz metodę `study()`, która symuluje naukę."
   ]
  },
  {
   "cell_type": "code",
   "execution_count": 20,
   "metadata": {},
   "outputs": [
    {
     "name": "stdout",
     "output_type": "stream",
     "text": [
      "Imię: Adam, Wiek: 20\n",
      "Student Adam (ID: S123) uczy się.\n"
     ]
    }
   ],
   "source": []
  },
  {
   "cell_type": "markdown",
   "metadata": {},
   "source": [
    "**Zadanie 21:** Stwórz klasę `Teacher`, dziedziczącą po `Person`, dodającą atrybut `subject` oraz metodę `teach()`, która symuluje prowadzenie zajęć."
   ]
  },
  {
   "cell_type": "code",
   "execution_count": 21,
   "metadata": {},
   "outputs": [
    {
     "name": "stdout",
     "output_type": "stream",
     "text": [
      "Imię: Ewa, Wiek: 35\n",
      "Nauczyciel Ewa prowadzi zajęcia z Matematyka.\n"
     ]
    }
   ],
   "source": []
  },
  {
   "cell_type": "markdown",
   "metadata": {},
   "source": [
    "**Zadanie 22:** Rozszerz klasę `Teacher` o metodę `assign_homework(student)`, która wyświetla informację, że nauczyciel przydzielił zadanie domowe danemu studentowi."
   ]
  },
  {
   "cell_type": "code",
   "execution_count": 22,
   "metadata": {},
   "outputs": [
    {
     "name": "stdout",
     "output_type": "stream",
     "text": [
      "Nauczyciel Ewa przydzielił zadanie domowe studentowi Adam.\n"
     ]
    }
   ],
   "source": []
  },
  {
   "cell_type": "markdown",
   "metadata": {},
   "source": [
    "**Zadanie 23:** Stwórz klasę `Staff`, dziedziczącą po `Person`, dodającą atrybut `department` oraz metodę `work()`, która symuluje wykonywanie pracy."
   ]
  },
  {
   "cell_type": "code",
   "execution_count": 23,
   "metadata": {},
   "outputs": [
    {
     "name": "stdout",
     "output_type": "stream",
     "text": [
      "Imię: Jan, Wiek: 40\n",
      "Pracownik Jan pracuje w dziale Administracja.\n"
     ]
    }
   ],
   "source": []
  },
  {
   "cell_type": "markdown",
   "metadata": {},
   "source": [
    "**Zadanie 24:** Stwórz funkcję `test_education_system()`, która tworzy instancje klas `Student`, `Teacher` i `Staff`, a następnie demonstruje interakcje (np. nauczyciel przydziela zadanie domowe studentowi)."
   ]
  },
  {
   "cell_type": "code",
   "execution_count": 24,
   "metadata": {},
   "outputs": [
    {
     "name": "stdout",
     "output_type": "stream",
     "text": [
      "Imię: Adam, Wiek: 20\n",
      "Imię: Ewa, Wiek: 35\n",
      "Imię: Jan, Wiek: 40\n",
      "Nauczyciel Ewa prowadzi zajęcia z Matematyka.\n",
      "Nauczyciel Ewa przydzielił zadanie domowe studentowi Adam.\n",
      "Student Adam (ID: S123) uczy się.\n",
      "Pracownik Jan pracuje w dziale Administracja.\n"
     ]
    }
   ],
   "source": []
  }
 ],
 "metadata": {
  "kernelspec": {
   "display_name": "Python 3",
   "language": "python",
   "name": "python3"
  },
  "language_info": {
   "codemirror_mode": {
    "name": "ipython",
    "version": 3
   },
   "file_extension": ".py",
   "mimetype": "text/x-python",
   "name": "python",
   "nbconvert_exporter": "python",
   "pygments_lexer": "ipython3",
   "version": "3.13.3"
  }
 },
 "nbformat": 4,
 "nbformat_minor": 4
}
